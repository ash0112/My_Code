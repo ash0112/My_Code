{
 "cells": [
  {
   "cell_type": "markdown",
   "metadata": {},
   "source": [
    "### Importing all the required objects and assigning the URL from which the data needs to extracted"
   ]
  },
  {
   "cell_type": "code",
   "execution_count": null,
   "metadata": {},
   "outputs": [],
   "source": [
    "URL = \"https://en.wikipedia.org/wiki/Taoiseach\"\n",
    "from gazpacho import Soup,get\n",
    "import pandas as pd\n",
    "html = get(URL)\n",
    "\n",
    "soup = Soup(html)"
   ]
  },
  {
   "cell_type": "markdown",
   "metadata": {},
   "source": [
    "### Using Pandas to read the required table"
   ]
  },
  {
   "cell_type": "code",
   "execution_count": null,
   "metadata": {
    "scrolled": false
   },
   "outputs": [],
   "source": [
    "df = pd.read_html(str(soup.find('table')))[3]\n",
    "df = df.loc[1:,2:]\n",
    "df\n"
   ]
  },
  {
   "cell_type": "markdown",
   "metadata": {},
   "source": [
    "### Assigning new Column labels to the above prepared Dataframe"
   ]
  },
  {
   "cell_type": "code",
   "execution_count": null,
   "metadata": {},
   "outputs": [],
   "source": [
    "df.columns=['Name','TermofOfficeStartDate','TermofOfficeEndDate','Party','Tenure','Exec.CouCompParty','vp','VicePresident','Dale']"
   ]
  },
  {
   "cell_type": "code",
   "execution_count": null,
   "metadata": {},
   "outputs": [],
   "source": [
    "df"
   ]
  },
  {
   "cell_type": "markdown",
   "metadata": {},
   "source": [
    "### Extracting all the required columns and rows from the Dataframe using the index numbers"
   ]
  },
  {
   "cell_type": "code",
   "execution_count": null,
   "metadata": {
    "scrolled": false
   },
   "outputs": [],
   "source": [
    "df = df.loc[2:,]\n",
    "df = df.drop([10,11],axis = 0)\n"
   ]
  },
  {
   "cell_type": "markdown",
   "metadata": {},
   "source": [
    "### Splitting the President name and the Constituency details"
   ]
  },
  {
   "cell_type": "code",
   "execution_count": null,
   "metadata": {},
   "outputs": [],
   "source": [
    "df[\"President_Name\"] = df[\"Name\"].str.split(\"(\",expand = True)[0]"
   ]
  },
  {
   "cell_type": "code",
   "execution_count": null,
   "metadata": {},
   "outputs": [],
   "source": [
    "df.head(5)"
   ]
  },
  {
   "cell_type": "code",
   "execution_count": null,
   "metadata": {},
   "outputs": [],
   "source": [
    "df[\"Age\"] = df[\"Name\"].str.split(\"(\",expand = True)[1].str.split(\")\",expand= True)[0]"
   ]
  },
  {
   "cell_type": "code",
   "execution_count": null,
   "metadata": {},
   "outputs": [],
   "source": [
    "df[\"Constituency\"] = df[\"Name\"].str.split(\"(\",expand = True)[1].str.split(\")\",expand= True)[1]"
   ]
  },
  {
   "cell_type": "code",
   "execution_count": null,
   "metadata": {},
   "outputs": [],
   "source": [
    "df.head(5)"
   ]
  },
  {
   "cell_type": "code",
   "execution_count": null,
   "metadata": {},
   "outputs": [],
   "source": [
    "df[\"Constituency1\"] = df[\"Constituency\"].str.split(\"TD for\",expand = True)[1]"
   ]
  },
  {
   "cell_type": "code",
   "execution_count": null,
   "metadata": {},
   "outputs": [],
   "source": [
    "df[\"Constituency2\"] = df[\"Constituency\"].str.split(\"TD for\",expand = True)[2]"
   ]
  },
  {
   "cell_type": "code",
   "execution_count": null,
   "metadata": {},
   "outputs": [],
   "source": [
    "df = df.drop('vp', axis = 1)"
   ]
  },
  {
   "cell_type": "code",
   "execution_count": null,
   "metadata": {},
   "outputs": [],
   "source": [
    "df"
   ]
  },
  {
   "cell_type": "code",
   "execution_count": null,
   "metadata": {},
   "outputs": [],
   "source": [
    "df = df.drop(\"Constituency\",axis=\"columns\")"
   ]
  },
  {
   "cell_type": "code",
   "execution_count": null,
   "metadata": {},
   "outputs": [],
   "source": [
    "import numpy as np"
   ]
  },
  {
   "cell_type": "code",
   "execution_count": null,
   "metadata": {},
   "outputs": [],
   "source": [
    "df.index = np.arange(1,len(df) + 1)"
   ]
  },
  {
   "cell_type": "code",
   "execution_count": null,
   "metadata": {},
   "outputs": [],
   "source": [
    "df"
   ]
  },
  {
   "cell_type": "code",
   "execution_count": null,
   "metadata": {},
   "outputs": [],
   "source": [
    "df\n",
    "type(df)"
   ]
  },
  {
   "cell_type": "markdown",
   "metadata": {},
   "source": [
    "### To change the date format for the start and end dates of Office and also adding today's date to the ongoing Tenure"
   ]
  },
  {
   "cell_type": "code",
   "execution_count": null,
   "metadata": {},
   "outputs": [],
   "source": [
    "df['TermofOfficeStartDate'] = df['TermofOfficeStartDate'].str.split('[',expand = True)[0]\n",
    "\n",
    "df['TermofOfficeEndDate'] = df['TermofOfficeEndDate'].str.split('[',expand = True)[0]\n",
    "\n",
    "\n"
   ]
  },
  {
   "cell_type": "code",
   "execution_count": null,
   "metadata": {},
   "outputs": [],
   "source": [
    "from datetime import datetime\n",
    "df = df.replace(df.loc[44]['TermofOfficeEndDate'],datetime.now())\n",
    "\n",
    "\n",
    "df['TermofOfficeStartDate'] = pd.to_datetime(df['TermofOfficeStartDate'])"
   ]
  },
  {
   "cell_type": "code",
   "execution_count": null,
   "metadata": {},
   "outputs": [],
   "source": [
    "df"
   ]
  },
  {
   "cell_type": "code",
   "execution_count": null,
   "metadata": {},
   "outputs": [],
   "source": [
    "df['TermofOfficeEndDate'] = pd.to_datetime(df['TermofOfficeEndDate'])\n",
    "\n",
    "df['TermofOfficeEndDate'] = df['TermofOfficeEndDate'].astype(str)\n",
    "\n",
    "df['TermofOfficeEndDate'] = df['TermofOfficeEndDate'].str.split(' ', expand = True)[0]\n",
    "\n",
    "df['TermofOfficeEndDate'] \n",
    "\n",
    "df['TermofOfficeEndDate'] = pd.to_datetime(df['TermofOfficeEndDate'])"
   ]
  },
  {
   "cell_type": "code",
   "execution_count": null,
   "metadata": {},
   "outputs": [],
   "source": [
    "df"
   ]
  },
  {
   "cell_type": "markdown",
   "metadata": {},
   "source": [
    "### SQL Statements to create the Database and the table"
   ]
  },
  {
   "cell_type": "raw",
   "metadata": {},
   "source": [
    "create database ElectionDB;\n",
    "grant all on ElectionDB.* to 'electionuser' identified by 'electionp@wd';\n",
    "flush privileges;\n",
    "quit\n",
    "\n",
    "===\n",
    "\n",
    "mysql -u electionuser -p ElectionDB \n",
    "Enter password: \n",
    "\n",
    "===\n",
    "\n",
    "create table President(\n",
    "    Name varchar(200),\n",
    "    TOO_StrtDate varchar(100),\n",
    "    TOO_EndDate varchar(100),\n",
    "    Party varchar(50),\n",
    "    Tenure varchar(20),\n",
    "    EC_CompParty varchar(80),\n",
    "    VicePresident varchar(50),\n",
    "    Dale varchar(30),\n",
    "    PresidentName varchar(50),\n",
    "    Age varchar(30),\n",
    "    Constituency1 varchar(200),\n",
    "    Constituency2 varchar(200) );\n"
   ]
  },
  {
   "cell_type": "code",
   "execution_count": null,
   "metadata": {},
   "outputs": [],
   "source": [
    "config = {\n",
    "    'user' : 'electionuser',\n",
    "    'password' : 'electionp@wd',\n",
    "    'host' : '127.0.0.1',\n",
    "    'database' : 'ElectionDB'\n",
    "}"
   ]
  },
  {
   "cell_type": "code",
   "execution_count": null,
   "metadata": {},
   "outputs": [],
   "source": [
    "import DBcm"
   ]
  },
  {
   "cell_type": "code",
   "execution_count": null,
   "metadata": {},
   "outputs": [],
   "source": [
    "with DBcm.UseDatabase(config) as Cursor:\n",
    "    SQL = \"\"\"INSERT INTO President(Name,TOO_StrtDate,TOO_EndDate,Party,Tenure,EC_CompParty,VicePresident,Dale,PresidentName,Age,Constituency1,Constituency2) VALUES (%s, %s, %s, %s, %s, %s, %s, %s, %s, %s, %s, %s)\"\"\"\n",
    "    i=0\n",
    "    while i < len(df):\n",
    "        data = [row for row in df.iloc[i]]\n",
    "        data1 = [tuple(data)]\n",
    "        Cursor.executemany(SQL,data1)\n",
    "        i+=1\n",
    "        "
   ]
  },
  {
   "cell_type": "markdown",
   "metadata": {},
   "source": [
    "### (a) List of constituencies in Ireland which have produced a Taoiseach - Answer"
   ]
  },
  {
   "cell_type": "raw",
   "metadata": {},
   "source": [
    "-- We initially cleaned both the Constituency 1 and 2 data using SQL: \n",
    "\n",
    "update President set Constituency1 = ' Carlow–Kilkenny' where Constituency1 like '%1927';\n",
    "\n",
    "update President set Constituency1 = ' Cork Borough' where Constituency1 like '%1969';\n",
    "\n",
    "update President set Constituency2 = ' Cork Borough' where Constituency2 like '%1927'; \n",
    "\n",
    "update President set Constituency2 = ' Cork City North-West' where Constituency2 like '%1969'; \n",
    "\n",
    "=====\n",
    "\n",
    "select distinct Constituency1, Constituency2 from President;"
   ]
  },
  {
   "cell_type": "markdown",
   "metadata": {},
   "source": [
    "### (b) Political party has produced the most individual Taoiseachs"
   ]
  },
  {
   "cell_type": "raw",
   "metadata": {},
   "source": [
    "select Party, count(distinct PresidentName) as no_of_Presidents from President group by Party order by count(distinct PresidentName) desc;"
   ]
  },
  {
   "cell_type": "markdown",
   "metadata": {},
   "source": [
    "### Creating a new dataframe "
   ]
  },
  {
   "cell_type": "code",
   "execution_count": null,
   "metadata": {},
   "outputs": [],
   "source": [
    "vpdf = df[[\"TermofOfficeEndDate\",\"VicePresident\",\"President_Name\"]]"
   ]
  },
  {
   "cell_type": "code",
   "execution_count": null,
   "metadata": {},
   "outputs": [],
   "source": [
    "vpdf"
   ]
  },
  {
   "cell_type": "markdown",
   "metadata": {},
   "source": [
    "### (c) List of Presidents who previously held the post of Vice President "
   ]
  },
  {
   "cell_type": "code",
   "execution_count": null,
   "metadata": {},
   "outputs": [],
   "source": [
    "data = []\n",
    "i=0\n",
    "j=0\n",
    "bflag = False\n",
    "for i in range(0,len(vpdf)-1):\n",
    "    for j in range(0,len(vpdf)-2):\n",
    "        if i< len(vpdf) and j< len(vpdf):\n",
    "            if vpdf.iloc[i][\"VicePresident\"] == vpdf.iloc[j+1][\"President_Name\"]:\n",
    "                if data != vpdf.iloc[i][\"VicePresident\"]:\n",
    "                    data.append(vpdf.iloc[i][\"VicePresident\"])\n",
    "                    bflag = True\n",
    "                    if bflag == True:\n",
    "                        break"
   ]
  },
  {
   "cell_type": "code",
   "execution_count": null,
   "metadata": {},
   "outputs": [],
   "source": [
    "data"
   ]
  },
  {
   "cell_type": "code",
   "execution_count": null,
   "metadata": {},
   "outputs": [],
   "source": [
    "data = set(data)"
   ]
  },
  {
   "cell_type": "markdown",
   "metadata": {},
   "source": [
    "### Answer to the above question (Question - c)"
   ]
  },
  {
   "cell_type": "code",
   "execution_count": null,
   "metadata": {},
   "outputs": [],
   "source": [
    "data"
   ]
  },
  {
   "cell_type": "code",
   "execution_count": null,
   "metadata": {},
   "outputs": [],
   "source": [
    "df"
   ]
  },
  {
   "cell_type": "markdown",
   "metadata": {},
   "source": [
    "### Creating a new dataframe"
   ]
  },
  {
   "cell_type": "code",
   "execution_count": null,
   "metadata": {},
   "outputs": [],
   "source": [
    "vpdf12 = df[[\"President_Name\",\"VicePresident\",\"Party\",\"TermofOfficeStartDate\",\"TermofOfficeEndDate\"]]"
   ]
  },
  {
   "cell_type": "code",
   "execution_count": null,
   "metadata": {},
   "outputs": [],
   "source": [
    "vpdf12"
   ]
  },
  {
   "cell_type": "markdown",
   "metadata": {},
   "source": [
    "### To calculate Years,Months and Days of each office"
   ]
  },
  {
   "cell_type": "code",
   "execution_count": null,
   "metadata": {},
   "outputs": [],
   "source": [
    "val = ((vpdf12['TermofOfficeEndDate'] - vpdf12['TermofOfficeStartDate'])/np.timedelta64(1,'Y'))"
   ]
  },
  {
   "cell_type": "code",
   "execution_count": null,
   "metadata": {},
   "outputs": [],
   "source": [
    "val12 = val.astype(str)"
   ]
  },
  {
   "cell_type": "code",
   "execution_count": null,
   "metadata": {},
   "outputs": [],
   "source": [
    "val"
   ]
  },
  {
   "cell_type": "code",
   "execution_count": null,
   "metadata": {},
   "outputs": [],
   "source": [
    "vpdf12['Years'] = val12.str.split('.',expand = True)[0]"
   ]
  },
  {
   "cell_type": "code",
   "execution_count": null,
   "metadata": {},
   "outputs": [],
   "source": [
    "x = val12.str.split('.',expand = True)[1]"
   ]
  },
  {
   "cell_type": "code",
   "execution_count": null,
   "metadata": {},
   "outputs": [],
   "source": [
    "x2 = \"0.\" +x\n"
   ]
  },
  {
   "cell_type": "code",
   "execution_count": null,
   "metadata": {},
   "outputs": [],
   "source": [
    "x3 = x2.astype(float)"
   ]
  },
  {
   "cell_type": "code",
   "execution_count": null,
   "metadata": {},
   "outputs": [],
   "source": [
    "month_val = x3*12\n"
   ]
  },
  {
   "cell_type": "code",
   "execution_count": null,
   "metadata": {},
   "outputs": [],
   "source": [
    "month_val"
   ]
  },
  {
   "cell_type": "code",
   "execution_count": null,
   "metadata": {},
   "outputs": [],
   "source": [
    "month_val = month_val.astype(str)"
   ]
  },
  {
   "cell_type": "code",
   "execution_count": null,
   "metadata": {},
   "outputs": [],
   "source": [
    "upd_month_val = month_val.str.split('.',expand = True)"
   ]
  },
  {
   "cell_type": "code",
   "execution_count": null,
   "metadata": {},
   "outputs": [],
   "source": [
    "vpdf12['Months'] = upd_month_val[0]"
   ]
  },
  {
   "cell_type": "code",
   "execution_count": null,
   "metadata": {},
   "outputs": [],
   "source": [
    "vpdf12"
   ]
  },
  {
   "cell_type": "code",
   "execution_count": null,
   "metadata": {},
   "outputs": [],
   "source": [
    "upd_month_val[1]"
   ]
  },
  {
   "cell_type": "code",
   "execution_count": null,
   "metadata": {},
   "outputs": [],
   "source": [
    "days = upd_month_val[1]"
   ]
  },
  {
   "cell_type": "code",
   "execution_count": null,
   "metadata": {},
   "outputs": [],
   "source": [
    "days_new = \"0.\" + days"
   ]
  },
  {
   "cell_type": "code",
   "execution_count": null,
   "metadata": {},
   "outputs": [],
   "source": [
    "days_update = days_new.astype(float)"
   ]
  },
  {
   "cell_type": "code",
   "execution_count": null,
   "metadata": {},
   "outputs": [],
   "source": [
    "days_final = days_update *30"
   ]
  },
  {
   "cell_type": "code",
   "execution_count": null,
   "metadata": {},
   "outputs": [],
   "source": [
    "days_final"
   ]
  },
  {
   "cell_type": "code",
   "execution_count": null,
   "metadata": {},
   "outputs": [],
   "source": [
    "days_strval = days_final.astype(str)"
   ]
  },
  {
   "cell_type": "code",
   "execution_count": null,
   "metadata": {},
   "outputs": [],
   "source": [
    "days_splitted = days_strval.str.split('.',expand = True)"
   ]
  },
  {
   "cell_type": "code",
   "execution_count": null,
   "metadata": {},
   "outputs": [],
   "source": [
    "day_1 = days_splitted[0]\n",
    "day_1 = day_1.astype(float)\n",
    "day_2 = days_splitted[1]"
   ]
  },
  {
   "cell_type": "code",
   "execution_count": null,
   "metadata": {},
   "outputs": [],
   "source": [
    "day_3 = \"0.\" +day_2"
   ]
  },
  {
   "cell_type": "code",
   "execution_count": null,
   "metadata": {},
   "outputs": [],
   "source": [
    "day_3 = day_3.astype(float)"
   ]
  },
  {
   "cell_type": "markdown",
   "metadata": {},
   "source": [
    "### We are rounding off all the days which are having decimals greater than 0.2 to the next integer"
   ]
  },
  {
   "cell_type": "code",
   "execution_count": null,
   "metadata": {},
   "outputs": [],
   "source": [
    "for i in range(1,46):\n",
    "    if day_3[i] >= 0.2:\n",
    "        day_1[i] = day_1[i] + 1\n",
    "    else:\n",
    "        day_1[i] = day_1[i]"
   ]
  },
  {
   "cell_type": "code",
   "execution_count": null,
   "metadata": {},
   "outputs": [],
   "source": [
    "day_1"
   ]
  },
  {
   "cell_type": "code",
   "execution_count": null,
   "metadata": {},
   "outputs": [],
   "source": [
    "vpdf12['Days'] = day_1"
   ]
  },
  {
   "cell_type": "code",
   "execution_count": null,
   "metadata": {},
   "outputs": [],
   "source": [
    "vpdf12"
   ]
  },
  {
   "cell_type": "markdown",
   "metadata": {},
   "source": [
    "### Creating a new table for further analysis"
   ]
  },
  {
   "cell_type": "raw",
   "metadata": {},
   "source": [
    "create table PresidentTerm(\n",
    "    PresidentName varchar(50),\n",
    "    VicePresident varchar(50),\n",
    "    Party varchar(50),\n",
    "    TOO_StrtDate varchar(100),\n",
    "    TOO_EndDate varchar(100),\n",
    "    Years varchar(50),\n",
    "    Months varchar(50),\n",
    "    Days varchar(50));"
   ]
  },
  {
   "cell_type": "code",
   "execution_count": null,
   "metadata": {},
   "outputs": [],
   "source": [
    "with DBcm.UseDatabase(config) as Cursor:\n",
    "    SQL = \"\"\"INSERT INTO PresidentTerm(PresidentName,VicePresident,Party,TOO_StrtDate,TOO_EndDate,Years,Months,Days) VALUES (%s, %s, %s, %s, %s, %s, %s, %s)\"\"\"\n",
    "    i=0\n",
    "    while i < len(vpdf12):\n",
    "        data = [row for row in vpdf12.iloc[i]]\n",
    "        data1 = [tuple(data)]\n",
    "        Cursor.executemany(SQL,data1)\n",
    "        i+=1\n",
    "        "
   ]
  },
  {
   "cell_type": "code",
   "execution_count": null,
   "metadata": {},
   "outputs": [],
   "source": [
    "df"
   ]
  },
  {
   "cell_type": "code",
   "execution_count": null,
   "metadata": {},
   "outputs": [],
   "source": [
    "vpdf12"
   ]
  },
  {
   "cell_type": "markdown",
   "metadata": {},
   "source": [
    "### (e) Taoiseach who held the office for the longest amount of uninterrupted time - Answer"
   ]
  },
  {
   "cell_type": "code",
   "execution_count": null,
   "metadata": {},
   "outputs": [],
   "source": [
    "for i in range(0,44):\n",
    "    if vpdf12.iloc[i]['President_Name'] == vpdf12.iloc[i+1]['President_Name'] and vpdf12.iloc[i]['TermofOfficeEndDate'] ==  vpdf12.iloc[i+1]['TermofOfficeStartDate']:\n",
    "        \n",
    "        var_PresidentName = (vpdf12.iloc[i]['President_Name'])\n",
    "        var_years = (int(vpdf12.iloc[i]['Years'])+ int(vpdf12.iloc[i+1]['Years']))\n",
    "        var_months = (int(vpdf12.iloc[i]['Months'])+ int(vpdf12.iloc[i+1]['Months']))\n",
    "        var_days = (int(vpdf12.iloc[i]['Days'])+ int(vpdf12.iloc[i+1]['Days']))\n",
    "        print(var_PresidentName,'-' ,var_years,'Years' ,var_months,'Months' ,var_days,'Days')\n",
    "        \n",
    "        "
   ]
  },
  {
   "cell_type": "markdown",
   "metadata": {},
   "source": [
    "### (d) Political party who held the office of Taoiseach for the longest amount"
   ]
  },
  {
   "cell_type": "raw",
   "metadata": {},
   "source": [
    "==> We are creating a temporary table with the distinct values and we are using this table to get the answer to the above question :\n",
    "\n",
    "create temporary table sample as ( select distinct PresidentName, Party , TOO_StrtDate, TOO_EndDate,Years,Months,Days from PresidentTerm);\n",
    "\n",
    "select Party, sum(Years) as Years, sum( Months ) as Months, sum(Days) as Days from sample group by Party order by sum(Years) desc;\n",
    "\n",
    "Ans - Fianna Fáil"
   ]
  },
  {
   "cell_type": "markdown",
   "metadata": {},
   "source": [
    "### (f) Individual politician who held the office of Taoiseach for the shortest amount of time"
   ]
  },
  {
   "cell_type": "raw",
   "metadata": {},
   "source": [
    "We are using the same temporary table that was created to answer the question (d) above - Table - 'sample';\n",
    "\n",
    "If its a new window, please find the below create query:\n",
    "\n",
    "create temporary table sample as ( select distinct PresidentName, Party , TOO_StrtDate, TOO_EndDate,Years,Months,Days from PresidentTerm);\n",
    "\n",
    "select PresidentName,sum(Years) as Years,sum(Months) as Months,sum(Days) as Days from sample group by PresidentName order by sum(Years),sum(Months);\n",
    "\n",
    "Ans - Leo Varadkar - 2 Years"
   ]
  },
  {
   "cell_type": "markdown",
   "metadata": {},
   "source": [
    "### (g) Political party who held the office of Taoiseach for the largest number of Dáils"
   ]
  },
  {
   "cell_type": "raw",
   "metadata": {},
   "source": [
    "select Party, count(Dale) from President group by Party order by count(Dale) desc;\n",
    "\n",
    "Ans - Fianna Fáil "
   ]
  },
  {
   "cell_type": "markdown",
   "metadata": {},
   "source": [
    "### (h) Politician who held the office of Taoiseach for the most number of Dáils"
   ]
  },
  {
   "cell_type": "raw",
   "metadata": {},
   "source": [
    "select PresidentName, count(Dale) from President group by PresidentName order by count(Dale) desc;\n",
    "\n",
    "Ans - Éamon de Valera  "
   ]
  },
  {
   "cell_type": "markdown",
   "metadata": {},
   "source": [
    "### (i) Age was each Taoiseach on the day they assumed office"
   ]
  },
  {
   "cell_type": "raw",
   "metadata": {},
   "source": [
    "select distinct PresidentName , case when Age like 'b.%' then substr(TOO_StrtDate,1,4) - substr(Age,4,4) else substr(TOO_StrtDate,1,4) - substr(Age,1,4) end as Age_on_startofOffice from President group by PresidentName;"
   ]
  },
  {
   "cell_type": "markdown",
   "metadata": {},
   "source": [
    "### (j) Politician who was the oldest on the last day of their term"
   ]
  },
  {
   "cell_type": "raw",
   "metadata": {},
   "source": [
    "select distinct PresidentName , case when Age like 'b.%' then substr(max(TOO_EndDate),1,4) - substr(Age,4,4) else substr(max(TOO_EndDate),1,4) - substr(Age,1,4) end as Age_on_EndofOffice from President group by PresidentName order by Age_on_EndofOffice desc;\n",
    "\n",
    "Ans - Éamon de Valera "
   ]
  },
  {
   "cell_type": "markdown",
   "metadata": {},
   "source": [
    "###  Which Irish political party is the most successful? "
   ]
  },
  {
   "cell_type": "raw",
   "metadata": {},
   "source": [
    "We ran summarize from the above questions and also we ran below set of SQL queries on the temporary table that was created.\n",
    "\n",
    "If its a new session :\n",
    "\n",
    "create temporary table sample as ( select distinct PresidentName, Party , TOO_StrtDate, TOO_EndDate,Years,Months,Days from PresidentTerm);\n",
    "\n",
    "select * from sample where Party = 'Fianna Fáil';\n",
    "\n",
    "select distinct PresidentName from sample where Party = 'Fianna Fáil';\n",
    "=========\n",
    "\n",
    "Ans - Depending on the answer to the question(d), Fianna Fáil controlled the office most of the time and seven presidents were from the Fianna Fáil party (nearly 50% of the presidents) throughout the office. ianna Fáil's party also included President - Éamon de Valera, who ran for the most uninterrupted time (for 15 years). Hence to answer the question, Fianna Fáil is the most successful party.  "
   ]
  }
 ],
 "metadata": {
  "kernelspec": {
   "display_name": "Python 3",
   "language": "python",
   "name": "python3"
  },
  "language_info": {
   "codemirror_mode": {
    "name": "ipython",
    "version": 3
   },
   "file_extension": ".py",
   "mimetype": "text/x-python",
   "name": "python",
   "nbconvert_exporter": "python",
   "pygments_lexer": "ipython3",
   "version": "3.7.3"
  }
 },
 "nbformat": 4,
 "nbformat_minor": 2
}
