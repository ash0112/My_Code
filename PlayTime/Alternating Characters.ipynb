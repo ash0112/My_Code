{
 "cells": [
  {
   "cell_type": "code",
   "execution_count": 1,
   "metadata": {},
   "outputs": [],
   "source": [
    "import pandas as pd\n",
    "import numpy as np"
   ]
  },
  {
   "cell_type": "code",
   "execution_count": 23,
   "metadata": {},
   "outputs": [
    {
     "name": "stdout",
     "output_type": "stream",
     "text": [
      "5\n",
      "AAAA BBBBB ABABABAB BABABA AAABBB\n"
     ]
    }
   ],
   "source": [
    "n = int(input())\n",
    "s = list(map(str, input().rstrip().split()))"
   ]
  },
  {
   "cell_type": "code",
   "execution_count": 24,
   "metadata": {},
   "outputs": [
    {
     "data": {
      "text/plain": [
       "['AAAA', 'BBBBB', 'ABABABAB', 'BABABA', 'AAABBB']"
      ]
     },
     "execution_count": 24,
     "metadata": {},
     "output_type": "execute_result"
    }
   ],
   "source": [
    "s"
   ]
  },
  {
   "cell_type": "code",
   "execution_count": 27,
   "metadata": {},
   "outputs": [
    {
     "name": "stdout",
     "output_type": "stream",
     "text": [
      "There are 3 elements that must be deleted from AAAA\n",
      "There are 4 elements that must be deleted from BBBBB\n",
      "There are 0 elements that must be deleted from ABABABAB\n",
      "There are 0 elements that must be deleted from BABABA\n",
      "There are 4 elements that must be deleted from AAABBB\n"
     ]
    }
   ],
   "source": [
    "\n",
    "for i in range(n):\n",
    "    x = list(s[i])\n",
    "    a = 0\n",
    "    for j in range(len(x)-1):\n",
    "        if x[j] == x[j+1]:\n",
    "            a+=1\n",
    "    print(\"There are {} elements that must be deleted from {}\".format(a,s[i]))"
   ]
  },
  {
   "cell_type": "code",
   "execution_count": 28,
   "metadata": {},
   "outputs": [
    {
     "data": {
      "text/plain": [
       "['A', 'A', 'A', 'B', 'B', 'B']"
      ]
     },
     "execution_count": 28,
     "metadata": {},
     "output_type": "execute_result"
    }
   ],
   "source": [
    "x"
   ]
  },
  {
   "cell_type": "code",
   "execution_count": null,
   "metadata": {},
   "outputs": [],
   "source": []
  }
 ],
 "metadata": {
  "kernelspec": {
   "display_name": "Python 3",
   "language": "python",
   "name": "python3"
  },
  "language_info": {
   "codemirror_mode": {
    "name": "ipython",
    "version": 3
   },
   "file_extension": ".py",
   "mimetype": "text/x-python",
   "name": "python",
   "nbconvert_exporter": "python",
   "pygments_lexer": "ipython3",
   "version": "3.7.6"
  }
 },
 "nbformat": 4,
 "nbformat_minor": 4
}
