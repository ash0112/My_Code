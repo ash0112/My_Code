{
 "cells": [
  {
   "cell_type": "code",
   "execution_count": 38,
   "metadata": {},
   "outputs": [],
   "source": [
    "import pandas as pd\n",
    "import numpy as np\n",
    "\n",
    "\n"
   ]
  },
  {
   "cell_type": "code",
   "execution_count": 42,
   "metadata": {},
   "outputs": [
    {
     "name": "stdout",
     "output_type": "stream",
     "text": [
      "15\n",
      "10 20 30 60 50 80 90 70 50 40 10 20 90 60 50\n"
     ]
    }
   ],
   "source": [
    "n = int(input())\n",
    "\n",
    "ar = list(map(int, input().rstrip().split()))"
   ]
  },
  {
   "cell_type": "code",
   "execution_count": 43,
   "metadata": {},
   "outputs": [
    {
     "data": {
      "text/plain": [
       "5.0"
      ]
     },
     "execution_count": 43,
     "metadata": {},
     "output_type": "execute_result"
    }
   ],
   "source": [
    "ardf = pd.DataFrame(ar)\n",
    "\n",
    "ardf.columns = ['Numbers']\n",
    "\n",
    "ardf1 = pd.DataFrame(ardf.groupby('Numbers')['Numbers'].count())\n",
    "\n",
    "ardf1.columns = ['Count']\n",
    "\n",
    "ardf1['No of Pairs'] = ardf1['Count']/2\n",
    "\n",
    "ardf1['No of Pairs'] = ardf1['No of Pairs'].apply(np.floor)\n",
    "\n",
    "ardf1['No of Pairs'].sum()"
   ]
  },
  {
   "cell_type": "code",
   "execution_count": 44,
   "metadata": {},
   "outputs": [
    {
     "name": "stdout",
     "output_type": "stream",
     "text": [
      "There are 5.0 number of pairs in the given list\n"
     ]
    }
   ],
   "source": [
    "print('There are {} number of pairs in the given list'.format(ardf1['No of Pairs'].sum()))"
   ]
  },
  {
   "cell_type": "code",
   "execution_count": null,
   "metadata": {},
   "outputs": [],
   "source": []
  }
 ],
 "metadata": {
  "kernelspec": {
   "display_name": "Python 3",
   "language": "python",
   "name": "python3"
  },
  "language_info": {
   "codemirror_mode": {
    "name": "ipython",
    "version": 3
   },
   "file_extension": ".py",
   "mimetype": "text/x-python",
   "name": "python",
   "nbconvert_exporter": "python",
   "pygments_lexer": "ipython3",
   "version": "3.7.6"
  }
 },
 "nbformat": 4,
 "nbformat_minor": 4
}
