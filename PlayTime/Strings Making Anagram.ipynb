{
 "cells": [
  {
   "cell_type": "code",
   "execution_count": 1,
   "metadata": {},
   "outputs": [],
   "source": [
    "import pandas as pd\n",
    "import numpy as np"
   ]
  },
  {
   "cell_type": "code",
   "execution_count": 11,
   "metadata": {},
   "outputs": [
    {
     "name": "stdout",
     "output_type": "stream",
     "text": [
      "cde\n",
      "abc\n"
     ]
    }
   ],
   "source": [
    "a  = input()\n",
    "b = input()\n"
   ]
  },
  {
   "cell_type": "code",
   "execution_count": 12,
   "metadata": {},
   "outputs": [
    {
     "name": "stdout",
     "output_type": "stream",
     "text": [
      "The number of elements that must be deleted from string a is 2 and they are ['d', 'e']\n",
      "The number of elements that must be deleted from string b is 2 and they are ['a', 'b']\n"
     ]
    }
   ],
   "source": [
    "a1 = list(a)\n",
    "b1 = list(b)\n",
    "\n",
    "x = [word for word in a if word not in b1]\n",
    "\n",
    "y = [word for word in b if word not in a1]\n",
    "\n",
    "print(\"The number of elements that must be deleted from string a is {} and they are {}\".format(len(x), x))\n",
    "print(\"The number of elements that must be deleted from string b is {} and they are {}\".format(len(y), y))"
   ]
  },
  {
   "cell_type": "code",
   "execution_count": null,
   "metadata": {},
   "outputs": [],
   "source": []
  }
 ],
 "metadata": {
  "kernelspec": {
   "display_name": "Python 3",
   "language": "python",
   "name": "python3"
  },
  "language_info": {
   "codemirror_mode": {
    "name": "ipython",
    "version": 3
   },
   "file_extension": ".py",
   "mimetype": "text/x-python",
   "name": "python",
   "nbconvert_exporter": "python",
   "pygments_lexer": "ipython3",
   "version": "3.7.6"
  }
 },
 "nbformat": 4,
 "nbformat_minor": 4
}
