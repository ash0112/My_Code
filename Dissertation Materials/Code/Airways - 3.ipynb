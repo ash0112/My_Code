{
 "cells": [
  {
   "cell_type": "code",
   "execution_count": null,
   "metadata": {},
   "outputs": [],
   "source": [
    "import tabula\n",
    "import pandas as pd\n",
    "import numpy as np\n",
    "\n",
    "filepath = \"../Learning/data/Dissertation/Airways/Total_2015.pdf\""
   ]
  },
  {
   "cell_type": "code",
   "execution_count": null,
   "metadata": {},
   "outputs": [],
   "source": [
    "def Page(df):\n",
    "    df.columns = ['Sr.No','Airports','Passengers']\n",
    "    df = df.set_index('Sr.No')\n",
    "    return df"
   ]
  },
  {
   "cell_type": "code",
   "execution_count": null,
   "metadata": {},
   "outputs": [],
   "source": [
    "def Page1(df):\n",
    "    df = df.columns.to_frame().T.append(df, ignore_index=True)\n",
    "    df.columns = range(len(df.columns))\n",
    "    return df"
   ]
  },
  {
   "cell_type": "code",
   "execution_count": null,
   "metadata": {},
   "outputs": [],
   "source": [
    "def Main(df):\n",
    "    df['Sr.No'] = df['Unnamed: 0'].str.split(\" \",expand = True)[0]\n",
    "    df['Airports'] = df['Unnamed: 0'].str.split(\" \",expand = True)[1]\n",
    "    df = df[['Sr.No','Airports','Unnamed: 2']].set_index('Sr.No')\n",
    "    #df.columns = ['Airports','Passengers(Aug)']\n",
    "    return df\n",
    "    "
   ]
  },
  {
   "cell_type": "code",
   "execution_count": null,
   "metadata": {},
   "outputs": [],
   "source": [
    "def Main1(df):\n",
    "    df = df[['SL. NO.', 'AIRPORT', 'PASSENGERS (IN NOS.)']].dropna().drop([22,30,39,56,57,58])\n",
    "    df1 = Page(df)\n",
    "    return df"
   ]
  },
  {
   "cell_type": "code",
   "execution_count": null,
   "metadata": {},
   "outputs": [],
   "source": [
    "df = tabula.read_pdf(filepath,pages = 1, multiple_tables = True)\n",
    "df_1 = pd.DataFrame(df[0])"
   ]
  },
  {
   "cell_type": "code",
   "execution_count": null,
   "metadata": {},
   "outputs": [],
   "source": [
    "df_1.columns"
   ]
  },
  {
   "cell_type": "code",
   "execution_count": null,
   "metadata": {},
   "outputs": [],
   "source": [
    "df_1 = df_1[['SL. NO.', 'AIRPORT', 'PASSENGERS (IN NOS.)']].dropna().drop([22,30,39,56,57,58])\n",
    "df_15_1 = Page(df_1)\n",
    "df_15_1.columns = ['Airports','Passengers(Jan)']"
   ]
  },
  {
   "cell_type": "code",
   "execution_count": null,
   "metadata": {},
   "outputs": [],
   "source": [
    "df = tabula.read_pdf(filepath,pages = 2, multiple_tables = True)\n",
    "df_2 = pd.DataFrame(df[0])"
   ]
  },
  {
   "cell_type": "code",
   "execution_count": null,
   "metadata": {},
   "outputs": [],
   "source": [
    "df_15_2 = Main1(df_2)"
   ]
  },
  {
   "cell_type": "code",
   "execution_count": null,
   "metadata": {},
   "outputs": [],
   "source": [
    "df_15_2 = Page(df_15_2)\n",
    "df_15_2.columns = ['Airports','Passengers(Feb)']"
   ]
  },
  {
   "cell_type": "code",
   "execution_count": null,
   "metadata": {},
   "outputs": [],
   "source": [
    "df = tabula.read_pdf(filepath,pages = 3, multiple_tables = True)\n",
    "df_3 = pd.DataFrame(df[0])"
   ]
  },
  {
   "cell_type": "code",
   "execution_count": null,
   "metadata": {},
   "outputs": [],
   "source": [
    "df_3 = Main1(df_3)\n",
    "df_15_3 = Page(df_3)\n",
    "df_15_3.columns = ['Airports','Passengers(Mar)']"
   ]
  },
  {
   "cell_type": "code",
   "execution_count": null,
   "metadata": {},
   "outputs": [],
   "source": [
    "df = tabula.read_pdf(filepath,pages = 4, multiple_tables = True)\n",
    "df_4 = pd.DataFrame(df[1])"
   ]
  },
  {
   "cell_type": "code",
   "execution_count": null,
   "metadata": {},
   "outputs": [],
   "source": [
    "df_4_1 = Page1(df_4)\n",
    "df_4_2 = Page1(pd.DataFrame(df[2]))\n",
    "df_4_3 = Page1(pd.DataFrame(df[3]))\n",
    "df_4_4 = Page1(pd.DataFrame(df[4]))\n",
    "frame = [df_4_1,df_4_2,df_4_3,df_4_4]\n",
    "sample = pd.concat(frame)"
   ]
  },
  {
   "cell_type": "code",
   "execution_count": null,
   "metadata": {},
   "outputs": [],
   "source": [
    "sample = sample[[0,1,2]].dropna().reset_index(drop = True).drop([18,25,34,79,80,81])\n",
    "sample = Page(sample)\n",
    "sample.columns = ['Airports','Passengers(Apr)']\n",
    "\n",
    "df_15_4 = sample"
   ]
  },
  {
   "cell_type": "code",
   "execution_count": null,
   "metadata": {},
   "outputs": [],
   "source": [
    "df_15_4.shape"
   ]
  },
  {
   "cell_type": "code",
   "execution_count": null,
   "metadata": {},
   "outputs": [],
   "source": [
    "df = tabula.read_pdf(filepath,pages = 5, multiple_tables = True)\n",
    "df_5 = pd.DataFrame(df[0])"
   ]
  },
  {
   "cell_type": "code",
   "execution_count": null,
   "metadata": {},
   "outputs": [],
   "source": [
    "df_5.columns"
   ]
  },
  {
   "cell_type": "code",
   "execution_count": null,
   "metadata": {},
   "outputs": [],
   "source": [
    "sample = df_5[['SL. NO.', 'AIRPORT', 'PASSENGERS (IN NOS.)']].dropna().drop([21,29,39,86,87,88])\n",
    "sample = Page(sample)\n",
    "sample.columns = ['Airports','Passengers(May)']\n",
    "df_15_5 = sample"
   ]
  },
  {
   "cell_type": "code",
   "execution_count": null,
   "metadata": {},
   "outputs": [],
   "source": [
    "df = tabula.read_pdf(filepath,pages = 6, multiple_tables = True)\n",
    "df_6 = pd.DataFrame(df[0])"
   ]
  },
  {
   "cell_type": "code",
   "execution_count": null,
   "metadata": {},
   "outputs": [],
   "source": [
    "sample = df_6[['SL. NO.', 'AIRPORT', 'PASSENGERS (IN NOS.)']].dropna().drop([21,29,39])\n",
    "sample = Page(sample)\n",
    "sample.columns = ['Airports','Passengers(Jun)']"
   ]
  },
  {
   "cell_type": "code",
   "execution_count": null,
   "metadata": {},
   "outputs": [],
   "source": [
    "df = tabula.read_pdf(filepath,pages = 7, multiple_tables = True)\n",
    "df_7 = pd.DataFrame(df[0])"
   ]
  },
  {
   "cell_type": "code",
   "execution_count": null,
   "metadata": {},
   "outputs": [],
   "source": [
    "df_7 = Page1(df_7)"
   ]
  },
  {
   "cell_type": "code",
   "execution_count": null,
   "metadata": {},
   "outputs": [],
   "source": [
    "df_7 = df_7[[0,1,2]].dropna().drop([31,32,33])\n",
    "df_7 = Page(df_7)\n",
    "df_7.columns = ['Airports','Passengers(Jun)']"
   ]
  },
  {
   "cell_type": "code",
   "execution_count": null,
   "metadata": {},
   "outputs": [],
   "source": [
    "frame = [sample,df_7]\n",
    "df_15_6 = pd.concat(frame)"
   ]
  },
  {
   "cell_type": "code",
   "execution_count": null,
   "metadata": {},
   "outputs": [],
   "source": [
    "df = tabula.read_pdf(filepath,pages = 8, multiple_tables = True)\n",
    "df_8 = pd.DataFrame(df[0])"
   ]
  },
  {
   "cell_type": "code",
   "execution_count": null,
   "metadata": {},
   "outputs": [],
   "source": [
    "df_8.columns"
   ]
  },
  {
   "cell_type": "code",
   "execution_count": null,
   "metadata": {},
   "outputs": [],
   "source": [
    "sample = df_8[['Unnamed: 0', 'Unnamed: 1', 'Unnamed: 2']].dropna()\n",
    "sample = Page(sample)\n",
    "sample.columns = ['Airports','Passengers(Jul)']"
   ]
  },
  {
   "cell_type": "code",
   "execution_count": null,
   "metadata": {},
   "outputs": [],
   "source": [
    "df = tabula.read_pdf(filepath,pages = 9, multiple_tables = True)\n",
    "df_9 = pd.DataFrame(df[0])"
   ]
  },
  {
   "cell_type": "code",
   "execution_count": null,
   "metadata": {},
   "outputs": [],
   "source": [
    "df_9 = Page1(df_9)\n",
    "df_9 = df_9[[0,1,2]].dropna().drop([31,32,33])\n",
    "df_9 = Page(df_9)\n",
    "df_9.columns = ['Airports','Passengers(Jul)']"
   ]
  },
  {
   "cell_type": "code",
   "execution_count": null,
   "metadata": {},
   "outputs": [],
   "source": [
    "frame = [sample,df_9]\n",
    "df_15_7 = pd.concat(frame)\n"
   ]
  },
  {
   "cell_type": "code",
   "execution_count": null,
   "metadata": {},
   "outputs": [],
   "source": [
    "df = tabula.read_pdf(filepath,pages = 10, multiple_tables = True)\n",
    "df_10 = pd.DataFrame(df[0])"
   ]
  },
  {
   "cell_type": "code",
   "execution_count": null,
   "metadata": {},
   "outputs": [],
   "source": [
    "df_10.columns"
   ]
  },
  {
   "cell_type": "code",
   "execution_count": null,
   "metadata": {},
   "outputs": [],
   "source": [
    "sample = df_10[['Unnamed: 0','Unnamed: 2']].dropna().drop([22,30,40])\n",
    "sample['Sr.No'] = sample['Unnamed: 0'].str.split(\" \", expand = True)[0]\n",
    "sample['Airports'] = sample['Unnamed: 0'].str.split(\" \", expand = True)[1]\n",
    "sample = sample[['Sr.No','Airports','Unnamed: 2']]\n",
    "sample = Page(sample)\n",
    "sample.columns = ['Airports','Passengers(Aug)']"
   ]
  },
  {
   "cell_type": "code",
   "execution_count": null,
   "metadata": {},
   "outputs": [],
   "source": [
    "df = tabula.read_pdf(filepath,pages = 11, multiple_tables = True)\n",
    "df_11 = pd.DataFrame(df[0])"
   ]
  },
  {
   "cell_type": "code",
   "execution_count": null,
   "metadata": {},
   "outputs": [],
   "source": [
    "df_11 = Page1(df_11)"
   ]
  },
  {
   "cell_type": "code",
   "execution_count": null,
   "metadata": {},
   "outputs": [],
   "source": [
    "df_11 = df_11[[0,1,2]].dropna().drop([32,33,34])\n",
    "df_11 = Page(df_11)\n",
    "df_11.columns = ['Airports','Passengers(Aug)']"
   ]
  },
  {
   "cell_type": "code",
   "execution_count": null,
   "metadata": {},
   "outputs": [],
   "source": [
    "frame = [sample,df_11]\n",
    "df_15_8 = pd.concat(frame)"
   ]
  },
  {
   "cell_type": "code",
   "execution_count": null,
   "metadata": {},
   "outputs": [],
   "source": [
    "df = tabula.read_pdf(filepath,pages = 12, multiple_tables = True)\n",
    "df_12 = pd.DataFrame(df[0])"
   ]
  },
  {
   "cell_type": "code",
   "execution_count": null,
   "metadata": {},
   "outputs": [],
   "source": [
    "df_12.columns"
   ]
  },
  {
   "cell_type": "code",
   "execution_count": null,
   "metadata": {},
   "outputs": [],
   "source": [
    "sample = df_12[['SL. NO.', 'AIRPORT', 'PASSENGERS (IN NOS.)']].dropna().drop([21,29,39])\n",
    "sample = Page(sample)\n",
    "sample.columns = ['Airports','Passengers(Sep)']"
   ]
  },
  {
   "cell_type": "code",
   "execution_count": null,
   "metadata": {},
   "outputs": [],
   "source": [
    "df = tabula.read_pdf(filepath,pages = 13, multiple_tables = True)\n",
    "df_13 = pd.DataFrame(df[0])"
   ]
  },
  {
   "cell_type": "code",
   "execution_count": null,
   "metadata": {},
   "outputs": [],
   "source": [
    "df_13 = Page1(df_13)"
   ]
  },
  {
   "cell_type": "code",
   "execution_count": null,
   "metadata": {},
   "outputs": [],
   "source": [
    "df_13 = df_13[[0,1,2]].dropna().drop([29,30,31])\n",
    "df_13 = Page(df_13)\n",
    "df_13.columns = ['Airports','Passengers(Sep)']"
   ]
  },
  {
   "cell_type": "code",
   "execution_count": null,
   "metadata": {},
   "outputs": [],
   "source": [
    "frame = [sample,df_13]\n",
    "df_15_9 = pd.concat(frame)"
   ]
  },
  {
   "cell_type": "code",
   "execution_count": null,
   "metadata": {},
   "outputs": [],
   "source": [
    "df = tabula.read_pdf(filepath,pages = 14, multiple_tables = True)\n",
    "df_14 = pd.DataFrame(df[0])"
   ]
  },
  {
   "cell_type": "code",
   "execution_count": null,
   "metadata": {},
   "outputs": [],
   "source": [
    "sample = df_14.dropna()[1:]\n",
    "\n",
    "sample['Pass'] = sample['PASSENGERS (IN NOS.)'].str.split(\" \", expand = True)[0]\n",
    "\n",
    "sample = sample[['Unnamed: 0','Unnamed: 1','Pass']]\n",
    "sample = Page(sample)\n",
    "sample.columns = ['Airports','Passengers(Oct)']"
   ]
  },
  {
   "cell_type": "code",
   "execution_count": null,
   "metadata": {},
   "outputs": [],
   "source": [
    "sample.iloc[1,0] = 'KOLKATA'"
   ]
  },
  {
   "cell_type": "code",
   "execution_count": null,
   "metadata": {},
   "outputs": [],
   "source": [
    "df = tabula.read_pdf(filepath,pages = 15, multiple_tables = True)\n",
    "df_15 = pd.DataFrame(df[0])"
   ]
  },
  {
   "cell_type": "code",
   "execution_count": null,
   "metadata": {},
   "outputs": [],
   "source": [
    "df_15 = Page1(df_15)\n",
    "df_15 = df_15[[0,1,2]].dropna().drop([27,28,29])\n",
    "\n",
    "df_15 = Page(df_15)\n",
    "df_15.columns = ['Airports','Passengers(Oct)']"
   ]
  },
  {
   "cell_type": "code",
   "execution_count": null,
   "metadata": {},
   "outputs": [],
   "source": [
    "frame = [sample,df_15]\n",
    "df_15_10 = pd.concat(frame)"
   ]
  },
  {
   "cell_type": "code",
   "execution_count": null,
   "metadata": {},
   "outputs": [],
   "source": [
    "df = tabula.read_pdf(filepath,pages = 16, multiple_tables = True)\n",
    "df_16 = pd.DataFrame(df[0])"
   ]
  },
  {
   "cell_type": "code",
   "execution_count": null,
   "metadata": {},
   "outputs": [],
   "source": [
    "sample = df_16.dropna()[1:]\n",
    "\n",
    "sample['Pass'] = sample['PASSENGERS (IN NOS.)'].str.split(\" \", expand = True)[0]\n",
    "\n",
    "sample = sample[['Unnamed: 0','Unnamed: 1','Pass']]\n",
    "sample = Page(sample)\n",
    "sample.columns = ['Airports','Passengers(Nov)']"
   ]
  },
  {
   "cell_type": "code",
   "execution_count": null,
   "metadata": {},
   "outputs": [],
   "source": [
    "sample.iloc[1,0] = 'KOLKATA'"
   ]
  },
  {
   "cell_type": "code",
   "execution_count": null,
   "metadata": {},
   "outputs": [],
   "source": [
    "df = tabula.read_pdf(filepath,pages = 17, multiple_tables = True)\n",
    "df_17 = pd.DataFrame(df[0])"
   ]
  },
  {
   "cell_type": "code",
   "execution_count": null,
   "metadata": {},
   "outputs": [],
   "source": [
    "df_17 = Page1(df_17)\n",
    "df_17 = df_17[[0,1,2]].dropna().drop([26,27,28])\n",
    "\n",
    "df_17 = Page(df_17)\n",
    "df_17.columns = ['Airports','Passengers(Nov)']"
   ]
  },
  {
   "cell_type": "code",
   "execution_count": null,
   "metadata": {},
   "outputs": [],
   "source": [
    "frame = [sample,df_17]\n",
    "df_15_11 = pd.concat(frame)"
   ]
  },
  {
   "cell_type": "code",
   "execution_count": null,
   "metadata": {},
   "outputs": [],
   "source": [
    "df_15_11.shape"
   ]
  },
  {
   "cell_type": "code",
   "execution_count": null,
   "metadata": {},
   "outputs": [],
   "source": [
    "df = tabula.read_pdf(filepath,pages = 18, multiple_tables = True)\n",
    "df_18 = pd.DataFrame(df[0])"
   ]
  },
  {
   "cell_type": "code",
   "execution_count": null,
   "metadata": {},
   "outputs": [],
   "source": [
    "df_18.columns"
   ]
  },
  {
   "cell_type": "code",
   "execution_count": null,
   "metadata": {},
   "outputs": [],
   "source": [
    "sample = df_18[['Unnamed: 0', 'Unnamed: 2']].dropna()[1:].drop([22,30,40])\n",
    "sample ['Sr.No'] = sample['Unnamed: 0'].str.split(\" \", expand = True)[0]\n",
    "sample ['Airports'] = sample['Unnamed: 0'].str.split(\" \", expand = True)[1]\n",
    "sample ['Pass'] = sample['Unnamed: 2'].str.split(\" \", expand = True)[0]"
   ]
  },
  {
   "cell_type": "code",
   "execution_count": null,
   "metadata": {},
   "outputs": [],
   "source": [
    "sample = sample[['Sr.No','Airports','Pass']]\n",
    "sample = Page(sample)\n",
    "sample.columns = ['Airports','Passengers(Dec)']"
   ]
  },
  {
   "cell_type": "code",
   "execution_count": null,
   "metadata": {},
   "outputs": [],
   "source": [
    "df = tabula.read_pdf(filepath,pages = 19, multiple_tables = True)\n",
    "df_19 = pd.DataFrame(df[0])"
   ]
  },
  {
   "cell_type": "code",
   "execution_count": null,
   "metadata": {},
   "outputs": [],
   "source": [
    "df_19 = Page1(df_19)\n"
   ]
  },
  {
   "cell_type": "code",
   "execution_count": null,
   "metadata": {},
   "outputs": [],
   "source": [
    "df_19 = df_19[[0,1,2]].dropna().drop([32,33,34])\n",
    "df_19 = Page(df_19)\n",
    "df_19.columns = ['Airports','Passengers(Dec)']"
   ]
  },
  {
   "cell_type": "code",
   "execution_count": null,
   "metadata": {},
   "outputs": [],
   "source": [
    "frame = [sample, df_19]\n",
    "df_15_12 = pd.concat(frame)"
   ]
  },
  {
   "cell_type": "code",
   "execution_count": null,
   "metadata": {},
   "outputs": [],
   "source": [
    "df_15_12.shape"
   ]
  },
  {
   "cell_type": "code",
   "execution_count": null,
   "metadata": {},
   "outputs": [],
   "source": [
    "Airports = df_15_1['Airports']\n",
    "frame = [df_15_2,df_15_3,df_15_4,df_15_5,df_15_6,df_15_7,df_15_8,df_15_9,df_15_10,df_15_11,df_15_12]\n",
    "\n",
    "for a in frame:\n",
    "    b = a['Airports']\n",
    "    print(b)\n",
    "    Airports = Airports.append(b)"
   ]
  },
  {
   "cell_type": "code",
   "execution_count": null,
   "metadata": {},
   "outputs": [],
   "source": [
    "Final = set(Airports)\n",
    "\n",
    "Final_df = pd.DataFrame(Final)\n",
    "Final_df.columns = ['Airports']"
   ]
  },
  {
   "cell_type": "code",
   "execution_count": null,
   "metadata": {},
   "outputs": [],
   "source": [
    "Total_15 = pd.merge(left=Final_df, right=df_15_1, how='left', left_on='Airports', right_on='Airports')\n",
    "Total_15 = Total_15.fillna(0)\n",
    "\n",
    "frame = [df_15_2,df_15_3,df_15_4,df_15_5,df_15_6,df_15_7,df_15_8,df_15_9,df_15_10,df_15_11,df_15_12]\n",
    "\n",
    "for a in frame:\n",
    "    Total_15 = pd.merge(left=Total_15, right=a, how='left', left_on='Airports', right_on='Airports')\n",
    "    Total_15 = Total_15.fillna(0)\n",
    "\n",
    "\n",
    "Total_15 = Total_15.set_index('Airports')\n",
    "\n",
    "Total_15 = Total_15.astype(float)\n",
    "\n",
    "Total_15"
   ]
  },
  {
   "cell_type": "code",
   "execution_count": null,
   "metadata": {},
   "outputs": [],
   "source": [
    "Total_15['Year'] = 2015"
   ]
  },
  {
   "cell_type": "markdown",
   "metadata": {},
   "source": [
    "==================\n",
    "\n",
    "==================\n",
    "\n",
    "\n",
    "\n",
    "\n",
    "\n",
    "==================\n",
    "\n",
    "================"
   ]
  },
  {
   "cell_type": "code",
   "execution_count": null,
   "metadata": {},
   "outputs": [],
   "source": [
    "import tabula\n",
    "import pandas as pd\n",
    "import numpy as np\n",
    "\n",
    "filepath = \"../Learning/data/Dissertation/Airways/Total_2014.pdf\""
   ]
  },
  {
   "cell_type": "code",
   "execution_count": null,
   "metadata": {},
   "outputs": [],
   "source": [
    "def Page14(df):\n",
    "    df = df[['ANNEXURE-IIIB\\rTRAFFIC STATISTICS - DOMESTIC PASSENGERS', 'Unnamed: 0',\n",
    "       'Unnamed: 1']].dropna().drop([0,21,30,39,59,60,61])\n",
    "    df = Page(df)\n",
    "    return df"
   ]
  },
  {
   "cell_type": "code",
   "execution_count": null,
   "metadata": {},
   "outputs": [],
   "source": [
    "df = tabula.read_pdf(filepath,pages = 1, multiple_tables = True)\n",
    "df1 = pd.DataFrame(df[0])"
   ]
  },
  {
   "cell_type": "code",
   "execution_count": null,
   "metadata": {},
   "outputs": [],
   "source": [
    "df1.columns"
   ]
  },
  {
   "cell_type": "code",
   "execution_count": null,
   "metadata": {},
   "outputs": [],
   "source": [
    "df1 = Page14(df1)"
   ]
  },
  {
   "cell_type": "code",
   "execution_count": null,
   "metadata": {},
   "outputs": [],
   "source": [
    "df = tabula.read_pdf(filepath,pages = 2, multiple_tables = True)\n",
    "df2 = pd.DataFrame(df[0])"
   ]
  },
  {
   "cell_type": "code",
   "execution_count": null,
   "metadata": {},
   "outputs": [],
   "source": [
    "df2 = Page14(df2)\n",
    "\n",
    "df2.iloc[1,0] = 'KOLKATA'"
   ]
  },
  {
   "cell_type": "code",
   "execution_count": null,
   "metadata": {},
   "outputs": [],
   "source": [
    "df = tabula.read_pdf(filepath,pages = 3, multiple_tables = True)\n",
    "df3 = pd.DataFrame(df[0])"
   ]
  },
  {
   "cell_type": "code",
   "execution_count": null,
   "metadata": {},
   "outputs": [],
   "source": [
    "df3 = df3[['ANNEXURE-IIIB\\rTRAFFIC STATISTICS - DOMESTIC PASSENGERS', 'Unnamed: 0',\n",
    "       'Unnamed: 1']].dropna().drop([0,21,29,38,58,59,60])\n",
    "df3 = Page(df3)"
   ]
  },
  {
   "cell_type": "code",
   "execution_count": null,
   "metadata": {},
   "outputs": [],
   "source": [
    "df = tabula.read_pdf(filepath,pages = 4, multiple_tables = True)\n",
    "df4 = pd.DataFrame(df[0])"
   ]
  },
  {
   "cell_type": "code",
   "execution_count": null,
   "metadata": {},
   "outputs": [],
   "source": [
    "df4 = df4[['ANNEXURE-IIB\\rTRAFFIC STATISTICS - DOMESTIC PASSENGERS', 'Unnamed: 0',\n",
    "       'Unnamed: 1']].dropna().drop([0,23,32,41,59,60,61])\n",
    "df4 = Page(df4)"
   ]
  },
  {
   "cell_type": "code",
   "execution_count": null,
   "metadata": {},
   "outputs": [],
   "source": [
    "df = tabula.read_pdf(filepath,pages = 5, multiple_tables = True)\n",
    "df5 = pd.DataFrame(df[0])"
   ]
  },
  {
   "cell_type": "code",
   "execution_count": null,
   "metadata": {},
   "outputs": [],
   "source": [
    "df5 = df5[['ANNEXURE-IIB\\rTRAFFIC STATISTICS - DOMESTIC PASSENGERS', 'Unnamed: 0',\n",
    "       'Unnamed: 1']].dropna().drop([0,23,32,41,59,60,61])\n",
    "df5 = Page(df5)"
   ]
  },
  {
   "cell_type": "code",
   "execution_count": null,
   "metadata": {},
   "outputs": [],
   "source": [
    "df = tabula.read_pdf(filepath,pages = 6, multiple_tables = True)\n",
    "df6 = pd.DataFrame(df[0])"
   ]
  },
  {
   "cell_type": "code",
   "execution_count": null,
   "metadata": {},
   "outputs": [],
   "source": [
    "df6 = df6[['ANNEXURE-IIB\\rTRAFFIC STATISTICS - DOMESTIC PASSENGERS', 'Unnamed: 0',\n",
    "       'Unnamed: 1']].dropna().drop([0,23,32,41,59,60,61])\n",
    "df6 = Page(df6)"
   ]
  },
  {
   "cell_type": "code",
   "execution_count": null,
   "metadata": {},
   "outputs": [],
   "source": [
    "df = tabula.read_pdf(filepath,pages = 7, multiple_tables = True)\n",
    "df7 = pd.DataFrame(df[0])"
   ]
  },
  {
   "cell_type": "code",
   "execution_count": null,
   "metadata": {},
   "outputs": [],
   "source": [
    "df7.columns"
   ]
  },
  {
   "cell_type": "code",
   "execution_count": null,
   "metadata": {},
   "outputs": [],
   "source": [
    "df7 = df7[['SL. NO.', 'AIRPORT', 'AIRCRAFT MOVEMENTS(IN NOS.)']].dropna().drop([21,29,38,55,56,57])\n",
    "df7 = Page(df7)"
   ]
  },
  {
   "cell_type": "code",
   "execution_count": null,
   "metadata": {},
   "outputs": [],
   "source": [
    "df = tabula.read_pdf(filepath,pages = 8, multiple_tables = True)\n",
    "df8 = pd.DataFrame(df[0])"
   ]
  },
  {
   "cell_type": "code",
   "execution_count": null,
   "metadata": {},
   "outputs": [],
   "source": [
    "df8 = df8[['SL. NO.', 'AIRPORT', 'AIRCRAFT MOVEMENTS(IN NOS.)']].dropna().drop([21,29,38,55,56,57])\n",
    "df8 = Page(df8)"
   ]
  },
  {
   "cell_type": "code",
   "execution_count": null,
   "metadata": {},
   "outputs": [],
   "source": [
    "df8.iloc[1,0] = 'KOLKATA'\n",
    "df8.iloc[8,0] = 'SRINAGAR'"
   ]
  },
  {
   "cell_type": "code",
   "execution_count": null,
   "metadata": {},
   "outputs": [],
   "source": [
    "df = tabula.read_pdf(filepath,pages = 9, multiple_tables = True)\n",
    "df9 = pd.DataFrame(df[0])"
   ]
  },
  {
   "cell_type": "code",
   "execution_count": null,
   "metadata": {},
   "outputs": [],
   "source": [
    "df9 = df9[['SL. NO.', 'AIRPORT', 'PASSENGERS (IN NOS.)']].dropna().drop([22,30,39,56,57,58])\n",
    "df9 = Page(df9)"
   ]
  },
  {
   "cell_type": "code",
   "execution_count": null,
   "metadata": {},
   "outputs": [],
   "source": [
    "df9.iloc[7,0] = 'SRINAGAR'"
   ]
  },
  {
   "cell_type": "code",
   "execution_count": null,
   "metadata": {},
   "outputs": [],
   "source": [
    "df = tabula.read_pdf(filepath,pages = 10, multiple_tables = True)\n",
    "df10 = pd.DataFrame(df[0])"
   ]
  },
  {
   "cell_type": "code",
   "execution_count": null,
   "metadata": {},
   "outputs": [],
   "source": [
    "df10 = df10[['SL. NO.', 'AIRPORT', 'PASSENGERS (IN NOS.)']].dropna().drop([22,30,39,56,57,58])\n",
    "df10 = Page(df10)"
   ]
  },
  {
   "cell_type": "code",
   "execution_count": null,
   "metadata": {},
   "outputs": [],
   "source": [
    "df = tabula.read_pdf(filepath,pages = 11, multiple_tables = True)\n",
    "df11 = pd.DataFrame(df[0])"
   ]
  },
  {
   "cell_type": "code",
   "execution_count": null,
   "metadata": {},
   "outputs": [],
   "source": [
    "df11 = df11[['SL. NO.', 'AIRPORT', 'PASSENGERS (IN NOS.)']].dropna().drop([22,30,39,56,57,58])\n",
    "df11 = Page(df11)"
   ]
  },
  {
   "cell_type": "code",
   "execution_count": null,
   "metadata": {},
   "outputs": [],
   "source": [
    "df = tabula.read_pdf(filepath,pages = 12, multiple_tables = True)\n",
    "df12 = pd.DataFrame(df[0])\n"
   ]
  },
  {
   "cell_type": "code",
   "execution_count": null,
   "metadata": {},
   "outputs": [],
   "source": [
    "df12 = df12[['SL. NO.', 'AIRPORT', 'PASSENGERS (IN NOS.)']].dropna().drop([22,30,39,56,57,58])\n",
    "df12 = Page(df12)"
   ]
  },
  {
   "cell_type": "code",
   "execution_count": null,
   "metadata": {},
   "outputs": [],
   "source": [
    "df12.shape"
   ]
  },
  {
   "cell_type": "code",
   "execution_count": null,
   "metadata": {},
   "outputs": [],
   "source": [
    "Airports = df1['Airports']\n",
    "frame = [df2,df3,df4,df5,df6,df7,df8,df9,df10,df11,df12]\n",
    "\n",
    "for a in frame:\n",
    "    b = a['Airports']\n",
    "    print(b)\n",
    "    Airports = Airports.append(b)"
   ]
  },
  {
   "cell_type": "code",
   "execution_count": null,
   "metadata": {},
   "outputs": [],
   "source": [
    "Final = set(Airports)\n",
    "\n",
    "Final_df = pd.DataFrame(Final)\n",
    "Final_df.columns = ['Airports']"
   ]
  },
  {
   "cell_type": "code",
   "execution_count": null,
   "metadata": {},
   "outputs": [],
   "source": [
    "Total_14 = pd.merge(left=Final_df, right=df1, how='left', left_on='Airports', right_on='Airports')\n",
    "Total_14 = Total_14.fillna(0)\n",
    "\n",
    "frame = [df2,df3,df4,df5,df6,df7,df8,df9,df10,df11,df12]\n",
    "\n",
    "for a in frame:\n",
    "    Total_14 = pd.merge(left=Total_14, right=a, how='left', left_on='Airports', right_on='Airports')\n",
    "    Total_14 = Total_14.fillna(0)\n",
    "\n",
    "\n",
    "Total_14 = Total_14.set_index('Airports')\n",
    "\n",
    "Total_14 = Total_14.astype(float)\n",
    "\n",
    "Total_14"
   ]
  },
  {
   "cell_type": "code",
   "execution_count": null,
   "metadata": {},
   "outputs": [],
   "source": [
    "Total_14.columns = ['Passengers(Jan)','Passengers(Feb)','Passengers(Mar)','Passengers(Apr)','Passengers(May)','Passengers(Jun)','Passengers(Jul)','Passengers(Aug)','Passengers(Sep)','Passengers(Oct)','Passengers(Nov)','Passengers(Dec)']"
   ]
  },
  {
   "cell_type": "code",
   "execution_count": null,
   "metadata": {},
   "outputs": [],
   "source": [
    "Total_14['Year'] = 2014"
   ]
  },
  {
   "cell_type": "markdown",
   "metadata": {},
   "source": [
    "=================\n",
    "\n",
    "===============\n",
    "\n",
    "==================\n",
    "\n",
    "\n",
    "\n",
    "\n",
    "===========\n",
    "\n",
    "================="
   ]
  },
  {
   "cell_type": "code",
   "execution_count": null,
   "metadata": {},
   "outputs": [],
   "source": [
    "import tabula\n",
    "import pandas as pd\n",
    "import numpy as np\n",
    "\n",
    "filepath = \"../Learning/data/Dissertation/Airways/Total_2013.pdf\""
   ]
  },
  {
   "cell_type": "code",
   "execution_count": null,
   "metadata": {},
   "outputs": [],
   "source": [
    "df = tabula.read_pdf(filepath,pages = 1, multiple_tables = True)\n",
    "df1 = pd.DataFrame(df[0])\n",
    "\n",
    "df = tabula.read_pdf(filepath,pages = 2, multiple_tables = True)\n",
    "df2 = pd.DataFrame(df[0])\n",
    "\n",
    "df = tabula.read_pdf(filepath,pages = 3, multiple_tables = True)\n",
    "df3 = pd.DataFrame(df[0])\n",
    "\n",
    "df = tabula.read_pdf(filepath,pages = 4, multiple_tables = True)\n",
    "df4 = pd.DataFrame(df[0])\n",
    "\n",
    "df = tabula.read_pdf(filepath,pages = 5, multiple_tables = True)\n",
    "df5 = pd.DataFrame(df[0])\n",
    "\n",
    "df = tabula.read_pdf(filepath,pages = 6, multiple_tables = True)\n",
    "df6 = pd.DataFrame(df[0])\n",
    "\n",
    "df = tabula.read_pdf(filepath,pages = 7, multiple_tables = True)\n",
    "df7 = pd.DataFrame(df[0])\n",
    "\n",
    "df = tabula.read_pdf(filepath,pages = 8, multiple_tables = True)\n",
    "df8 = pd.DataFrame(df[0])\n",
    "\n",
    "df = tabula.read_pdf(filepath,pages = 9, multiple_tables = True)\n",
    "df9 = pd.DataFrame(df[0])\n",
    "\n",
    "df = tabula.read_pdf(filepath,pages = 10, multiple_tables = True)\n",
    "df10 = pd.DataFrame(df[0])\n",
    "\n",
    "df = tabula.read_pdf(filepath,pages = 11, multiple_tables = True)\n",
    "df11 = pd.DataFrame(df[0])\n",
    "\n",
    "df = tabula.read_pdf(filepath,pages = 12, multiple_tables = True)\n",
    "df12 = pd.DataFrame(df[0])"
   ]
  },
  {
   "cell_type": "code",
   "execution_count": null,
   "metadata": {},
   "outputs": [],
   "source": [
    "df1.columns"
   ]
  },
  {
   "cell_type": "code",
   "execution_count": null,
   "metadata": {},
   "outputs": [],
   "source": [
    "df1 = df1[['ANNEXURE-IIIB\\rTRAFFIC STATISTICS - DOMESTIC PASSENGERS', 'Unnamed: 0',\n",
    "       'Unnamed: 1', ]].dropna().drop([1,15,38,57,58,59])\n",
    "df1 = Page(df1)\n",
    "\n",
    "df1.iloc[1,0] = 'KOLKATA'"
   ]
  },
  {
   "cell_type": "code",
   "execution_count": null,
   "metadata": {},
   "outputs": [],
   "source": [
    "df2 = df2[['ANNEXURE-IIIB\\rTRAFFIC STATISTICS - DOMESTIC PASSENGERS', 'Unnamed: 0',\n",
    "       'Unnamed: 1', ]].dropna().drop([1,15,38,57,58,59])\n",
    "df2 = Page(df2)\n",
    "\n",
    "df2.iloc[1,0] = 'KOLKATA'"
   ]
  },
  {
   "cell_type": "code",
   "execution_count": null,
   "metadata": {},
   "outputs": [],
   "source": [
    "df3 = df3[['ANNEXURE-IIIB\\rTRAFFIC STATISTICS - DOMESTIC PASSENGERS', 'Unnamed: 0',\n",
    "       'Unnamed: 1', ]].dropna().drop([1,15,23,39,58,59,60])\n",
    "df3 = Page(df3)\n",
    "\n",
    "df3.iloc[1,0] = 'KOLKATA'"
   ]
  },
  {
   "cell_type": "code",
   "execution_count": null,
   "metadata": {},
   "outputs": [],
   "source": [
    "df4 = df4[['ANNEXURE-IIIB\\rTRAFFIC STATISTICS - DOMESTIC PASSENGERS', 'Unnamed: 0',\n",
    "       'Unnamed: 1', ]].dropna().drop([0,21,29,38,58,59,60])\n",
    "df4 = Page(df4)\n",
    "\n",
    "df4.iloc[1,0] = 'KOLKATA'"
   ]
  },
  {
   "cell_type": "code",
   "execution_count": null,
   "metadata": {},
   "outputs": [],
   "source": [
    "df5 = df5[['ANNEXURE-IIIB\\rTRAFFIC STATISTICS - DOMESTIC PASSENGERS', 'Unnamed: 0',\n",
    "       'Unnamed: 1', ]].dropna().drop([0,21,29,38,58,59,60])\n",
    "df5 = Page(df5)\n",
    "\n",
    "df5.iloc[1,0] = 'KOLKATA'"
   ]
  },
  {
   "cell_type": "code",
   "execution_count": null,
   "metadata": {},
   "outputs": [],
   "source": [
    "df6 = df6[['ANNEXURE-IIIB\\rTRAFFIC STATISTICS - DOMESTIC PASSENGERS', 'Unnamed: 0',\n",
    "       'Unnamed: 1', ]].dropna().drop([0,21,29,38,58,59,60])\n",
    "df6 = Page(df6)\n",
    "\n",
    "df6.iloc[1,0] = 'KOLKATA'"
   ]
  },
  {
   "cell_type": "code",
   "execution_count": null,
   "metadata": {},
   "outputs": [],
   "source": [
    "df7 = df7[['ANNEXURE-IIIB\\rTRAFFIC STATISTICS - DOMESTIC PASSENGERS', 'Unnamed: 0',\n",
    "       'Unnamed: 1', ]].dropna().drop([0,21,29,38,58,59,60])\n",
    "df7 = Page(df7)\n",
    "\n",
    "df7.iloc[1,0] = 'KOLKATA'"
   ]
  },
  {
   "cell_type": "code",
   "execution_count": null,
   "metadata": {},
   "outputs": [],
   "source": [
    "df8 = df8[['ANNEXURE-IIIB\\rTRAFFIC STATISTICS - DOMESTIC PASSENGERS', 'Unnamed: 0',\n",
    "       'Unnamed: 1', ]].dropna().drop([0,21,29,38,58,59,60])\n",
    "df8 = Page(df8)\n",
    "\n",
    "df8.iloc[1,0] = 'KOLKATA'"
   ]
  },
  {
   "cell_type": "code",
   "execution_count": null,
   "metadata": {},
   "outputs": [],
   "source": [
    "df9 = df9[['ANNEXURE-IIIB\\rTRAFFIC STATISTICS - DOMESTIC PASSENGERS', 'Unnamed: 0',\n",
    "       'Unnamed: 1', ]].dropna().drop([0,21,30,39,59,60,61])\n",
    "df9 = Page(df9)\n",
    "\n",
    "df9.iloc[1,0] = 'KOLKATA'"
   ]
  },
  {
   "cell_type": "code",
   "execution_count": null,
   "metadata": {},
   "outputs": [],
   "source": [
    "df10 = df10[['ANNEXURE-IIIB\\rTRAFFIC STATISTICS - DOMESTIC PASSENGERS', 'Unnamed: 0',\n",
    "       'Unnamed: 1', ]].dropna().drop([0,21,30,39,59,60,61])\n",
    "df10 = Page(df10)\n",
    "\n",
    "df10.iloc[1,0] = 'KOLKATA'"
   ]
  },
  {
   "cell_type": "code",
   "execution_count": null,
   "metadata": {},
   "outputs": [],
   "source": [
    "df11 = df11[['ANNEXURE-IIIB\\rTRAFFIC STATISTICS - DOMESTIC PASSENGERS', 'Unnamed: 0',\n",
    "       'Unnamed: 1', ]].dropna().drop([0,21,30,39,59,60,61])\n",
    "df11 = Page(df11)\n",
    "\n",
    "df11.iloc[1,0] = 'KOLKATA'"
   ]
  },
  {
   "cell_type": "code",
   "execution_count": null,
   "metadata": {},
   "outputs": [],
   "source": [
    "df12 = df12[['ANNEXURE-IIIB\\rTRAFFIC STATISTICS - DOMESTIC PASSENGERS', 'Unnamed: 0',\n",
    "       'Unnamed: 1', ]].dropna().drop([0,21,30,39,59,60,61])\n",
    "df12 = Page(df12)\n",
    "\n",
    "df12.iloc[1,0] = 'KOLKATA'"
   ]
  },
  {
   "cell_type": "code",
   "execution_count": null,
   "metadata": {},
   "outputs": [],
   "source": [
    "for i in list(range(1,len(frame))):\n",
    "    df = frame[i]\n",
    "    print(df)"
   ]
  },
  {
   "cell_type": "code",
   "execution_count": null,
   "metadata": {},
   "outputs": [],
   "source": [
    "frame= [ 'df1','df2','df3','df4']"
   ]
  },
  {
   "cell_type": "code",
   "execution_count": null,
   "metadata": {},
   "outputs": [],
   "source": [
    "Airports = df1['Airports']\n",
    "frame = [df2,df3,df4,df5,df6,df7,df8,df9,df10,df11,df12]\n",
    "\n",
    "for a in frame:\n",
    "    b = a['Airports']\n",
    "    print(b)\n",
    "    Airports = Airports.append(b)"
   ]
  },
  {
   "cell_type": "code",
   "execution_count": null,
   "metadata": {},
   "outputs": [],
   "source": [
    "Final = set(Airports)\n",
    "\n",
    "Final_df = pd.DataFrame(Final)\n",
    "Final_df.columns = ['Airports']"
   ]
  },
  {
   "cell_type": "code",
   "execution_count": null,
   "metadata": {},
   "outputs": [],
   "source": [
    "Total_13 = pd.merge(left=Final_df, right=df1, how='left', left_on='Airports', right_on='Airports')\n",
    "Total_13 = Total_13.fillna(0)\n",
    "\n",
    "frame = [df2,df3,df4,df5,df6,df7,df8,df9,df10,df11,df12]\n",
    "\n",
    "for a in frame:\n",
    "    Total_13 = pd.merge(left=Total_13, right=a, how='left', left_on='Airports', right_on='Airports')\n",
    "    Total_13 = Total_13.fillna(0)\n",
    "\n",
    "\n",
    "Total_13 = Total_13.set_index('Airports')\n",
    "\n",
    "Total_13 = Total_13.astype(float)\n",
    "\n",
    "Total_13"
   ]
  },
  {
   "cell_type": "code",
   "execution_count": null,
   "metadata": {},
   "outputs": [],
   "source": [
    "Total_13.columns = ['Passengers(Jan)','Passengers(Feb)','Passengers(Mar)','Passengers(Apr)','Passengers(May)','Passengers(Jun)','Passengers(Jul)','Passengers(Aug)','Passengers(Sep)','Passengers(Oct)','Passengers(Nov)','Passengers(Dec)']"
   ]
  },
  {
   "cell_type": "code",
   "execution_count": null,
   "metadata": {},
   "outputs": [],
   "source": [
    "Total_13['Year'] = 2013"
   ]
  },
  {
   "cell_type": "code",
   "execution_count": null,
   "metadata": {},
   "outputs": [],
   "source": [
    "Total_13"
   ]
  },
  {
   "cell_type": "markdown",
   "metadata": {},
   "source": [
    "=================\n",
    "\n",
    "========================\n",
    "\n",
    "=======================\n",
    "====\n",
    "\n",
    "\n",
    "==============================="
   ]
  },
  {
   "cell_type": "code",
   "execution_count": null,
   "metadata": {},
   "outputs": [],
   "source": [
    "import tabula\n",
    "import pandas as pd\n",
    "import numpy as np\n",
    "\n",
    "filepath = \"../Learning/data/Dissertation/Airways/Total_2012.pdf\""
   ]
  },
  {
   "cell_type": "code",
   "execution_count": null,
   "metadata": {},
   "outputs": [],
   "source": [
    "df = tabula.read_pdf(filepath,pages = 1, multiple_tables = True)\n",
    "df1 = pd.DataFrame(df[0])\n",
    "\n",
    "df = tabula.read_pdf(filepath,pages = 2, multiple_tables = True)\n",
    "df2 = pd.DataFrame(df[0])\n",
    "\n",
    "df = tabula.read_pdf(filepath,pages = 3, multiple_tables = True)\n",
    "df3 = pd.DataFrame(df[0])\n",
    "\n",
    "df = tabula.read_pdf(filepath,pages = 4, multiple_tables = True)\n",
    "df4 = pd.DataFrame(df[0])\n",
    "\n",
    "df = tabula.read_pdf(filepath,pages = 5, multiple_tables = True)\n",
    "df5 = pd.DataFrame(df[0])\n",
    "\n",
    "df = tabula.read_pdf(filepath,pages = 6, multiple_tables = True)\n",
    "df6 = pd.DataFrame(df[0])\n",
    "\n",
    "df = tabula.read_pdf(filepath,pages = 7, multiple_tables = True)\n",
    "df7 = pd.DataFrame(df[0])\n",
    "\n",
    "df = tabula.read_pdf(filepath,pages = 8, multiple_tables = True)\n",
    "df8 = pd.DataFrame(df[0])\n",
    "\n",
    "df = tabula.read_pdf(filepath,pages = 9, multiple_tables = True)\n",
    "df9 = pd.DataFrame(df[0])\n",
    "\n",
    "df = tabula.read_pdf(filepath,pages = 10, multiple_tables = True)\n",
    "df10 = pd.DataFrame(df[0])\n",
    "\n",
    "df = tabula.read_pdf(filepath,pages = 11, multiple_tables = True)\n",
    "df11 = pd.DataFrame(df[0])\n",
    "\n",
    "df = tabula.read_pdf(filepath,pages = 12, multiple_tables = True)\n",
    "df12 = pd.DataFrame(df[0])"
   ]
  },
  {
   "cell_type": "code",
   "execution_count": null,
   "metadata": {},
   "outputs": [],
   "source": [
    "df1.columns"
   ]
  },
  {
   "cell_type": "code",
   "execution_count": null,
   "metadata": {},
   "outputs": [],
   "source": [
    "df1 = df1[['SL. NO.', 'Unnamed: 1']].dropna().drop([16,24,37,57,58,59])\n",
    "df1['Sr.No'] = df1['SL. NO.'].str.split(\" \",expand = True)[0]\n",
    "df1['Airways'] = df1['SL. NO.'].str.split(\" \",expand = True)[1]"
   ]
  },
  {
   "cell_type": "code",
   "execution_count": null,
   "metadata": {},
   "outputs": [],
   "source": [
    "df1 = df1[['Sr.No','Airways','Unnamed: 1']]\n",
    "df1 = Page(df1)\n",
    "\n",
    "df1"
   ]
  },
  {
   "cell_type": "code",
   "execution_count": null,
   "metadata": {},
   "outputs": [],
   "source": [
    "df2 = df2[['Unnamed: 0', 'Unnamed: 2']].dropna().drop([16,24,37,57,58,59])\n",
    "df2['Sr.No'] = df2['Unnamed: 0'].str.split(\" \",expand = True)[0]\n",
    "df2['Airways'] = df2['Unnamed: 0'].str.split(\" \",expand = True)[1]\n",
    "df2 = df2[['Sr.No','Airways','Unnamed: 2']]\n",
    "df2 = Page(df2)\n",
    "\n",
    "df2"
   ]
  },
  {
   "cell_type": "code",
   "execution_count": null,
   "metadata": {},
   "outputs": [],
   "source": [
    "df3 = df3[['Unnamed: 0', 'Unnamed: 2']].dropna().drop([16,24,37,57,58,59])\n",
    "df3['Sr.No'] = df3['Unnamed: 0'].str.split(\" \",expand = True)[0]\n",
    "df3['Airways'] = df3['Unnamed: 0'].str.split(\" \",expand = True)[1]\n",
    "df3 = df3[['Sr.No','Airways','Unnamed: 2']]\n",
    "df3 = Page(df3)"
   ]
  },
  {
   "cell_type": "code",
   "execution_count": null,
   "metadata": {},
   "outputs": [],
   "source": [
    "df4 = df4[['ANNEXURE-IIIB\\rTRAFFIC STATISTICS - DOMESTIC PASSENGERS', 'Unnamed: 0','Unnamed: 1']].dropna().drop([0,15,23,37,56,57,58])\n",
    "df4 = Page(df4)"
   ]
  },
  {
   "cell_type": "code",
   "execution_count": null,
   "metadata": {},
   "outputs": [],
   "source": [
    "df5 = df5[['ANNEXURE-IIIB\\rTRAFFIC STATISTICS - DOMESTIC PASSENGERS', 'Unnamed: 0','Unnamed: 1']].dropna().drop([0,15,23,37,56,57,58])\n",
    "df5 = Page(df5)"
   ]
  },
  {
   "cell_type": "code",
   "execution_count": null,
   "metadata": {},
   "outputs": [],
   "source": [
    "df6 = df6[['ANNEXURE-IIIB\\rTRAFFIC STATISTICS - DOMESTIC PASSENGERS', 'Unnamed: 0','Unnamed: 1']].dropna().drop([0,15,23,37,56,57,58])\n",
    "df6 = Page(df6)"
   ]
  },
  {
   "cell_type": "code",
   "execution_count": null,
   "metadata": {},
   "outputs": [],
   "source": [
    "df7 = df7[['ANNEXURE-IIIB\\rTRAFFIC STATISTICS - DOMESTIC PASSENGERS', 'Unnamed: 0','Unnamed: 1']].dropna().drop([0,15,23,37,56,57,58])\n",
    "df7 = Page(df7)"
   ]
  },
  {
   "cell_type": "code",
   "execution_count": null,
   "metadata": {},
   "outputs": [],
   "source": [
    "df8 = df8[['ANNEXURE-IIIB\\rTRAFFIC STATISTICS - DOMESTIC PASSENGERS', 'Unnamed: 0','Unnamed: 1']].dropna().drop([0,15,23,37,56,57,58])\n",
    "df8 = Page(df8)"
   ]
  },
  {
   "cell_type": "code",
   "execution_count": null,
   "metadata": {},
   "outputs": [],
   "source": [
    "df8.iloc[1,0] = 'KOLKATA'"
   ]
  },
  {
   "cell_type": "code",
   "execution_count": null,
   "metadata": {},
   "outputs": [],
   "source": [
    "df9 = df9[['ANNEXURE-IIIB\\rTRAFFIC STATISTICS - DOMESTIC PASSENGERS', 'Unnamed: 0','Unnamed: 1']].dropna().drop([0,15,23,37,56,57,58])\n",
    "df9 = Page(df9)"
   ]
  },
  {
   "cell_type": "code",
   "execution_count": null,
   "metadata": {},
   "outputs": [],
   "source": [
    "df9.iloc[1,0] = 'KOLKATA'"
   ]
  },
  {
   "cell_type": "code",
   "execution_count": null,
   "metadata": {},
   "outputs": [],
   "source": [
    "df10 = df10[['ANNEXURE-IIIB\\rTRAFFIC STATISTICS - DOMESTIC PASSENGERS', 'Unnamed: 0','Unnamed: 1']].dropna().drop([1,15,38,57,58,59])\n",
    "df10 = Page(df10)\n",
    "df10.iloc[1,0] = 'KOLKATA'"
   ]
  },
  {
   "cell_type": "code",
   "execution_count": null,
   "metadata": {},
   "outputs": [],
   "source": [
    "df11 = df11[['ANNEXURE-IIIB\\rTRAFFIC STATISTICS - DOMESTIC PASSENGERS', 'Unnamed: 0','Unnamed: 1']].dropna().drop([1,15,38,57,58,59])\n",
    "df11 = Page(df11)\n",
    "df11.iloc[1,0] = 'KOLKATA'"
   ]
  },
  {
   "cell_type": "code",
   "execution_count": null,
   "metadata": {},
   "outputs": [],
   "source": [
    "df12 = df12[['ANNEXURE-IIIB\\rTRAFFIC STATISTICS - DOMESTIC PASSENGERS', 'Unnamed: 0','Unnamed: 1']].dropna().drop([1,15,38,57,58,59])\n",
    "df12 = Page(df12)\n",
    "df12.iloc[1,0] = 'KOLKATA'"
   ]
  },
  {
   "cell_type": "code",
   "execution_count": null,
   "metadata": {},
   "outputs": [],
   "source": [
    "Airports = df1['Airports']\n",
    "frame = [df2,df3,df4,df5,df6,df7,df8,df9,df10,df11,df12]\n",
    "\n",
    "for a in frame:\n",
    "    b = a['Airports']\n",
    "    print(b)\n",
    "    Airports = Airports.append(b)"
   ]
  },
  {
   "cell_type": "code",
   "execution_count": null,
   "metadata": {},
   "outputs": [],
   "source": [
    "Final = set(Airports)\n",
    "\n",
    "Final_df = pd.DataFrame(Final)\n",
    "Final_df.columns = ['Airports']"
   ]
  },
  {
   "cell_type": "code",
   "execution_count": null,
   "metadata": {},
   "outputs": [],
   "source": [
    "Total_12 = pd.merge(left=Final_df, right=df1, how='left', left_on='Airports', right_on='Airports')\n",
    "Total_12 = Total_12.fillna(0)\n",
    "\n",
    "frame = [df2,df3,df4,df5,df6,df7,df8,df9,df10,df11,df12]\n",
    "\n",
    "for a in frame:\n",
    "    Total_12 = pd.merge(left=Total_12, right=a, how='left', left_on='Airports', right_on='Airports')\n",
    "    Total_12 = Total_12.fillna(0)\n",
    "\n",
    "\n",
    "Total_12 = Total_12.set_index('Airports')\n",
    "\n",
    "Total_12 = Total_12.astype(float)\n",
    "\n",
    "Total_12"
   ]
  },
  {
   "cell_type": "code",
   "execution_count": null,
   "metadata": {},
   "outputs": [],
   "source": [
    "Total_12.columns = ['Passengers(Jan)','Passengers(Feb)','Passengers(Mar)','Passengers(Apr)','Passengers(May)','Passengers(Jun)','Passengers(Jul)','Passengers(Aug)','Passengers(Sep)','Passengers(Oct)','Passengers(Nov)','Passengers(Dec)']"
   ]
  },
  {
   "cell_type": "code",
   "execution_count": null,
   "metadata": {},
   "outputs": [],
   "source": [
    "Total_12['Year'] = 2012"
   ]
  },
  {
   "cell_type": "code",
   "execution_count": null,
   "metadata": {},
   "outputs": [],
   "source": [
    "Total_12"
   ]
  },
  {
   "cell_type": "markdown",
   "metadata": {},
   "source": [
    "===================================\n",
    "=====================\n",
    "\n",
    "==============================\n",
    "\n",
    "========================================="
   ]
  },
  {
   "cell_type": "code",
   "execution_count": null,
   "metadata": {},
   "outputs": [],
   "source": [
    "import tabula\n",
    "import pandas as pd\n",
    "import numpy as np\n",
    "\n",
    "filepath = \"../Learning/data/Dissertation/Airways/Total_2011.pdf\""
   ]
  },
  {
   "cell_type": "code",
   "execution_count": null,
   "metadata": {},
   "outputs": [],
   "source": [
    "df = tabula.read_pdf(filepath,pages = 1, multiple_tables = True)\n",
    "df1 = pd.DataFrame(df[0])\n",
    "\n",
    "df = tabula.read_pdf(filepath,pages = 2, multiple_tables = True)\n",
    "df2 = pd.DataFrame(df[0])\n",
    "\n",
    "df = tabula.read_pdf(filepath,pages = 3, multiple_tables = True)\n",
    "df3 = pd.DataFrame(df[0])\n",
    "\n",
    "df = tabula.read_pdf(filepath,pages = 4, multiple_tables = True)\n",
    "df4 = pd.DataFrame(df[0])\n",
    "\n",
    "df = tabula.read_pdf(filepath,pages = 5, multiple_tables = True)\n",
    "df5 = pd.DataFrame(df[0])\n",
    "\n",
    "df = tabula.read_pdf(filepath,pages = 6, multiple_tables = True)\n",
    "df6 = pd.DataFrame(df[0])\n",
    "\n",
    "df = tabula.read_pdf(filepath,pages = 7, multiple_tables = True)\n",
    "df7 = pd.DataFrame(df[0])\n",
    "\n",
    "df = tabula.read_pdf(filepath,pages = 8, multiple_tables = True)\n",
    "df8 = pd.DataFrame(df[0])\n",
    "\n",
    "df = tabula.read_pdf(filepath,pages = 9, multiple_tables = True)\n",
    "df9 = pd.DataFrame(df[0])\n",
    "\n",
    "df = tabula.read_pdf(filepath,pages = 10, multiple_tables = True)\n",
    "df10 = pd.DataFrame(df[0])\n",
    "\n",
    "df = tabula.read_pdf(filepath,pages = 11, multiple_tables = True)\n",
    "df11 = pd.DataFrame(df[0])\n",
    "\n",
    "df = tabula.read_pdf(filepath,pages = 12, multiple_tables = True)\n",
    "df12 = pd.DataFrame(df[0])"
   ]
  },
  {
   "cell_type": "code",
   "execution_count": null,
   "metadata": {},
   "outputs": [],
   "source": [
    "df1.columns"
   ]
  },
  {
   "cell_type": "code",
   "execution_count": null,
   "metadata": {},
   "outputs": [],
   "source": [
    "df1 = df1[['SL. NO.', 'Unnamed: 1']].dropna().drop([16,24,35,57,58,59])\n",
    "df1['Sr.No'] = df1['SL. NO.'].str.split(\" \", expand = True)[0]\n",
    "df1['Airways'] = df1['SL. NO.'].str.split(\" \", expand = True)[1]\n",
    "\n",
    "\n",
    "df1 = df1[['Sr.No','Airways','Unnamed: 1']]\n",
    "df1 = Page(df1)"
   ]
  },
  {
   "cell_type": "code",
   "execution_count": null,
   "metadata": {},
   "outputs": [],
   "source": [
    "df2 = df2[['SL. NO.', 'Unnamed: 1']].dropna().drop([16,24,35,57,58,59])\n",
    "df2['Sr.No'] = df2['SL. NO.'].str.split(\" \", expand = True)[0]\n",
    "df2['Airways'] = df2['SL. NO.'].str.split(\" \", expand = True)[1]\n",
    "\n",
    "\n",
    "df2 = df2[['Sr.No','Airways','Unnamed: 1']]\n",
    "df2 = Page(df2)"
   ]
  },
  {
   "cell_type": "code",
   "execution_count": null,
   "metadata": {},
   "outputs": [],
   "source": [
    "df3 = df3[['SL. NO.', 'Unnamed: 1']].dropna().drop([16,24,35,57,58,59])\n",
    "df3['Sr.No'] = df3['SL. NO.'].str.split(\" \", expand = True)[0]\n",
    "df3['Airways'] = df3['SL. NO.'].str.split(\" \", expand = True)[1]\n",
    "\n",
    "\n",
    "df3 = df3[['Sr.No','Airways','Unnamed: 1']]\n",
    "df3 = Page(df3)"
   ]
  },
  {
   "cell_type": "code",
   "execution_count": null,
   "metadata": {},
   "outputs": [],
   "source": [
    "df4 = df4[['SL. NO.', 'Unnamed: 1']].dropna().drop([16,24,35,57,58,59])\n",
    "df4['Sr.No'] = df4['SL. NO.'].str.split(\" \", expand = True)[0]\n",
    "df4['Airways'] = df4['SL. NO.'].str.split(\" \", expand = True)[1]\n",
    "\n",
    "\n",
    "df4 = df4[['Sr.No','Airways','Unnamed: 1']]\n",
    "df4 = Page(df4)"
   ]
  },
  {
   "cell_type": "code",
   "execution_count": null,
   "metadata": {},
   "outputs": [],
   "source": [
    "df5 = df5[['SL. NO.', 'Unnamed: 1']].dropna().drop([16,24,35,57,58,59])\n",
    "df5['Sr.No'] = df5['SL. NO.'].str.split(\" \", expand = True)[0]\n",
    "df5['Airways'] = df5['SL. NO.'].str.split(\" \", expand = True)[1]\n",
    "\n",
    "\n",
    "df5 = df5[['Sr.No','Airways','Unnamed: 1']]\n",
    "df5 = Page(df5)"
   ]
  },
  {
   "cell_type": "code",
   "execution_count": null,
   "metadata": {},
   "outputs": [],
   "source": [
    "df6 = df6[['SL. NO.', 'Unnamed: 1']].dropna().drop([16,24,35,57,58,59])\n",
    "df6['Sr.No'] = df6['SL. NO.'].str.split(\" \", expand = True)[0]\n",
    "df6['Airways'] = df6['SL. NO.'].str.split(\" \", expand = True)[1]\n",
    "\n",
    "\n",
    "df6 = df6[['Sr.No','Airways','Unnamed: 1']]\n",
    "df6 = Page(df6)"
   ]
  },
  {
   "cell_type": "code",
   "execution_count": null,
   "metadata": {},
   "outputs": [],
   "source": [
    "df7 = df7[['SL. NO.', 'Unnamed: 1']].dropna().drop([16,24,35,57,58,59])\n",
    "df7['Sr.No'] = df7['SL. NO.'].str.split(\" \", expand = True)[0]\n",
    "df7['Airways'] = df7['SL. NO.'].str.split(\" \", expand = True)[1]\n",
    "\n",
    "\n",
    "df7 = df7[['Sr.No','Airways','Unnamed: 1']]\n",
    "df7 = Page(df7)"
   ]
  },
  {
   "cell_type": "code",
   "execution_count": null,
   "metadata": {},
   "outputs": [],
   "source": [
    "df8 = df8[['SL. NO.', 'Unnamed: 1']].dropna().drop([16,24,37,57,58,59])\n",
    "df8['Sr.No'] = df8['SL. NO.'].str.split(\" \", expand = True)[0]\n",
    "df8['Airways'] = df8['SL. NO.'].str.split(\" \", expand = True)[1]\n",
    "\n",
    "\n",
    "df8 = df8[['Sr.No','Airways','Unnamed: 1']]\n",
    "df8 = Page(df8)"
   ]
  },
  {
   "cell_type": "code",
   "execution_count": null,
   "metadata": {},
   "outputs": [],
   "source": [
    "\n",
    "\n",
    "df9 = df9[['ANNEXURE-IIIB\\rTRAFFIC STATISTICS - DOMESTIC PASSENGERS', 'Unnamed: 0',\n",
    "       'Unnamed: 1']].dropna().drop([0,15,23,36,56,57,58])\n",
    "\n",
    "\n",
    "df9 = Page(df9)"
   ]
  },
  {
   "cell_type": "code",
   "execution_count": null,
   "metadata": {},
   "outputs": [],
   "source": [
    "df10 = df10[['SL. NO.', 'Unnamed: 1']].dropna().drop([16,24,37,57,58,59])\n",
    "df10['Sr.No'] = df10['SL. NO.'].str.split(\" \", expand = True)[0]\n",
    "df10['Airways'] = df10['SL. NO.'].str.split(\" \", expand = True)[1]\n",
    "\n",
    "\n",
    "df10 = df10[['Sr.No','Airways','Unnamed: 1']]\n",
    "df10 = Page(df10)"
   ]
  },
  {
   "cell_type": "code",
   "execution_count": null,
   "metadata": {},
   "outputs": [],
   "source": [
    "df11 = df11[['SL. NO.', 'Unnamed: 1']].dropna().drop([16,24,37,57,58,59])\n",
    "df11['Sr.No'] = df11['SL. NO.'].str.split(\" \", expand = True)[0]\n",
    "df11['Airways'] = df11['SL. NO.'].str.split(\" \", expand = True)[1]\n",
    "\n",
    "\n",
    "df11 = df11[['Sr.No','Airways','Unnamed: 1']]\n",
    "df11 = Page(df11)"
   ]
  },
  {
   "cell_type": "code",
   "execution_count": null,
   "metadata": {},
   "outputs": [],
   "source": [
    "df12 = df12[['SL. NO.', 'Unnamed: 1']].dropna().drop([16,24,37,57,58,59])\n",
    "df12['Sr.No'] = df12['SL. NO.'].str.split(\" \", expand = True)[0]\n",
    "df12['Airways'] = df12['SL. NO.'].str.split(\" \", expand = True)[1]\n",
    "\n",
    "\n",
    "df12 = df12[['Sr.No','Airways','Unnamed: 1']]\n",
    "df12 = Page(df12)"
   ]
  },
  {
   "cell_type": "code",
   "execution_count": null,
   "metadata": {},
   "outputs": [],
   "source": [
    "df12.shape"
   ]
  },
  {
   "cell_type": "code",
   "execution_count": null,
   "metadata": {},
   "outputs": [],
   "source": [
    "Airports = df1['Airports']\n",
    "frame = [df2,df3,df4,df5,df6,df7,df8,df9,df10,df11,df12]\n",
    "\n",
    "for a in frame:\n",
    "    b = a['Airports']\n",
    "    print(b)\n",
    "    Airports = Airports.append(b)"
   ]
  },
  {
   "cell_type": "code",
   "execution_count": null,
   "metadata": {},
   "outputs": [],
   "source": [
    "Final = set(Airports)\n",
    "\n",
    "Final_df = pd.DataFrame(Final)\n",
    "Final_df.columns = ['Airports']"
   ]
  },
  {
   "cell_type": "code",
   "execution_count": null,
   "metadata": {},
   "outputs": [],
   "source": [
    "Total_11 = pd.merge(left=Final_df, right=df1, how='left', left_on='Airports', right_on='Airports')\n",
    "Total_11 = Total_11.fillna(0)\n",
    "\n",
    "frame = [df2,df3,df4,df5,df6,df7,df8,df9,df10,df11,df12]\n",
    "\n",
    "for a in frame:\n",
    "    Total_11 = pd.merge(left=Total_11, right=a, how='left', left_on='Airports', right_on='Airports')\n",
    "    Total_11 = Total_11.fillna(0)\n",
    "\n",
    "\n",
    "Total_11 = Total_11.set_index('Airports')\n",
    "\n",
    "Total_11 = Total_11.astype(float)\n",
    "\n",
    "Total_11"
   ]
  },
  {
   "cell_type": "code",
   "execution_count": null,
   "metadata": {},
   "outputs": [],
   "source": [
    "Total_11.columns = ['Passengers(Jan)','Passengers(Feb)','Passengers(Mar)','Passengers(Apr)','Passengers(May)','Passengers(Jun)','Passengers(Jul)','Passengers(Aug)','Passengers(Sep)','Passengers(Oct)','Passengers(Nov)','Passengers(Dec)']\n",
    "Total_11['Year'] = 2011"
   ]
  },
  {
   "cell_type": "code",
   "execution_count": null,
   "metadata": {},
   "outputs": [],
   "source": [
    "print(Total_15.shape)\n",
    "print(Total_14.shape)\n",
    "print(Total_13.shape)\n",
    "print(Total_12.shape)\n",
    "print(Total_11.shape)"
   ]
  },
  {
   "cell_type": "code",
   "execution_count": null,
   "metadata": {},
   "outputs": [],
   "source": [
    "%store Total_15\n",
    "%store Total_14\n",
    "%store Total_13\n",
    "%store Total_12\n",
    "%store Total_11\n"
   ]
  },
  {
   "cell_type": "code",
   "execution_count": null,
   "metadata": {},
   "outputs": [],
   "source": []
  }
 ],
 "metadata": {
  "kernelspec": {
   "display_name": "Python 3",
   "language": "python",
   "name": "python3"
  },
  "language_info": {
   "codemirror_mode": {
    "name": "ipython",
    "version": 3
   },
   "file_extension": ".py",
   "mimetype": "text/x-python",
   "name": "python",
   "nbconvert_exporter": "python",
   "pygments_lexer": "ipython3",
   "version": "3.7.6"
  }
 },
 "nbformat": 4,
 "nbformat_minor": 4
}
