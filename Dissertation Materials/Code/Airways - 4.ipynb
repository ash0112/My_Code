{
 "cells": [
  {
   "cell_type": "markdown",
   "metadata": {},
   "source": [
    "### Importing all the required libraries"
   ]
  },
  {
   "cell_type": "code",
   "execution_count": null,
   "metadata": {},
   "outputs": [],
   "source": [
    "import pandas as pd\n",
    "import numpy as np"
   ]
  },
  {
   "cell_type": "code",
   "execution_count": null,
   "metadata": {},
   "outputs": [],
   "source": [
    "from statsmodels.tsa.vector_ar.var_model import VAR\n",
    "import matplotlib.pylab as plt"
   ]
  },
  {
   "cell_type": "markdown",
   "metadata": {},
   "source": [
    "### Extracting all the dataframes which were stored in the previou notebooks."
   ]
  },
  {
   "cell_type": "code",
   "execution_count": null,
   "metadata": {},
   "outputs": [],
   "source": [
    "%store -r Total_11\n",
    "%store -r Total_12\n",
    "%store -r Total_13\n",
    "%store -r Total_14\n",
    "%store -r Total_15\n",
    "%store -r Total_16\n",
    "%store -r Total_17\n",
    "%store -r Total_18\n",
    "%store -r Total_19"
   ]
  },
  {
   "cell_type": "code",
   "execution_count": null,
   "metadata": {},
   "outputs": [],
   "source": [
    "Total_17"
   ]
  },
  {
   "cell_type": "markdown",
   "metadata": {},
   "source": [
    "### Rechecking the size of all the imported dataframes."
   ]
  },
  {
   "cell_type": "code",
   "execution_count": null,
   "metadata": {},
   "outputs": [],
   "source": [
    "print(Total_19.shape)\n",
    "print(Total_18.shape)\n",
    "print(Total_17.shape)\n",
    "print(Total_16.shape)\n",
    "print(Total_15.shape)\n",
    "print(Total_14.shape)\n",
    "print(Total_13.shape)\n",
    "print(Total_12.shape)\n",
    "print(Total_11.shape)"
   ]
  },
  {
   "cell_type": "code",
   "execution_count": null,
   "metadata": {},
   "outputs": [],
   "source": [
    "Frame = [Total_11,Total_12,Total_13,Total_14,Total_15,Total_16,Total_17,Total_18,Total_19]\n",
    "Airway_Total = pd.concat(Frame) # The Final dataframe for all the past 10 years of Airport Authority of India data."
   ]
  },
  {
   "cell_type": "markdown",
   "metadata": {},
   "source": [
    "====================================\n",
    "====================================\n",
    "\n",
    "\n",
    "\n",
    "\n",
    "\n",
    "====================================\n",
    "===================================="
   ]
  },
  {
   "cell_type": "code",
   "execution_count": null,
   "metadata": {},
   "outputs": [],
   "source": [
    "# Applying VAR Model to one of the airport traffic (e.g., Pune)\n",
    "\n",
    "a = Airway_Total.loc['PUNE']\n",
    "\n",
    "sample = a.set_index('Year')\n",
    "\n",
    "model = VAR(sample)\n",
    "\n",
    "model_fit = model.fit()\n",
    "\n",
    "yhat = model_fit.forecast(model_fit.y, steps=3)\n",
    "\n",
    "df1 = pd.DataFrame(yhat)\n",
    "\n",
    "df1"
   ]
  },
  {
   "cell_type": "code",
   "execution_count": null,
   "metadata": {},
   "outputs": [],
   "source": [
    "Total_19.head(20)"
   ]
  },
  {
   "cell_type": "markdown",
   "metadata": {},
   "source": [
    "================================================================\n",
    "================================================================\n",
    "\n",
    "\n",
    "\n",
    "================================================================\n",
    "================================================================"
   ]
  },
  {
   "cell_type": "code",
   "execution_count": null,
   "metadata": {},
   "outputs": [],
   "source": []
  },
  {
   "cell_type": "code",
   "execution_count": null,
   "metadata": {},
   "outputs": [],
   "source": [
    "# Resetting the index values in the dataframe.\n",
    "\n",
    "sample = Airway_Total.reset_index()"
   ]
  },
  {
   "cell_type": "code",
   "execution_count": null,
   "metadata": {},
   "outputs": [],
   "source": [
    "# Cleaning the values in the Airport column of the dataframe.\n",
    "\n",
    "sample['Airports1'] = sample['Airports'].str.split(\"(\", expand = True)[0]\n",
    "sample['Name2'] = sample['Airports'].str.split(\"(\", expand = True)[1]\n",
    "sample['Airports1'] = sample['Airports1'].str.replace(\" \",\"\")"
   ]
  },
  {
   "cell_type": "code",
   "execution_count": null,
   "metadata": {},
   "outputs": [],
   "source": [
    "# Extracting all the values in the column having a special character value.\n",
    "\n",
    "df = []\n",
    "for i in list(range(0,len(sample))):\n",
    "    if pd.notnull(sample.iloc[i,15]):\n",
    "        df.append(sample.iloc[i,14])"
   ]
  },
  {
   "cell_type": "code",
   "execution_count": null,
   "metadata": {},
   "outputs": [],
   "source": [
    "df1 = pd.DataFrame(df)"
   ]
  },
  {
   "cell_type": "code",
   "execution_count": null,
   "metadata": {},
   "outputs": [],
   "source": [
    "Place = list(set(df))"
   ]
  },
  {
   "cell_type": "code",
   "execution_count": null,
   "metadata": {},
   "outputs": [],
   "source": [
    "Place"
   ]
  },
  {
   "cell_type": "code",
   "execution_count": null,
   "metadata": {},
   "outputs": [],
   "source": [
    "sample[sample['Airports1'] == 'DELHI']"
   ]
  },
  {
   "cell_type": "code",
   "execution_count": null,
   "metadata": {},
   "outputs": [],
   "source": [
    "# Cleaning and formatting the data in the required pattern.\n",
    "# Analyzing the traffix for the busiest airport in India\n",
    "\n",
    "sam = sample[sample['Airports1'] == 'DELHI']\n",
    "\n",
    "for i in list(range(0,len(sam)-1)):\n",
    "    if sam.iloc[i,13] == sam.iloc[i+1,13]:\n",
    "        for j in list(range(1,13)):\n",
    "            if sam.iloc[i,j] == 0.0:\n",
    "                sam.iloc[i,j] = sam.iloc[i+1,j]\n",
    "\n",
    "sam = sam.reset_index(drop = True)\n",
    "\n",
    "ind = []\n",
    "for i in list(range(0,len(sam)-1)):\n",
    "    if sam.iloc[i,13] == sam.iloc[i+1,13]:\n",
    "        ind.append(i+1)\n",
    "        \n",
    "sam = sam.drop(ind)\n",
    "        \n",
    "\n",
    "sam = sam.set_index('Airports1')\n",
    "\n",
    "sam = sam.iloc[:,1:14]\n",
    "\n",
    "sam"
   ]
  },
  {
   "cell_type": "code",
   "execution_count": null,
   "metadata": {},
   "outputs": [],
   "source": [
    "# Plotting the above data.\n",
    "\n",
    "sam1 = sam.set_index(\"Year\")\n",
    "\n",
    "sam1.plot()"
   ]
  },
  {
   "cell_type": "code",
   "execution_count": null,
   "metadata": {},
   "outputs": [],
   "source": [
    "# List of all the JV Airports in India\n",
    "\n",
    "\n",
    "frame = ['MUMBAI','DELHI','BANGALORE','HYDERABAD','NAGPUR','COCHIN']"
   ]
  },
  {
   "cell_type": "code",
   "execution_count": null,
   "metadata": {},
   "outputs": [],
   "source": [
    "for x in frame:\n",
    "    sam = sample[sample['Airports1'] == x]\n",
    "\n",
    "    for i in list(range(0,len(sam)-1)):\n",
    "        if sam.iloc[i,13] == sam.iloc[i+1,13]:\n",
    "            for j in list(range(1,13)):\n",
    "                if sam.iloc[i,j] == 0.0:\n",
    "                    sam.iloc[i,j] = sam.iloc[i+1,j]\n",
    "\n",
    "    sam = sam.reset_index(drop = True)\n",
    "\n",
    "    ind = []\n",
    "    for i in list(range(0,len(sam)-1)):\n",
    "        if sam.iloc[i,13] == sam.iloc[i+1,13]:\n",
    "            ind.append(i+1)\n",
    "        \n",
    "    sam = sam.drop(ind)\n",
    "        \n",
    "\n",
    "    sam = sam.set_index('Airports1')\n",
    "\n",
    "    sam = sam.iloc[:,1:14]\n",
    "\n",
    "    sam1 = sam.set_index('Year')\n",
    "    sam1.plot()\n",
    "    print(x)"
   ]
  },
  {
   "cell_type": "code",
   "execution_count": null,
   "metadata": {},
   "outputs": [],
   "source": [
    "sam"
   ]
  },
  {
   "cell_type": "code",
   "execution_count": null,
   "metadata": {},
   "outputs": [],
   "source": [
    "frame = ['Passengers(Jan)', 'Passengers(Feb)', 'Passengers(Mar)',\n",
    "       'Passengers(Apr)', 'Passengers(May)', 'Passengers(Jun)',\n",
    "       'Passengers(Jul)', 'Passengers(Aug)', 'Passengers(Sep)',\n",
    "       'Passengers(Oct)', 'Passengers(Nov)', 'Passengers(Dec)']"
   ]
  },
  {
   "cell_type": "code",
   "execution_count": null,
   "metadata": {},
   "outputs": [],
   "source": [
    "sample"
   ]
  },
  {
   "cell_type": "code",
   "execution_count": null,
   "metadata": {},
   "outputs": [],
   "source": [
    "sam = sample[sample['Airports1'] == 'AMRITSAR']"
   ]
  },
  {
   "cell_type": "code",
   "execution_count": null,
   "metadata": {},
   "outputs": [],
   "source": [
    "sam"
   ]
  },
  {
   "cell_type": "code",
   "execution_count": null,
   "metadata": {},
   "outputs": [],
   "source": [
    "# Analysing the dataset to get the Year with the maximum number of Passenegers from a particular airport.\n",
    "\n",
    "for y in frame:\n",
    "    x = sam[y].max()\n",
    "    a = sam[sam[y] == x]\n",
    "    print('Max passenger of {} for the month of {} in the year{} were from {}'.format(x, y, a['Year'], a['Airports1']))\n",
    "    print(\"*\"*44)\n",
    "    print('\\n')"
   ]
  },
  {
   "cell_type": "markdown",
   "metadata": {},
   "source": [
    "================================================================\n",
    "================================================================\n",
    "\n",
    "\n",
    "\n",
    "\n",
    "\n",
    "================================================================\n",
    "================================================================"
   ]
  },
  {
   "cell_type": "code",
   "execution_count": null,
   "metadata": {},
   "outputs": [],
   "source": [
    "sample"
   ]
  },
  {
   "cell_type": "code",
   "execution_count": null,
   "metadata": {},
   "outputs": [],
   "source": [
    "sample.to_csv('data/sample.csv',index = False)"
   ]
  },
  {
   "cell_type": "code",
   "execution_count": null,
   "metadata": {},
   "outputs": [],
   "source": [
    "Amritsar = sam"
   ]
  },
  {
   "cell_type": "code",
   "execution_count": null,
   "metadata": {},
   "outputs": [],
   "source": [
    "Amritsar.to_csv('../Learning/data/Dissertation/Airways/Amritsar.csv')"
   ]
  },
  {
   "cell_type": "markdown",
   "metadata": {},
   "source": [
    "=======================================\n",
    "=======================================\n",
    "\n",
    "\n",
    "\n",
    "\n",
    "=======================================\n",
    "======================================="
   ]
  },
  {
   "cell_type": "code",
   "execution_count": null,
   "metadata": {},
   "outputs": [],
   "source": [
    "# Anaysing the traffic in all the Northest airports of the country.\n",
    "\n",
    "\n",
    "frame = ['Guwahati', 'Agartala', 'Pakyong', 'Shillong', 'Lengpui', 'Dimapur', 'Dibrugarh', 'Silchar','Imphal']\n",
    "\n",
    "col_name = ['Airports', 'Passengers(Jan)', 'Passengers(Feb)', 'Passengers(Mar)',\n",
    "       'Passengers(Apr)', 'Passengers(May)', 'Passengers(Jun)',\n",
    "       'Passengers(Jul)', 'Passengers(Aug)', 'Passengers(Sep)',\n",
    "       'Passengers(Oct)', 'Passengers(Nov)', 'Passengers(Dec)', 'Year',\n",
    "       'Airports1', 'Name2']\n",
    "\n",
    "sam = pd.DataFrame(columns = col_name)\n",
    "\n",
    "for r in frame:\n",
    "    x = r.upper()\n",
    "    df1 = sample[sample['Airports'] == x]\n",
    "    sam = sam.append(df1)\n",
    "\n",
    "sam"
   ]
  },
  {
   "cell_type": "code",
   "execution_count": null,
   "metadata": {},
   "outputs": [],
   "source": [
    "#sam = sample[sample['Airports1'] == 'AMRITSAR']\n",
    "\n",
    "for i in list(range(0,len(sam)-1)):\n",
    "    if sam.iloc[i,13] == sam.iloc[i+1,13]:\n",
    "        for j in list(range(1,13)):\n",
    "            if sam.iloc[i,j] == 0.0:\n",
    "                sam.iloc[i,j] = sam.iloc[i+1,j]\n",
    "\n",
    "sam = sam.reset_index(drop = True)\n",
    "\n",
    "ind = []\n",
    "for i in list(range(0,len(sam)-1)):\n",
    "    if sam.iloc[i,13] == sam.iloc[i+1,13]:\n",
    "        ind.append(i+1)\n",
    "        \n",
    "sam = sam.drop(ind)\n",
    "        \n",
    "\n",
    "sam = sam.set_index('Airports1')\n",
    "\n",
    "sam = sam.iloc[:,1:14]\n",
    "\n",
    "sam"
   ]
  },
  {
   "cell_type": "code",
   "execution_count": null,
   "metadata": {},
   "outputs": [],
   "source": [
    "sam.to_csv('../Learning/data/Dissertation/Airways/Northeast.csv')"
   ]
  },
  {
   "cell_type": "markdown",
   "metadata": {},
   "source": [
    "=============================\n",
    "=============================\n",
    "\n",
    "\n",
    "\n",
    "\n",
    "\n",
    "============================\n",
    "============================\n"
   ]
  },
  {
   "cell_type": "code",
   "execution_count": null,
   "metadata": {},
   "outputs": [],
   "source": [
    "frame = ['MUMBAI','DELHI','BANGALORE','HYDERABAD','COCHIN','NAGPUR']\n",
    "\n",
    "col_name = ['Airports', 'Passengers(Jan)', 'Passengers(Feb)', 'Passengers(Mar)',\n",
    "       'Passengers(Apr)', 'Passengers(May)', 'Passengers(Jun)',\n",
    "       'Passengers(Jul)', 'Passengers(Aug)', 'Passengers(Sep)',\n",
    "       'Passengers(Oct)', 'Passengers(Nov)', 'Passengers(Dec)', 'Year',\n",
    "       'Airports1', 'Name2']\n",
    "\n",
    "sam = pd.DataFrame(columns = col_name)\n",
    "\n",
    "for r in frame:\n",
    "    #x = r.upper()\n",
    "    df1 = sample[sample['Airports1'] == r]\n",
    "    sam = sam.append(df1)\n",
    "    \n",
    "    \n",
    "    \n"
   ]
  },
  {
   "cell_type": "code",
   "execution_count": null,
   "metadata": {},
   "outputs": [],
   "source": [
    "    \n",
    "for i in list(range(0,len(sam)-1)):\n",
    "    if sam.iloc[i,13] == sam.iloc[i+1,13]:\n",
    "        for j in list(range(1,13)):\n",
    "            if sam.iloc[i,j] == 0.0:\n",
    "                sam.iloc[i,j] = sam.iloc[i+1,j]\n",
    "\n",
    "sam = sam.reset_index(drop = True)\n",
    "\n",
    "ind = []\n",
    "for i in list(range(0,len(sam)-1)):\n",
    "    if sam.iloc[i,13] == sam.iloc[i+1,13]:\n",
    "        ind.append(i+1)\n",
    "        \n",
    "sam = sam.drop(ind)\n",
    "        \n",
    "\n",
    "sam = sam.set_index('Airports1')\n",
    "\n",
    "sam = sam.iloc[:,1:14]\n",
    "\n",
    "sam"
   ]
  },
  {
   "cell_type": "code",
   "execution_count": null,
   "metadata": {},
   "outputs": [],
   "source": [
    "sam.to_csv('../Learning/data/Dissertation/Airways/JV.csv')"
   ]
  },
  {
   "cell_type": "code",
   "execution_count": null,
   "metadata": {},
   "outputs": [],
   "source": []
  }
 ],
 "metadata": {
  "kernelspec": {
   "display_name": "Python 3",
   "language": "python",
   "name": "python3"
  },
  "language_info": {
   "codemirror_mode": {
    "name": "ipython",
    "version": 3
   },
   "file_extension": ".py",
   "mimetype": "text/x-python",
   "name": "python",
   "nbconvert_exporter": "python",
   "pygments_lexer": "ipython3",
   "version": "3.7.6"
  }
 },
 "nbformat": 4,
 "nbformat_minor": 4
}
