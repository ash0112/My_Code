{
 "cells": [
  {
   "cell_type": "code",
   "execution_count": null,
   "metadata": {},
   "outputs": [],
   "source": [
    "# Importing the libraries and the required pdf file\n",
    "\n",
    "import tabula\n",
    "import pandas as pd\n",
    "import numpy as np\n",
    "\n",
    "filepath = \"../Learning/data/Dissertation/Airways/Total_2019.pdf\""
   ]
  },
  {
   "cell_type": "code",
   "execution_count": null,
   "metadata": {},
   "outputs": [],
   "source": [
    "# importing the file page of the pdf file\n",
    "\n",
    "df = tabula.read_pdf(filepath,pages = 1, multiple_tables = True)\n",
    "df_1 = pd.DataFrame(df[0])"
   ]
  },
  {
   "cell_type": "code",
   "execution_count": null,
   "metadata": {},
   "outputs": [],
   "source": [
    "df_1.columns"
   ]
  },
  {
   "cell_type": "code",
   "execution_count": null,
   "metadata": {},
   "outputs": [],
   "source": [
    "# changing the above dataframe into a required format\n",
    "\n",
    "sample = df_1[['Unnamed: 0', 'Unnamed: 2']].dropna().reset_index(drop = True).drop([20, 28, 37])\n",
    "\n",
    "sample['Sr.No'] = sample[\"Unnamed: 0\"].str.split(\" \",expand = True)[0]\n",
    "sample['Airports'] = sample[\"Unnamed: 0\"].str.split(\" \",expand = True)[1]\n",
    "\n",
    "sample = sample[['Sr.No', 'Airports', 'Unnamed: 2']].set_index('Sr.No')\n",
    "sample.columns = ['Airports','Passengers(Jan)']\n",
    "\n",
    "\n",
    "sample"
   ]
  },
  {
   "cell_type": "code",
   "execution_count": null,
   "metadata": {},
   "outputs": [],
   "source": [
    "# importing the second page\n",
    "\n",
    "df = tabula.read_pdf(filepath,pages = 2, multiple_tables = True)\n",
    "df_2 = pd.DataFrame(df[0])"
   ]
  },
  {
   "cell_type": "code",
   "execution_count": null,
   "metadata": {},
   "outputs": [],
   "source": [
    "df_2.columns"
   ]
  },
  {
   "cell_type": "code",
   "execution_count": null,
   "metadata": {},
   "outputs": [],
   "source": [
    "df_2 = df_2[['SL. NO.', 'AIRPORT', 'PASSENGERS (IN NOS.)' ]].dropna().drop([49, 58, 59, 60]).set_index('SL. NO.')\n",
    "df_2.columns = ['Airports','Passengers(Jan)']\n",
    "\n",
    "frame = [sample, df_2]\n",
    "df_19_1 = pd.concat(frame, axis = 0)"
   ]
  },
  {
   "cell_type": "code",
   "execution_count": null,
   "metadata": {},
   "outputs": [],
   "source": [
    "df = tabula.read_pdf(filepath,pages = 3, multiple_tables = True)\n",
    "df_3 = pd.DataFrame(df[0])"
   ]
  },
  {
   "cell_type": "code",
   "execution_count": null,
   "metadata": {},
   "outputs": [],
   "source": [
    "df_3"
   ]
  },
  {
   "cell_type": "code",
   "execution_count": null,
   "metadata": {},
   "outputs": [],
   "source": [
    "df_3.columns"
   ]
  },
  {
   "cell_type": "code",
   "execution_count": null,
   "metadata": {},
   "outputs": [],
   "source": [
    "sample = df_3[['Unnamed: 1', 'Unnamed: 2']].dropna().reset_index(drop = True).drop([0, 1, 22, 38])\n",
    "\n",
    "sample['Sr.No'] = sample[\"Unnamed: 1\"].str.split(\" \",expand = True)[0]\n",
    "sample['Airports'] = sample[\"Unnamed: 1\"].str.split(\" \",expand = True)[1]\n",
    "\n",
    "sample = sample[['Sr.No', 'Airports', 'Unnamed: 2']].set_index('Sr.No')\n",
    "sample.columns = ['Airports','Passengers(Feb)']\n",
    "\n",
    "\n",
    "sample"
   ]
  },
  {
   "cell_type": "code",
   "execution_count": null,
   "metadata": {},
   "outputs": [],
   "source": [
    "df = tabula.read_pdf(filepath,pages = 4, multiple_tables = True)\n",
    "df_4 = pd.DataFrame(df[0])"
   ]
  },
  {
   "cell_type": "code",
   "execution_count": null,
   "metadata": {},
   "outputs": [],
   "source": [
    "df_4.columns"
   ]
  },
  {
   "cell_type": "code",
   "execution_count": null,
   "metadata": {},
   "outputs": [],
   "source": [
    "df_4 = df_4[['Unnamed: 0', 'Unnamed: 1']].dropna()"
   ]
  },
  {
   "cell_type": "code",
   "execution_count": null,
   "metadata": {},
   "outputs": [],
   "source": [
    "# As the data contains special character, we are writing extra query to remove them\n",
    "\n",
    "val = df_4[\"Unnamed: 0\"].str.split(\" \",expand = True)\n",
    "\n",
    "for i in range(0,len(val)):\n",
    "    if val.iloc[i,1] == '(':\n",
    "        val.iloc[i,1] = val.iloc[i,3]\n",
    "        \n",
    "\n",
    "df_4['Sr.No'] = val[0]\n",
    "\n",
    "df_4['Airports'] = val[1]\n",
    "\n",
    "\n",
    "\n",
    "df_4 = df_4[['Sr.No', 'Airports', 'Unnamed: 1']].set_index('Sr.No')\n",
    "df_4.columns = ['Airports','Passengers(Feb)']\n",
    "\n",
    "df_4"
   ]
  },
  {
   "cell_type": "code",
   "execution_count": null,
   "metadata": {},
   "outputs": [],
   "source": [
    "frame = [sample, df_4]\n",
    "df_19_2 = pd.concat(frame)"
   ]
  },
  {
   "cell_type": "code",
   "execution_count": null,
   "metadata": {},
   "outputs": [],
   "source": [
    "df = tabula.read_pdf(filepath,pages = 5, multiple_tables = True)\n",
    "df_5 = pd.DataFrame(df[0])"
   ]
  },
  {
   "cell_type": "code",
   "execution_count": null,
   "metadata": {},
   "outputs": [],
   "source": [
    "sample = df_5[['Unnamed: 1']].dropna().reset_index(drop = True).drop([0, 1, 2, 3, 24, 25, 26, 34, 35, 36, 45, 46, 47])\n",
    "\n",
    "val = sample['Unnamed: 1'].str.split(\" \", expand = True)\n",
    "\n",
    "for i in range(0, len(val)):\n",
    "    if pd.notnull(val.iloc[i,3]):\n",
    "        val.iloc[i,2] = val.iloc[i,3]\n",
    "\n",
    "sample['Sr.No'] = val[0]\n",
    "sample['Airports'] = val[1]\n",
    "sample['Passengers(Mar)'] = val[2]\n",
    "\n",
    "\n",
    "\n",
    "sample = sample[['Sr.No','Airports','Passengers(Mar)']].set_index('Sr.No')\n",
    "\n",
    "sample"
   ]
  },
  {
   "cell_type": "code",
   "execution_count": null,
   "metadata": {},
   "outputs": [],
   "source": [
    "df = tabula.read_pdf(filepath,pages = 6, multiple_tables = True)\n",
    "df_6 = pd.DataFrame(df[0])"
   ]
  },
  {
   "cell_type": "code",
   "execution_count": null,
   "metadata": {},
   "outputs": [],
   "source": [
    "df_6.columns"
   ]
  },
  {
   "cell_type": "code",
   "execution_count": null,
   "metadata": {},
   "outputs": [],
   "source": [
    "df_6 = df_6[['Unnamed: 0', 'Unnamed: 1']].dropna()"
   ]
  },
  {
   "cell_type": "code",
   "execution_count": null,
   "metadata": {},
   "outputs": [],
   "source": [
    "val = df_6[\"Unnamed: 0\"].str.split(\" \",expand = True)\n",
    "\n",
    "for i in range(0,len(val)):\n",
    "    if val.iloc[i,1] == '(':\n",
    "        val.iloc[i,1] = val.iloc[i,3]\n",
    "        \n",
    "\n",
    "        \n",
    "df_6['Sr.No'] = val[0]\n",
    "\n",
    "df_6['Airports'] = val[1]\n",
    "\n",
    "\n",
    "\n",
    "df_6 = df_6[['Sr.No', 'Airports', 'Unnamed: 1']].set_index('Sr.No')\n",
    "df_6.columns = ['Airports','Passengers(Mar)']\n",
    "\n",
    "df_6"
   ]
  },
  {
   "cell_type": "code",
   "execution_count": null,
   "metadata": {},
   "outputs": [],
   "source": [
    "frame = [sample, df_6]\n",
    "df_19_3 = pd.concat(frame)"
   ]
  },
  {
   "cell_type": "code",
   "execution_count": null,
   "metadata": {},
   "outputs": [],
   "source": [
    "df = tabula.read_pdf(filepath,pages = 7, multiple_tables = True)\n",
    "df_7 = pd.DataFrame(df[0])"
   ]
  },
  {
   "cell_type": "code",
   "execution_count": null,
   "metadata": {},
   "outputs": [],
   "source": [
    "df_7.columns"
   ]
  },
  {
   "cell_type": "code",
   "execution_count": null,
   "metadata": {},
   "outputs": [],
   "source": [
    "sample = df_7[['Unnamed: 1',  'Unnamed: 3']].dropna().drop([29,39])"
   ]
  },
  {
   "cell_type": "code",
   "execution_count": null,
   "metadata": {},
   "outputs": [],
   "source": [
    "sample['Airports'] = sample['Unnamed: 1'].str.split(\" \", expand = True)[1]"
   ]
  },
  {
   "cell_type": "code",
   "execution_count": null,
   "metadata": {},
   "outputs": [],
   "source": [
    "# As the shape of the datafrae is different from the other ones, a different approach is applied.\n",
    "\n",
    "sample['Unnamed: 3'] = sample['Unnamed: 3'].astype(str)\n",
    "sample = sample[['Airports','Unnamed: 3']]\n",
    "sample.columns = ['Airports','Passengers(Apr)']\n",
    "sample.index = np.arange(1,len(sample)+1)\n",
    "sample"
   ]
  },
  {
   "cell_type": "code",
   "execution_count": null,
   "metadata": {},
   "outputs": [],
   "source": [
    "df = tabula.read_pdf(filepath,pages = 8, multiple_tables = True)\n",
    "df_8 = pd.DataFrame(df[0])"
   ]
  },
  {
   "cell_type": "code",
   "execution_count": null,
   "metadata": {},
   "outputs": [],
   "source": [
    "df_8.columns"
   ]
  },
  {
   "cell_type": "code",
   "execution_count": null,
   "metadata": {},
   "outputs": [],
   "source": [
    "df_8 = df_8[['Unnamed: 0','Unnamed: 2']].dropna().drop([49,61,65])"
   ]
  },
  {
   "cell_type": "code",
   "execution_count": null,
   "metadata": {},
   "outputs": [],
   "source": [
    "val = df_8[\"Unnamed: 0\"].str.split(\" \",expand = True)\n",
    "\n",
    "for i in range(0,len(val)):\n",
    "    if val.iloc[i,1] == '(':\n",
    "        val.iloc[i,1] = val.iloc[i,3]\n",
    "\n",
    "df_8['Airports'] = val[1]\n",
    "\n",
    "\n",
    "df_8 = df_8[['Airports','Unnamed: 2']]\n",
    "df_8.columns = ['Airports','Passengers(Apr)']"
   ]
  },
  {
   "cell_type": "code",
   "execution_count": null,
   "metadata": {},
   "outputs": [],
   "source": [
    "frame = [sample,df_8]\n",
    "df_19_4 = pd.concat(frame)"
   ]
  },
  {
   "cell_type": "code",
   "execution_count": null,
   "metadata": {},
   "outputs": [],
   "source": [
    "df = tabula.read_pdf(filepath,pages = 9, multiple_tables = True)\n",
    "df_9 = pd.DataFrame(df[0])"
   ]
  },
  {
   "cell_type": "code",
   "execution_count": null,
   "metadata": {},
   "outputs": [],
   "source": [
    "df_9.columns"
   ]
  },
  {
   "cell_type": "code",
   "execution_count": null,
   "metadata": {},
   "outputs": [],
   "source": [
    "sample = df_9[['Unnamed: 1']].dropna().drop([1,2,3,4,25,26,28,36,37,39,50,51,53])"
   ]
  },
  {
   "cell_type": "code",
   "execution_count": null,
   "metadata": {},
   "outputs": [],
   "source": [
    "val = sample['Unnamed: 1'].str.split(\" \", expand = True)\n",
    "\n",
    "for i in range(0, len(val)):\n",
    "    if pd.notnull(val.iloc[i,3]):\n",
    "        val.iloc[i,2] = val.iloc[i,3]\n",
    "\n",
    "sample['Airports'] = val[1]\n",
    "sample['Passengers(May)'] = val[2]\n",
    "\n",
    "sample = sample[['Airports','Passengers(May)']]\n",
    "sample.index = np.arange(1,len(sample)+1)\n",
    "sample"
   ]
  },
  {
   "cell_type": "code",
   "execution_count": null,
   "metadata": {},
   "outputs": [],
   "source": [
    "df = tabula.read_pdf(filepath,pages = 10, multiple_tables = True)\n",
    "df_10 = pd.DataFrame(df[0])"
   ]
  },
  {
   "cell_type": "code",
   "execution_count": null,
   "metadata": {},
   "outputs": [],
   "source": [
    "df_10.head(20)"
   ]
  },
  {
   "cell_type": "code",
   "execution_count": null,
   "metadata": {},
   "outputs": [],
   "source": [
    "df_10 = df_10[['Unnamed: 0','Unnamed: 1']].dropna()\n"
   ]
  },
  {
   "cell_type": "code",
   "execution_count": null,
   "metadata": {},
   "outputs": [],
   "source": [
    "val = df_10[\"Unnamed: 0\"].str.split(\" \",expand = True)\n",
    "\n",
    "for i in range(0,len(val)):\n",
    "    if val.iloc[i,1] == '(':\n",
    "        val.iloc[i,1] = val.iloc[i,3]\n",
    "\n",
    "df_10['Airports'] = val[1]\n",
    "\n",
    "\n",
    "df_10 = df_10[['Airports','Unnamed: 1']]\n",
    "df_10.columns = ['Airports','Passengers(May)']"
   ]
  },
  {
   "cell_type": "code",
   "execution_count": null,
   "metadata": {},
   "outputs": [],
   "source": [
    "frame = [sample, df_10]\n",
    "df_19_5 = pd.concat(frame)"
   ]
  },
  {
   "cell_type": "code",
   "execution_count": null,
   "metadata": {},
   "outputs": [],
   "source": [
    "df = tabula.read_pdf(filepath,pages = 11, multiple_tables = True)\n",
    "df_11 = pd.DataFrame(df[0])"
   ]
  },
  {
   "cell_type": "code",
   "execution_count": null,
   "metadata": {},
   "outputs": [],
   "source": [
    "df_11.head(20)"
   ]
  },
  {
   "cell_type": "code",
   "execution_count": null,
   "metadata": {},
   "outputs": [],
   "source": [
    "sample = df_11[['Unnamed: 1','Unnamed: 2']].dropna()\n",
    "sample.index = np.arange(1,len(sample)+1)\n",
    "sample.columns = ['Airports','Passengers(Jun)']\n",
    "sample"
   ]
  },
  {
   "cell_type": "code",
   "execution_count": null,
   "metadata": {},
   "outputs": [],
   "source": [
    "df = tabula.read_pdf(filepath,pages = 12, multiple_tables = True)\n",
    "df_12 = pd.DataFrame(df[0])"
   ]
  },
  {
   "cell_type": "code",
   "execution_count": null,
   "metadata": {},
   "outputs": [],
   "source": [
    "df_12.head(20)"
   ]
  },
  {
   "cell_type": "code",
   "execution_count": null,
   "metadata": {},
   "outputs": [],
   "source": [
    "df_12 = df_12[['Unnamed: 0','Unnamed: 1']].dropna()"
   ]
  },
  {
   "cell_type": "code",
   "execution_count": null,
   "metadata": {},
   "outputs": [],
   "source": [
    "val = df_12[\"Unnamed: 0\"].str.split(\" \",expand = True)\n",
    "\n",
    "for i in range(0,len(val)):\n",
    "    if val.iloc[i,1] == '(':\n",
    "        val.iloc[i,1] = val.iloc[i,3]\n",
    "\n",
    "df_12['Airports'] = val[1]\n",
    "\n",
    "\n",
    "df_12 = df_12[['Airports','Unnamed: 1']]\n",
    "df_12.columns = ['Airports','Passengers(Jun)']"
   ]
  },
  {
   "cell_type": "code",
   "execution_count": null,
   "metadata": {},
   "outputs": [],
   "source": [
    "frame = [sample,df_12]\n",
    "df_19_6 = pd.concat(frame)"
   ]
  },
  {
   "cell_type": "code",
   "execution_count": null,
   "metadata": {},
   "outputs": [],
   "source": [
    "df = tabula.read_pdf(filepath,pages = 13, multiple_tables = True)\n",
    "df_13 = pd.DataFrame(df[0])"
   ]
  },
  {
   "cell_type": "code",
   "execution_count": null,
   "metadata": {},
   "outputs": [],
   "source": [
    "df_13.head(20)"
   ]
  },
  {
   "cell_type": "code",
   "execution_count": null,
   "metadata": {},
   "outputs": [],
   "source": [
    "sample = df_13[['Unnamed: 2']].dropna().drop([2,4,5,6,28,29,38,40,52,54])"
   ]
  },
  {
   "cell_type": "code",
   "execution_count": null,
   "metadata": {},
   "outputs": [],
   "source": [
    "val = sample['Unnamed: 2'].str.split(\" \", expand = True)\n",
    "\n",
    "for i in range(0, len(val)):\n",
    "    if pd.notnull(val.iloc[i,2]):\n",
    "        val.iloc[i,1] = val.iloc[i,2]\n",
    "\n",
    "sample['Airports'] = val[0]\n",
    "sample['Passengers(Jul)'] = val[1]\n",
    "\n",
    "sample = sample[['Airports','Passengers(Jul)']]\n",
    "sample.index = np.arange(1,len(sample)+1)\n",
    "sample.iloc[12,0] = 'SRINAGAR'\n",
    "sample"
   ]
  },
  {
   "cell_type": "code",
   "execution_count": null,
   "metadata": {},
   "outputs": [],
   "source": [
    "df = tabula.read_pdf(filepath,pages = 14, multiple_tables = True)\n",
    "df_14 = pd.DataFrame(df[0])"
   ]
  },
  {
   "cell_type": "code",
   "execution_count": null,
   "metadata": {},
   "outputs": [],
   "source": [
    "df_14.head(20)"
   ]
  },
  {
   "cell_type": "code",
   "execution_count": null,
   "metadata": {},
   "outputs": [],
   "source": [
    "df_14 = df_14[['Unnamed: 0','Unnamed: 1']].dropna()"
   ]
  },
  {
   "cell_type": "code",
   "execution_count": null,
   "metadata": {},
   "outputs": [],
   "source": [
    "val = df_14[\"Unnamed: 0\"].str.split(\" \",expand = True)\n",
    "\n",
    "for i in range(0,len(val)):\n",
    "    if val.iloc[i,1] == '(':\n",
    "        val.iloc[i,1] = val.iloc[i,3]\n",
    "\n",
    "df_14['Airports'] = val[1]\n",
    "\n",
    "\n",
    "df_14 = df_14[['Airports','Unnamed: 1']]\n",
    "df_14.columns = ['Airports','Passengers(Jul)']"
   ]
  },
  {
   "cell_type": "code",
   "execution_count": null,
   "metadata": {},
   "outputs": [],
   "source": [
    "frame = [sample,df_14]\n",
    "df_19_7 = pd.concat(frame)"
   ]
  },
  {
   "cell_type": "code",
   "execution_count": null,
   "metadata": {},
   "outputs": [],
   "source": [
    "df = tabula.read_pdf(filepath,pages = 15, multiple_tables = True)\n",
    "df_15 = pd.DataFrame(df[0])"
   ]
  },
  {
   "cell_type": "code",
   "execution_count": null,
   "metadata": {},
   "outputs": [],
   "source": [
    "df_15.head(20)"
   ]
  },
  {
   "cell_type": "code",
   "execution_count": null,
   "metadata": {},
   "outputs": [],
   "source": [
    "sample = df_15[['Unnamed: 1','Unnamed: 2']].dropna().drop([27])"
   ]
  },
  {
   "cell_type": "code",
   "execution_count": null,
   "metadata": {},
   "outputs": [],
   "source": [
    "val = sample['Unnamed: 1'].str.split(\" \", expand = True)\n",
    "\n",
    "sample['Airports'] = val[1]\n",
    "sample = sample[['Airports','Unnamed: 2']]\n",
    "sample.index = np.arange(1,len(sample)+1)\n",
    "sample.columns = ['Airports','Passengers(Aug)']\n",
    "sample"
   ]
  },
  {
   "cell_type": "code",
   "execution_count": null,
   "metadata": {},
   "outputs": [],
   "source": [
    "df = tabula.read_pdf(filepath,pages = 16, multiple_tables = True)\n",
    "df_16 = pd.DataFrame(df[0])"
   ]
  },
  {
   "cell_type": "code",
   "execution_count": null,
   "metadata": {},
   "outputs": [],
   "source": [
    "df_16.head(20)"
   ]
  },
  {
   "cell_type": "code",
   "execution_count": null,
   "metadata": {},
   "outputs": [],
   "source": [
    "df_16 = df_16[['Unnamed: 0','Unnamed: 1']].dropna()"
   ]
  },
  {
   "cell_type": "code",
   "execution_count": null,
   "metadata": {},
   "outputs": [],
   "source": [
    "val = df_16[\"Unnamed: 0\"].str.split(\" \",expand = True)\n",
    "\n",
    "for i in range(0,len(val)):\n",
    "    if val.iloc[i,1] == '(':\n",
    "        val.iloc[i,1] = val.iloc[i,3]\n",
    "\n",
    "df_16['Airports'] = val[1]\n",
    "\n",
    "\n",
    "df_16 = df_16[['Airports','Unnamed: 1']]\n",
    "df_16.columns = ['Airports','Passengers(Aug)']"
   ]
  },
  {
   "cell_type": "code",
   "execution_count": null,
   "metadata": {},
   "outputs": [],
   "source": [
    "frame = [sample,df_16]\n",
    "df_19_8 = pd.concat(frame)"
   ]
  },
  {
   "cell_type": "code",
   "execution_count": null,
   "metadata": {},
   "outputs": [],
   "source": [
    "df = tabula.read_pdf(filepath,pages = 17, multiple_tables = True)\n",
    "df_17 = pd.DataFrame(df[0])"
   ]
  },
  {
   "cell_type": "code",
   "execution_count": null,
   "metadata": {},
   "outputs": [],
   "source": [
    "df_17"
   ]
  },
  {
   "cell_type": "code",
   "execution_count": null,
   "metadata": {},
   "outputs": [],
   "source": [
    "sample = df_17[['Unnamed: 1']].dropna().drop([2,4,5,6,27,28,30,38,40,51,52,54])"
   ]
  },
  {
   "cell_type": "code",
   "execution_count": null,
   "metadata": {},
   "outputs": [],
   "source": [
    "val = sample['Unnamed: 1'].str.split(\" \", expand = True)\n",
    "\n",
    "for i in range(0, len(val)):\n",
    "    if pd.notnull(val.iloc[i,3]):\n",
    "        val.iloc[i,2] = val.iloc[i,3]\n",
    "\n",
    "sample['Airports'] = val[1]\n",
    "sample['Passengers(Sep)'] = val[2]\n",
    "\n",
    "sample = sample[['Airports','Passengers(Sep)']]\n",
    "sample.index = np.arange(1,len(sample)+1)\n",
    "\n",
    "sample"
   ]
  },
  {
   "cell_type": "code",
   "execution_count": null,
   "metadata": {},
   "outputs": [],
   "source": [
    "df = tabula.read_pdf(filepath,pages = 18, multiple_tables = True)\n",
    "df_18 = pd.DataFrame(df[0])"
   ]
  },
  {
   "cell_type": "code",
   "execution_count": null,
   "metadata": {},
   "outputs": [],
   "source": [
    "df_18.head(20)"
   ]
  },
  {
   "cell_type": "code",
   "execution_count": null,
   "metadata": {},
   "outputs": [],
   "source": [
    "df_18 = df_18[['Unnamed: 0','Unnamed: 1']].dropna()"
   ]
  },
  {
   "cell_type": "code",
   "execution_count": null,
   "metadata": {},
   "outputs": [],
   "source": [
    "val = df_18[\"Unnamed: 0\"].str.split(\" \",expand = True)\n",
    "\n",
    "for i in range(0,len(val)):\n",
    "    if val.iloc[i,1] == '(':\n",
    "        val.iloc[i,1] = val.iloc[i,3]\n",
    "\n",
    "df_18['Airports'] = val[1]\n",
    "\n",
    "\n",
    "df_18 = df_18[['Airports','Unnamed: 1']]\n",
    "df_18.columns = ['Airports','Passengers(Sep)']"
   ]
  },
  {
   "cell_type": "code",
   "execution_count": null,
   "metadata": {},
   "outputs": [],
   "source": [
    "frame = [sample,df_18]\n",
    "df_19_9 = pd.concat(frame)\n",
    "\n",
    "df_19_9['Passengers(Sep)'] = df_19_9['Passengers(Sep)'].str.replace(\",\",\"\")"
   ]
  },
  {
   "cell_type": "code",
   "execution_count": null,
   "metadata": {},
   "outputs": [],
   "source": [
    "df = tabula.read_pdf(filepath,pages = 19, multiple_tables = True)\n",
    "df_19 = pd.DataFrame(df[0])"
   ]
  },
  {
   "cell_type": "code",
   "execution_count": null,
   "metadata": {},
   "outputs": [],
   "source": [
    "df_19.head(20)"
   ]
  },
  {
   "cell_type": "code",
   "execution_count": null,
   "metadata": {},
   "outputs": [],
   "source": [
    "sample = df_19[['Unnamed: 1']].dropna().drop([2,4,5,6,27,28,30,38,39,41,52,53,55])"
   ]
  },
  {
   "cell_type": "code",
   "execution_count": null,
   "metadata": {},
   "outputs": [],
   "source": [
    "val = sample['Unnamed: 1'].str.split(\" \", expand = True)\n",
    "\n",
    "for i in range(0, len(val)):\n",
    "    if pd.notnull(val.iloc[i,3]):\n",
    "        val.iloc[i,2] = val.iloc[i,3]\n",
    "\n",
    "sample['Airports'] = val[1]\n",
    "sample['Passengers(Oct)'] = val[2]\n",
    "\n",
    "sample = sample[['Airports','Passengers(Oct)']]\n",
    "sample.index = np.arange(1,len(sample)+1)\n",
    "\n",
    "sample"
   ]
  },
  {
   "cell_type": "code",
   "execution_count": null,
   "metadata": {},
   "outputs": [],
   "source": [
    "df = tabula.read_pdf(filepath,pages = 20, multiple_tables = True)\n",
    "df_20 = pd.DataFrame(df[4])"
   ]
  },
  {
   "cell_type": "code",
   "execution_count": null,
   "metadata": {},
   "outputs": [],
   "source": [
    "df_20.columns"
   ]
  },
  {
   "cell_type": "code",
   "execution_count": null,
   "metadata": {},
   "outputs": [],
   "source": [
    "df_20 = df_20[['AIRPORT', '()\\rPASSENGERS (IN NOS.)', 'Unnamed: 0','Unnamed: 1', 'Unnamed: 2', 'Unnamed: 3']]"
   ]
  },
  {
   "cell_type": "code",
   "execution_count": null,
   "metadata": {},
   "outputs": [],
   "source": [
    "for i in range(0, len(df_20)):\n",
    "    if pd.isnull(df_20.iloc[i,1]):\n",
    "        if pd.isnull(df_20.iloc[i,2]):\n",
    "            if pd.isnull(df_20.iloc[i,3]):\n",
    "                df_20.iloc[i,1] = df_20.iloc[i,3]\n",
    "                \n",
    "            \n",
    "        else:\n",
    "            df_20.iloc[i,1] = df_20.iloc[i,2]"
   ]
  },
  {
   "cell_type": "code",
   "execution_count": null,
   "metadata": {},
   "outputs": [],
   "source": [
    "df_20.columns\n"
   ]
  },
  {
   "cell_type": "code",
   "execution_count": null,
   "metadata": {},
   "outputs": [],
   "source": [
    "df_20 = df_20[['AIRPORT', '()\\rPASSENGERS (IN NOS.)']].dropna().drop([15,57,71,72,74,75]).reset_index(drop = True)\n",
    "\n"
   ]
  },
  {
   "cell_type": "code",
   "execution_count": null,
   "metadata": {},
   "outputs": [],
   "source": [
    "df_20.iloc[14,0] = 'ADAMPUR'\n",
    "df_20.iloc[25,0] = 'LAKHIMPUR'\n",
    "df_20.iloc[32,0] = 'LENGPUI(AIZWAL)'\n",
    "df_20.iloc[35,0] = 'NASIK'\n",
    "\n"
   ]
  },
  {
   "cell_type": "code",
   "execution_count": null,
   "metadata": {},
   "outputs": [],
   "source": [
    "df_20.columns = ['Airports','Passengers(Oct)']"
   ]
  },
  {
   "cell_type": "code",
   "execution_count": null,
   "metadata": {},
   "outputs": [],
   "source": [
    "frame = [sample,df_20]\n",
    "df_19_10 = pd.concat(frame)\n",
    "df_19_10['Passengers(Oct)'] = df_19_10['Passengers(Oct)'].str.replace(\",\",\"\")"
   ]
  },
  {
   "cell_type": "code",
   "execution_count": null,
   "metadata": {},
   "outputs": [],
   "source": [
    "df_19_10"
   ]
  },
  {
   "cell_type": "code",
   "execution_count": null,
   "metadata": {},
   "outputs": [],
   "source": [
    "df = tabula.read_pdf(filepath,pages = 21, multiple_tables = True)\n",
    "df_21 = pd.DataFrame(df[0])"
   ]
  },
  {
   "cell_type": "code",
   "execution_count": null,
   "metadata": {},
   "outputs": [],
   "source": [
    "df_21.head(20)"
   ]
  },
  {
   "cell_type": "code",
   "execution_count": null,
   "metadata": {},
   "outputs": [],
   "source": [
    "sample = df_21[['Unnamed: 1']].dropna().drop([2,4,5,6,27,28,30,38,39,41,52,53,55])"
   ]
  },
  {
   "cell_type": "code",
   "execution_count": null,
   "metadata": {},
   "outputs": [],
   "source": [
    "val = sample['Unnamed: 1'].str.split(\" \", expand = True)\n",
    "\n",
    "for i in range(0, len(val)):\n",
    "    if pd.notnull(val.iloc[i,3]):\n",
    "        val.iloc[i,2] = val.iloc[i,3]\n",
    "\n",
    "sample['Airports'] = val[1]\n",
    "sample['Passengers(Nov)'] = val[2]\n",
    "\n",
    "sample = sample[['Airports','Passengers(Nov)']]\n",
    "sample.index = np.arange(1,len(sample)+1)\n",
    "\n",
    "sample"
   ]
  },
  {
   "cell_type": "code",
   "execution_count": null,
   "metadata": {},
   "outputs": [],
   "source": [
    "df = tabula.read_pdf(filepath,pages = 22, multiple_tables = True)\n",
    "df_22 = pd.DataFrame(df[0])"
   ]
  },
  {
   "cell_type": "code",
   "execution_count": null,
   "metadata": {},
   "outputs": [],
   "source": [
    "df_22.head(20)"
   ]
  },
  {
   "cell_type": "code",
   "execution_count": null,
   "metadata": {},
   "outputs": [],
   "source": [
    "df_22 = df_22[['AIRPORT', '()\\rPASSENGERS (IN NOS.)', 'Unnamed: 0','Unnamed: 1', 'Unnamed: 2', 'Unnamed: 3']]\n",
    "\n",
    "for i in range(0, len(df_22)):\n",
    "    if pd.isnull(df_22.iloc[i,0]):\n",
    "        df_22.iloc[i,0] = df_22.iloc[i,1]\n",
    "        df_22.iloc[i,1] = df_22.iloc[i,2]"
   ]
  },
  {
   "cell_type": "code",
   "execution_count": null,
   "metadata": {},
   "outputs": [],
   "source": [
    "df_22 = df_22[['AIRPORT','()\\rPASSENGERS (IN NOS.)']].dropna().drop([51,52,65,66,68,69]).reset_index(drop = True)\n",
    "df_22.columns = ['Airports','Passengers(Nov)']\n",
    "\n",
    "\n",
    "\n",
    "df_22.iloc[7,0] = 'KANPUR(Chakeri)'\n",
    "df_22.iloc[18,0] = 'ADAMPUR'\n",
    "df_22.iloc[31,0] = 'LAKHIMPUR'\n",
    "df_22.iloc[38,0] = 'LENGPUI(AIZWAL)'\n",
    "df_22.iloc[42,0] = 'NASIK'\n",
    "\n",
    "df_22"
   ]
  },
  {
   "cell_type": "code",
   "execution_count": null,
   "metadata": {},
   "outputs": [],
   "source": [
    "frame = [sample,df_22]\n",
    "df_19_11 = pd.concat(frame)\n",
    "df_19_11['Passengers(Nov)'] = df_19_11['Passengers(Nov)'].str.replace(\",\",\"\")"
   ]
  },
  {
   "cell_type": "code",
   "execution_count": null,
   "metadata": {},
   "outputs": [],
   "source": [
    "df_19_11"
   ]
  },
  {
   "cell_type": "code",
   "execution_count": null,
   "metadata": {},
   "outputs": [],
   "source": [
    "df = tabula.read_pdf(filepath,pages = 23, multiple_tables = True)\n",
    "df_23 = pd.DataFrame(df[0])"
   ]
  },
  {
   "cell_type": "code",
   "execution_count": null,
   "metadata": {},
   "outputs": [],
   "source": [
    "df_23.head(20)\n"
   ]
  },
  {
   "cell_type": "code",
   "execution_count": null,
   "metadata": {},
   "outputs": [],
   "source": [
    "sample = df_23[['Unnamed: 1']].dropna().drop([2,4,5,6,27,29,37,38,40,51,52,54])"
   ]
  },
  {
   "cell_type": "code",
   "execution_count": null,
   "metadata": {},
   "outputs": [],
   "source": [
    "val = sample['Unnamed: 1'].str.split(\" \", expand = True)\n",
    "\n",
    "for i in range(0, len(val)):\n",
    "    if pd.notnull(val.iloc[i,3]):\n",
    "        val.iloc[i,2] = val.iloc[i,3]\n",
    "\n",
    "sample['Airports'] = val[1]\n",
    "sample['Passengers(Dec)'] = val[2]\n",
    "\n",
    "sample = sample[['Airports','Passengers(Dec)']]\n",
    "sample.index = np.arange(1,len(sample)+1)\n",
    "\n",
    "sample"
   ]
  },
  {
   "cell_type": "code",
   "execution_count": null,
   "metadata": {},
   "outputs": [],
   "source": [
    "df = tabula.read_pdf(filepath,pages = 24, multiple_tables = True)\n",
    "df_24 = pd.DataFrame(df[0])"
   ]
  },
  {
   "cell_type": "code",
   "execution_count": null,
   "metadata": {},
   "outputs": [],
   "source": [
    "df_24 = df_24[['AIRPORT', '()\\rPASSENGERS (IN NOS.)', 'Unnamed: 0','Unnamed: 1', 'Unnamed: 2', 'Unnamed: 3']]\n",
    "\n",
    "for i in range(0, len(df_24)):\n",
    "    if pd.isnull(df_24.iloc[i,0]):\n",
    "        df_24.iloc[i,0] = df_24.iloc[i,1]\n",
    "        df_24.iloc[i,1] = df_24.iloc[i,2]"
   ]
  },
  {
   "cell_type": "code",
   "execution_count": null,
   "metadata": {},
   "outputs": [],
   "source": [
    "for i in range(0, len(df_24)):\n",
    "    if pd.isnull(df_24.iloc[i,1]):\n",
    "        df_24.iloc[i,1] = df_24.iloc[i,2]\n"
   ]
  },
  {
   "cell_type": "code",
   "execution_count": null,
   "metadata": {},
   "outputs": [],
   "source": [
    "for i in range(0, len(df_24)):\n",
    "    if pd.isnull(df_24.iloc[i,1]):\n",
    "        if pd.isnull(df_24.iloc[i,2]):\n",
    "            df_24.iloc[i,1] = df_24.iloc[i,3]"
   ]
  },
  {
   "cell_type": "code",
   "execution_count": null,
   "metadata": {},
   "outputs": [],
   "source": [
    "df_24 = df_24[['AIRPORT','()\\rPASSENGERS (IN NOS.)']].dropna().drop([45,47,60,61,63,64]).reset_index(drop = True)\n",
    "\n",
    "df_24.columns = ['Airports','Passengers(Dec)']\n",
    "\n",
    "\n",
    "\n",
    "\n",
    "df_24.iloc[7,0] = 'KANPUR(Chakeri)'\n",
    "df_24.iloc[9,0] = 'GAGGAL(KANGRA)'\n",
    "df_24.iloc[19,0] = 'ADAMPUR'\n",
    "df_24.iloc[33,0] = 'BARAPANI'\n",
    "df_24.iloc[35,0] = 'LAKHIMPUR'\n",
    "df_24.iloc[42,0] = 'LENGPUI(AIZWAL)'\n",
    "df_24.iloc[46,0] = 'NASIK'\n",
    "\n",
    "\n",
    "df_24"
   ]
  },
  {
   "cell_type": "code",
   "execution_count": null,
   "metadata": {},
   "outputs": [],
   "source": [
    "frame = [sample,df_24]\n",
    "df_19_12 = pd.concat(frame)\n",
    "df_19_12['Passengers(Dec)'] = df_19_12['Passengers(Dec)'].str.replace(\",\",\"\")"
   ]
  },
  {
   "cell_type": "markdown",
   "metadata": {},
   "source": [
    "### Combining all the above prepared dataframe in to a single one for a the year 2019."
   ]
  },
  {
   "cell_type": "code",
   "execution_count": null,
   "metadata": {},
   "outputs": [],
   "source": [
    "Airports = df_19_1['Airports']\n",
    "frame = [df_19_2,df_19_3,df_19_4,df_19_5,df_19_6,df_19_7,df_19_8,df_19_9,df_19_10,df_19_11,df_19_12]\n",
    "\n",
    "for a in frame:\n",
    "    b = a['Airports']\n",
    "    print(b)\n",
    "    Airports = Airports.append(b)"
   ]
  },
  {
   "cell_type": "code",
   "execution_count": null,
   "metadata": {},
   "outputs": [],
   "source": [
    "Final = set(Airports)\n",
    "\n",
    "Final_df = pd.DataFrame(Final)\n",
    "Final_df.columns = ['Airports']"
   ]
  },
  {
   "cell_type": "code",
   "execution_count": null,
   "metadata": {},
   "outputs": [],
   "source": [
    "Total_19 = pd.merge(left=Final_df, right=df_19_1, how='left', left_on='Airports', right_on='Airports')\n",
    "Total_19 = Total_19.fillna(0)\n",
    "\n",
    "frame = [df_19_2,df_19_3,df_19_4,df_19_5,df_19_6,df_19_7,df_19_8,df_19_9,df_19_10,df_19_11,df_19_12]\n",
    "\n",
    "for a in frame:\n",
    "    Total_19 = pd.merge(left=Total_19, right=a, how='left', left_on='Airports', right_on='Airports')\n",
    "    Total_19 = Total_19.fillna(0)\n",
    "\n",
    "#Total_19 = Total_19.drop(columns = 'Passengers(Nov)_y')\n",
    "\n"
   ]
  },
  {
   "cell_type": "code",
   "execution_count": null,
   "metadata": {},
   "outputs": [],
   "source": [
    "Total_19 = Total_19.set_index('Airports')\n",
    "\n",
    "Total_19 = Total_19.astype(float)\n",
    "\n",
    "Total_19"
   ]
  },
  {
   "cell_type": "markdown",
   "metadata": {},
   "source": [
    "======================================================================================================\n",
    "======================================================================================================\n",
    "\n",
    "\n",
    "==================="
   ]
  },
  {
   "cell_type": "markdown",
   "metadata": {},
   "source": [
    "### Repeating the same proces for the next year"
   ]
  },
  {
   "cell_type": "code",
   "execution_count": null,
   "metadata": {},
   "outputs": [],
   "source": [
    "import tabula\n",
    "import pandas as pd\n",
    "import numpy as np\n",
    "filepath = \"../Learning/data/Dissertation/Airways/Total_2018.pdf\""
   ]
  },
  {
   "cell_type": "code",
   "execution_count": null,
   "metadata": {},
   "outputs": [],
   "source": [
    "df = tabula.read_pdf(filepath,pages = 1, multiple_tables = True)\n",
    "df_1 = pd.DataFrame(df[0])"
   ]
  },
  {
   "cell_type": "code",
   "execution_count": null,
   "metadata": {},
   "outputs": [],
   "source": [
    "df_1"
   ]
  },
  {
   "cell_type": "code",
   "execution_count": null,
   "metadata": {},
   "outputs": [],
   "source": [
    "sample = df_1[['Unnamed: 0','Unnamed: 1','Unnamed: 2']].dropna()\n",
    "sample.columns = ['Sr.No','Airports','Passengers(Jan)']\n",
    "sample = sample.set_index('Sr.No')\n",
    "\n",
    "sample"
   ]
  },
  {
   "cell_type": "code",
   "execution_count": null,
   "metadata": {},
   "outputs": [],
   "source": [
    "df = tabula.read_pdf(filepath,pages = 2, multiple_tables = True)\n",
    "df_2 = pd.DataFrame(df[0])"
   ]
  },
  {
   "cell_type": "code",
   "execution_count": null,
   "metadata": {},
   "outputs": [],
   "source": [
    "df_2 = df_2.columns.to_frame().T.append(df_2, ignore_index=True)\n",
    "df_2.columns = range(len(df_2.columns))\n",
    "df_2"
   ]
  },
  {
   "cell_type": "code",
   "execution_count": null,
   "metadata": {},
   "outputs": [],
   "source": [
    "df_2 = df_2[[0,2]].drop(np.arange(26,58)).dropna().drop([20])\n",
    "\n",
    "df_2['Sr.No'] = df_2[0].str.split(\" \",expand = True)[0]\n",
    "df_2['Airports'] = df_2[0].str.split(\" \",expand = True)[1]\n",
    "df_2['Passengers(Jan)'] = df_2[2].str.split(\" \",expand = True)[0]\n",
    "\n",
    "df_2 = df_2[['Sr.No','Airports','Passengers(Jan)']].set_index('Sr.No')\n",
    "\n",
    "df_2"
   ]
  },
  {
   "cell_type": "code",
   "execution_count": null,
   "metadata": {},
   "outputs": [],
   "source": [
    "frame = [sample,df_2]\n",
    "df_18_1 = pd.concat(frame)"
   ]
  },
  {
   "cell_type": "code",
   "execution_count": null,
   "metadata": {},
   "outputs": [],
   "source": [
    "df = tabula.read_pdf(filepath,pages = 3, multiple_tables = True)\n",
    "df_3 = pd.DataFrame(df[0])"
   ]
  },
  {
   "cell_type": "code",
   "execution_count": null,
   "metadata": {},
   "outputs": [],
   "source": [
    "df_3.head(20)"
   ]
  },
  {
   "cell_type": "code",
   "execution_count": null,
   "metadata": {},
   "outputs": [],
   "source": [
    "sample = df_3[['Unnamed: 0','Unnamed: 2']].dropna().drop([26,34,44])"
   ]
  },
  {
   "cell_type": "code",
   "execution_count": null,
   "metadata": {},
   "outputs": [],
   "source": [
    "sample['Sr.No'] = sample['Unnamed: 0'].str.split(\" \",expand = True)[0]\n",
    "sample['Airports'] = sample['Unnamed: 0'].str.split(\" \",expand = True)[1]\n",
    "sample = sample[['Sr.No','Airports','Unnamed: 2']].set_index('Sr.No')\n",
    "sample.columns = ['Airports','Passengers(Feb)']\n",
    "sample"
   ]
  },
  {
   "cell_type": "code",
   "execution_count": null,
   "metadata": {},
   "outputs": [],
   "source": [
    "df = tabula.read_pdf(filepath,pages = 4, multiple_tables = True)\n",
    "df_4 = pd.DataFrame(df[0])"
   ]
  },
  {
   "cell_type": "code",
   "execution_count": null,
   "metadata": {},
   "outputs": [],
   "source": [
    "df_4 = df_4.columns.to_frame().T.append(df_4, ignore_index=True)\n",
    "df_4.columns = range(len(df_4.columns))\n",
    "df_4"
   ]
  },
  {
   "cell_type": "code",
   "execution_count": null,
   "metadata": {},
   "outputs": [],
   "source": [
    "df_4 = df_4[[0,2]].drop(np.arange(26,58)).dropna().drop([20])\n",
    "\n",
    "df_4['Sr.No'] = df_4[0].str.split(\" \",expand = True)[0]\n",
    "df_4['Airports'] = df_4[0].str.split(\" \",expand = True)[1]\n",
    "df_4['Passengers(Feb)'] = df_4[2].str.split(\" \",expand = True)[0]\n",
    "\n",
    "df_4 = df_4[['Sr.No','Airports','Passengers(Feb)']].set_index('Sr.No')\n",
    "\n",
    "df_4"
   ]
  },
  {
   "cell_type": "code",
   "execution_count": null,
   "metadata": {},
   "outputs": [],
   "source": [
    "frame = [sample,df_4]\n",
    "df_18_2 = pd.concat(frame)"
   ]
  },
  {
   "cell_type": "code",
   "execution_count": null,
   "metadata": {},
   "outputs": [],
   "source": [
    "df = tabula.read_pdf(filepath,pages = 5, multiple_tables = True)\n",
    "df_5 = pd.DataFrame(df[0])"
   ]
  },
  {
   "cell_type": "code",
   "execution_count": null,
   "metadata": {},
   "outputs": [],
   "source": [
    "df_5.head(20)"
   ]
  },
  {
   "cell_type": "code",
   "execution_count": null,
   "metadata": {},
   "outputs": [],
   "source": [
    "sample = df_5[['Unnamed: 0','Unnamed: 2']].dropna().drop([26,34,44])"
   ]
  },
  {
   "cell_type": "code",
   "execution_count": null,
   "metadata": {},
   "outputs": [],
   "source": [
    "sample['Sr.No'] = sample['Unnamed: 0'].str.split(\" \",expand = True)[0]\n",
    "sample['Airports'] = sample['Unnamed: 0'].str.split(\" \",expand = True)[1]\n",
    "sample = sample[['Sr.No','Airports','Unnamed: 2']].set_index('Sr.No')\n",
    "sample.columns = ['Airports','Passengers(Mar)']\n",
    "sample"
   ]
  },
  {
   "cell_type": "code",
   "execution_count": null,
   "metadata": {},
   "outputs": [],
   "source": [
    "df = tabula.read_pdf(filepath,pages = 6, multiple_tables = True)\n",
    "df_6 = pd.DataFrame(df[0])"
   ]
  },
  {
   "cell_type": "code",
   "execution_count": null,
   "metadata": {},
   "outputs": [],
   "source": [
    "df_6.head(20)"
   ]
  },
  {
   "cell_type": "code",
   "execution_count": null,
   "metadata": {},
   "outputs": [],
   "source": [
    "df_6 = df_6.columns.to_frame().T.append(df_6, ignore_index=True)\n",
    "df_6.columns = range(len(df_6.columns))\n",
    "\n",
    "\n",
    "df_6"
   ]
  },
  {
   "cell_type": "code",
   "execution_count": null,
   "metadata": {},
   "outputs": [],
   "source": [
    "df_6 = df_6[[0,2]].drop(np.arange(26,58)).dropna().drop([20])\n",
    "\n",
    "df_6['Sr.No'] = df_6[0].str.split(\" \",expand = True)[0]\n",
    "df_6['Airports'] = df_6[0].str.split(\" \",expand = True)[1]\n",
    "df_6['Passengers(Mar)'] = df_6[2].str.split(\" \",expand = True)[0]\n",
    "\n",
    "df_6 = df_6[['Sr.No','Airports','Passengers(Mar)']].set_index('Sr.No')"
   ]
  },
  {
   "cell_type": "code",
   "execution_count": null,
   "metadata": {},
   "outputs": [],
   "source": [
    "frame = [sample,df_6]\n",
    "df_18_3 = pd.concat(frame)"
   ]
  },
  {
   "cell_type": "code",
   "execution_count": null,
   "metadata": {},
   "outputs": [],
   "source": [
    "df = tabula.read_pdf(filepath,pages = 7, multiple_tables = True)\n",
    "df_7 = pd.DataFrame(df[0])"
   ]
  },
  {
   "cell_type": "code",
   "execution_count": null,
   "metadata": {},
   "outputs": [],
   "source": [
    "df_7.head(20)"
   ]
  },
  {
   "cell_type": "code",
   "execution_count": null,
   "metadata": {},
   "outputs": [],
   "source": [
    "sample = df_7[['Unnamed: 0','Unnamed: 2']].dropna().drop([25,33,43])\n",
    "sample['Sr.No'] = sample['Unnamed: 0'].str.split(\" \",expand = True)[0]\n",
    "sample['Airports'] = sample['Unnamed: 0'].str.split(\" \",expand = True)[1]\n",
    "sample = sample[['Sr.No','Airports','Unnamed: 2']].set_index('Sr.No')\n",
    "sample.columns = ['Airports','Passengers(Apr)']\n",
    "sample"
   ]
  },
  {
   "cell_type": "code",
   "execution_count": null,
   "metadata": {},
   "outputs": [],
   "source": [
    "df = tabula.read_pdf(filepath,pages = 8, multiple_tables = True)\n",
    "df_8 = pd.DataFrame(df[0])"
   ]
  },
  {
   "cell_type": "code",
   "execution_count": null,
   "metadata": {},
   "outputs": [],
   "source": [
    "df_8 = df_8.columns.to_frame().T.append(df_8, ignore_index=True)\n",
    "df_8.columns = range(len(df_8.columns))\n",
    "\n",
    "\n",
    "df_8"
   ]
  },
  {
   "cell_type": "code",
   "execution_count": null,
   "metadata": {},
   "outputs": [],
   "source": [
    "df_8 = df_8[1:][[0,1,2]]\n",
    "df_8.columns = ['Sr.No','Airports','Passengers(Apr)']\n",
    "df_8 = df_8.set_index('Sr.No')\n",
    "df_8"
   ]
  },
  {
   "cell_type": "code",
   "execution_count": null,
   "metadata": {},
   "outputs": [],
   "source": [
    "df = tabula.read_pdf(filepath,pages = 9, multiple_tables = True)\n",
    "df_9 = pd.DataFrame(df[0])"
   ]
  },
  {
   "cell_type": "code",
   "execution_count": null,
   "metadata": {},
   "outputs": [],
   "source": [
    "df_9 = df_9.columns.to_frame().T.append(df_9, ignore_index=True)\n",
    "df_9.columns = range(len(df_9.columns))\n",
    "\n",
    "\n",
    "df_9"
   ]
  },
  {
   "cell_type": "code",
   "execution_count": null,
   "metadata": {},
   "outputs": [],
   "source": [
    "df_9 = df_9[[0,2]].dropna().drop([0,1,10,11,12])\n",
    "df_9['Sr.No'] = df_9[0].str.split(\" \",expand = True)[0]\n",
    "df_9['Airports'] = df_9[0].str.split(\" \",expand = True)[1]\n",
    "\n",
    "\n",
    "\n",
    "df_9 = df_9[['Sr.No','Airports',2]]\n",
    "df_9 = df_9.set_index('Sr.No')\n",
    "df_9.columns = ['Airports','Passengers(Apr)']\n",
    "df_9"
   ]
  },
  {
   "cell_type": "code",
   "execution_count": null,
   "metadata": {},
   "outputs": [],
   "source": [
    "frame = [sample,df_8,df_9]\n",
    "df_18_4 = pd.concat(frame)"
   ]
  },
  {
   "cell_type": "code",
   "execution_count": null,
   "metadata": {},
   "outputs": [],
   "source": [
    "df = tabula.read_pdf(filepath,pages = 10, multiple_tables = True)\n",
    "df_10 = pd.DataFrame(df[0])"
   ]
  },
  {
   "cell_type": "code",
   "execution_count": null,
   "metadata": {},
   "outputs": [],
   "source": [
    "df_10.head(20)"
   ]
  },
  {
   "cell_type": "code",
   "execution_count": null,
   "metadata": {},
   "outputs": [],
   "source": [
    "sample = df_10[['Unnamed: 0','Unnamed: 2']].dropna().drop([25,33,43])"
   ]
  },
  {
   "cell_type": "code",
   "execution_count": null,
   "metadata": {},
   "outputs": [],
   "source": [
    "sample['Sr.No'] = sample['Unnamed: 0'].str.split(\" \",expand = True)[0]\n",
    "sample['Airports'] = sample['Unnamed: 0'].str.split(\" \",expand = True)[1]\n",
    "sample = sample[['Sr.No','Airports','Unnamed: 2']].set_index('Sr.No')\n",
    "sample.columns = ['Airports','Passengers(May)']\n",
    "sample"
   ]
  },
  {
   "cell_type": "code",
   "execution_count": null,
   "metadata": {},
   "outputs": [],
   "source": [
    "df = tabula.read_pdf(filepath,pages = 11, multiple_tables = True)\n",
    "df_11 = pd.DataFrame(df[0])"
   ]
  },
  {
   "cell_type": "code",
   "execution_count": null,
   "metadata": {},
   "outputs": [],
   "source": [
    "df_11.columns"
   ]
  },
  {
   "cell_type": "code",
   "execution_count": null,
   "metadata": {},
   "outputs": [],
   "source": [
    "df_11 = df_11[['SL. NO.', 'AIRPORT', 'PASSENGERS (IN NOS.)']].dropna().drop([48,57,58,59])\n",
    "df_11.columns = ['Sr.No','Airports','Passengers(May)']\n",
    "df_11 = df_11.set_index('Sr.No')\n",
    "df_11"
   ]
  },
  {
   "cell_type": "code",
   "execution_count": null,
   "metadata": {},
   "outputs": [],
   "source": [
    "frame = [sample,df_11]\n",
    "df_18_5 = pd.concat(frame)"
   ]
  },
  {
   "cell_type": "code",
   "execution_count": null,
   "metadata": {},
   "outputs": [],
   "source": [
    "df = tabula.read_pdf(filepath,pages = 12, multiple_tables = True)\n",
    "df_12 = pd.DataFrame(df[0])"
   ]
  },
  {
   "cell_type": "code",
   "execution_count": null,
   "metadata": {},
   "outputs": [],
   "source": [
    "df_12.head(20)"
   ]
  },
  {
   "cell_type": "code",
   "execution_count": null,
   "metadata": {},
   "outputs": [],
   "source": [
    "sample = df_12[['Unnamed: 0','Unnamed: 2']].dropna().drop([25,33,43])"
   ]
  },
  {
   "cell_type": "code",
   "execution_count": null,
   "metadata": {},
   "outputs": [],
   "source": [
    "sample['Sr.No'] = sample['Unnamed: 0'].str.split(\" \",expand = True)[0]\n",
    "sample['Airports'] = sample['Unnamed: 0'].str.split(\" \",expand = True)[1]\n",
    "sample = sample[['Sr.No','Airports','Unnamed: 2']].set_index('Sr.No')\n",
    "sample.columns = ['Airports','Passengers(Jun)']\n",
    "sample"
   ]
  },
  {
   "cell_type": "code",
   "execution_count": null,
   "metadata": {},
   "outputs": [],
   "source": [
    "df = tabula.read_pdf(filepath,pages = 13, multiple_tables = True)\n",
    "df_13 = pd.DataFrame(df[0])"
   ]
  },
  {
   "cell_type": "code",
   "execution_count": null,
   "metadata": {},
   "outputs": [],
   "source": [
    "df_13.head(20)"
   ]
  },
  {
   "cell_type": "code",
   "execution_count": null,
   "metadata": {},
   "outputs": [],
   "source": [
    "df_13 = df_13[['SL. NO.', 'AIRPORT', 'PASSENGERS (IN NOS.)']].dropna().drop([47,56,57,58])\n",
    "df_13.columns = ['Sr.No','Airports','Passengers(Jun)']\n",
    "df_13 = df_13.set_index('Sr.No')\n",
    "df_13"
   ]
  },
  {
   "cell_type": "code",
   "execution_count": null,
   "metadata": {},
   "outputs": [],
   "source": [
    "frame = [sample,df_13]\n",
    "df_18_6 = pd.concat(frame)"
   ]
  },
  {
   "cell_type": "code",
   "execution_count": null,
   "metadata": {},
   "outputs": [],
   "source": [
    "df = tabula.read_pdf(filepath,pages = 14, multiple_tables = True)\n",
    "df_14 = pd.DataFrame(df[0])"
   ]
  },
  {
   "cell_type": "code",
   "execution_count": null,
   "metadata": {},
   "outputs": [],
   "source": [
    "df_14.head(20)"
   ]
  },
  {
   "cell_type": "code",
   "execution_count": null,
   "metadata": {},
   "outputs": [],
   "source": [
    "sample = df_14[['Unnamed: 0','Unnamed: 2']].dropna().drop([25,33,43])\n",
    "sample['Sr.No'] = sample['Unnamed: 0'].str.split(\" \",expand = True)[0]\n",
    "sample['Airports'] = sample['Unnamed: 0'].str.split(\" \",expand = True)[1]\n",
    "sample = sample[['Sr.No','Airports','Unnamed: 2']].set_index('Sr.No')\n",
    "sample.columns = ['Airports','Passengers(Jul)']\n",
    "sample"
   ]
  },
  {
   "cell_type": "code",
   "execution_count": null,
   "metadata": {},
   "outputs": [],
   "source": [
    "df = tabula.read_pdf(filepath,pages = 15, multiple_tables = True)\n",
    "df_15 = pd.DataFrame(df[0])"
   ]
  },
  {
   "cell_type": "code",
   "execution_count": null,
   "metadata": {},
   "outputs": [],
   "source": [
    "df_15.columns"
   ]
  },
  {
   "cell_type": "code",
   "execution_count": null,
   "metadata": {},
   "outputs": [],
   "source": [
    "df_15 = df_15 [['SL. NO.', 'AIRPORT', 'PASSENGERS (IN NOS.)']].dropna().drop([49,58,59,60])\n",
    "df_15.columns = ['Sr.No','Airports','Passengers(Jul)']\n",
    "df_15 = df_15.set_index('Sr.No')\n",
    "df_15"
   ]
  },
  {
   "cell_type": "code",
   "execution_count": null,
   "metadata": {},
   "outputs": [],
   "source": [
    "frame = [sample,df_15]\n",
    "df_18_7 = pd.concat(frame)"
   ]
  },
  {
   "cell_type": "markdown",
   "metadata": {},
   "source": [
    "============================================================================================================================================================"
   ]
  },
  {
   "cell_type": "code",
   "execution_count": null,
   "metadata": {},
   "outputs": [],
   "source": [
    "# Prepaing a fundtion to clean a particular set of pages in the pdf\n",
    "\n",
    "def Page(df):\n",
    "    df.columns = ['Sr.No','Airports','Passengers']\n",
    "    df = df.set_index('Sr.No')\n",
    "    return df"
   ]
  },
  {
   "cell_type": "code",
   "execution_count": null,
   "metadata": {},
   "outputs": [],
   "source": [
    "# Prepaing a fundtion to clean a particular set of pages in the pdf\n",
    "\n",
    "def Main(df):\n",
    "    df['Sr.No'] = df['Unnamed: 0'].str.split(\" \",expand = True)[0]\n",
    "    df['Airports'] = df['Unnamed: 0'].str.split(\" \",expand = True)[1]\n",
    "    df = df[['Sr.No','Airports','Unnamed: 2']].set_index('Sr.No')\n",
    "    #df.columns = ['Airports','Passengers(Aug)']\n",
    "    return df\n",
    "    "
   ]
  },
  {
   "cell_type": "markdown",
   "metadata": {},
   "source": [
    "=============================================================================================================================================="
   ]
  },
  {
   "cell_type": "code",
   "execution_count": null,
   "metadata": {},
   "outputs": [],
   "source": [
    "df = tabula.read_pdf(filepath,pages = 16, multiple_tables = True)\n",
    "df_16 = pd.DataFrame(df[0])"
   ]
  },
  {
   "cell_type": "code",
   "execution_count": null,
   "metadata": {},
   "outputs": [],
   "source": [
    "df_16.head(20)"
   ]
  },
  {
   "cell_type": "code",
   "execution_count": null,
   "metadata": {},
   "outputs": [],
   "source": [
    "sample = df_16[['Unnamed: 0','Unnamed: 2']].dropna().drop([25,33,43])\n",
    "sample = Main(sample)\n",
    "sample.columns = ['Airports','Passengers(Aug)']\n",
    "sample"
   ]
  },
  {
   "cell_type": "code",
   "execution_count": null,
   "metadata": {},
   "outputs": [],
   "source": [
    "df = tabula.read_pdf(filepath,pages = 17, multiple_tables = True)\n",
    "df_17 = pd.DataFrame(df[0])"
   ]
  },
  {
   "cell_type": "code",
   "execution_count": null,
   "metadata": {},
   "outputs": [],
   "source": [
    "df_17.head(20)"
   ]
  },
  {
   "cell_type": "code",
   "execution_count": null,
   "metadata": {},
   "outputs": [],
   "source": [
    "df_17 = df_17[['SL. NO.', 'AIRPORT', 'PASSENGERS (IN NOS.)']].dropna().drop([48,57,58,59])\n",
    "\n",
    "df_17 = Page(df_17)\n",
    "df_17.columns = ['Airports','Passengers(Aug)']\n",
    "df_17\n",
    "\n",
    "frame = [sample,df_17]\n",
    "df_18_8 = pd.concat(frame)"
   ]
  },
  {
   "cell_type": "code",
   "execution_count": null,
   "metadata": {},
   "outputs": [],
   "source": [
    "df_18_8"
   ]
  },
  {
   "cell_type": "code",
   "execution_count": null,
   "metadata": {},
   "outputs": [],
   "source": [
    "df = tabula.read_pdf(filepath,pages = 18, multiple_tables = True)\n",
    "df_18 = pd.DataFrame(df[0])"
   ]
  },
  {
   "cell_type": "code",
   "execution_count": null,
   "metadata": {},
   "outputs": [],
   "source": [
    "df_18.columns"
   ]
  },
  {
   "cell_type": "code",
   "execution_count": null,
   "metadata": {},
   "outputs": [],
   "source": [
    "sample = df_18[['SL. NO.', 'AIRPORT', 'PASSENGERS (IN NOS.)']].dropna().drop([23,31,41])\n",
    "\n",
    "sample = Page(sample)\n",
    "sample.columns = ['Airports','Passengers(Sep)']\n",
    "sample"
   ]
  },
  {
   "cell_type": "code",
   "execution_count": null,
   "metadata": {},
   "outputs": [],
   "source": [
    "df = tabula.read_pdf(filepath,pages = 19, multiple_tables = True)\n",
    "df_19 = pd.DataFrame(df[0])"
   ]
  },
  {
   "cell_type": "code",
   "execution_count": null,
   "metadata": {},
   "outputs": [],
   "source": [
    "df_19.head(20)"
   ]
  },
  {
   "cell_type": "code",
   "execution_count": null,
   "metadata": {},
   "outputs": [],
   "source": [
    "df_19 = df_19[['Unnamed: 0','Unnamed: 2']].dropna().drop([51,60,62])\n",
    "df_19 = Main(df_19)\n",
    "df_19.columns = ['Airports','Passengers(Sep)']\n",
    "df_19"
   ]
  },
  {
   "cell_type": "code",
   "execution_count": null,
   "metadata": {},
   "outputs": [],
   "source": [
    "frame = [sample,df_19]\n",
    "df_18_9 = pd.concat(frame)"
   ]
  },
  {
   "cell_type": "code",
   "execution_count": null,
   "metadata": {},
   "outputs": [],
   "source": [
    "df_18_9"
   ]
  },
  {
   "cell_type": "code",
   "execution_count": null,
   "metadata": {},
   "outputs": [],
   "source": [
    "df = tabula.read_pdf(filepath,pages = 20, multiple_tables = True)\n",
    "df_20 = pd.DataFrame(df[0])"
   ]
  },
  {
   "cell_type": "code",
   "execution_count": null,
   "metadata": {},
   "outputs": [],
   "source": [
    "df_20.head(20)"
   ]
  },
  {
   "cell_type": "code",
   "execution_count": null,
   "metadata": {},
   "outputs": [],
   "source": [
    "sample = df_20[['Unnamed: 0','Unnamed: 2']].dropna().drop([25,33,43])\n",
    "sample = Main(sample)\n",
    "sample.columns = ['Airports','Passengers(Oct)']\n",
    "sample"
   ]
  },
  {
   "cell_type": "code",
   "execution_count": null,
   "metadata": {},
   "outputs": [],
   "source": [
    "df = tabula.read_pdf(filepath,pages = 21, multiple_tables = True)\n",
    "df_21 = pd.DataFrame(df[0])"
   ]
  },
  {
   "cell_type": "code",
   "execution_count": null,
   "metadata": {},
   "outputs": [],
   "source": [
    "df_21.columns"
   ]
  },
  {
   "cell_type": "code",
   "execution_count": null,
   "metadata": {},
   "outputs": [],
   "source": [
    "df_21 = df_21[['SL. NO.', 'AIRPORT', 'PASSENGERS (IN NOS.)']].dropna().drop([48,57,58,59])\n",
    "df_21 = Page(df_21)\n",
    "df_21.columns = ['Airports','Passengers(Oct)']\n",
    "df_21"
   ]
  },
  {
   "cell_type": "code",
   "execution_count": null,
   "metadata": {},
   "outputs": [],
   "source": [
    "frame = [sample,df_21]\n",
    "df_18_10 = pd.concat(frame)"
   ]
  },
  {
   "cell_type": "code",
   "execution_count": null,
   "metadata": {},
   "outputs": [],
   "source": [
    "df = tabula.read_pdf(filepath,pages = 22, multiple_tables = True)\n",
    "df_22 = pd.DataFrame(df[0])"
   ]
  },
  {
   "cell_type": "code",
   "execution_count": null,
   "metadata": {},
   "outputs": [],
   "source": [
    "df_22.head(20)"
   ]
  },
  {
   "cell_type": "code",
   "execution_count": null,
   "metadata": {},
   "outputs": [],
   "source": [
    "sample = df_22[['Unnamed: 0','Unnamed: 2']].dropna().drop([25,33,43])\n",
    "sample = Main(sample)\n",
    "sample.columns = ['Airports','Passengers(Nov)']\n",
    "sample"
   ]
  },
  {
   "cell_type": "code",
   "execution_count": null,
   "metadata": {},
   "outputs": [],
   "source": [
    "df = tabula.read_pdf(filepath,pages = 23, multiple_tables = True)\n",
    "df_23 = pd.DataFrame(df[0])"
   ]
  },
  {
   "cell_type": "code",
   "execution_count": null,
   "metadata": {},
   "outputs": [],
   "source": [
    "df_23.columns"
   ]
  },
  {
   "cell_type": "code",
   "execution_count": null,
   "metadata": {},
   "outputs": [],
   "source": [
    "df_23 = df_23[['SL. NO.', 'AIRPORT', 'PASSENGERS (IN NOS.)']].dropna().drop([48,57,58,59])\n",
    "df_23 = Page(df_23)\n",
    "df_23.columns = ['Airports','Passengers(Nov)']\n",
    "df_23"
   ]
  },
  {
   "cell_type": "code",
   "execution_count": null,
   "metadata": {},
   "outputs": [],
   "source": [
    "frame = [sample,df_23]\n",
    "df_18_11 = pd.concat(frame)"
   ]
  },
  {
   "cell_type": "code",
   "execution_count": null,
   "metadata": {},
   "outputs": [],
   "source": [
    "df_18_11"
   ]
  },
  {
   "cell_type": "code",
   "execution_count": null,
   "metadata": {},
   "outputs": [],
   "source": [
    "df = tabula.read_pdf(filepath,pages = 24, multiple_tables = True)\n",
    "df_24 = pd.DataFrame(df[0])"
   ]
  },
  {
   "cell_type": "code",
   "execution_count": null,
   "metadata": {},
   "outputs": [],
   "source": [
    "df_24.head(40)"
   ]
  },
  {
   "cell_type": "code",
   "execution_count": null,
   "metadata": {},
   "outputs": [],
   "source": [
    "sample = df_24[['Unnamed: 0','Unnamed: 2']].dropna().drop([25,34,44])\n",
    "sample = Main(sample)\n",
    "sample.columns = ['Airports','Passengers(Dec)']\n",
    "sample"
   ]
  },
  {
   "cell_type": "code",
   "execution_count": null,
   "metadata": {},
   "outputs": [],
   "source": [
    "df = tabula.read_pdf(filepath,pages = 25, multiple_tables = True)\n",
    "df_25 = pd.DataFrame(df[0])"
   ]
  },
  {
   "cell_type": "code",
   "execution_count": null,
   "metadata": {},
   "outputs": [],
   "source": [
    "df_25.head(20)"
   ]
  },
  {
   "cell_type": "code",
   "execution_count": null,
   "metadata": {},
   "outputs": [],
   "source": [
    "df_25 = df_25[['SL. NO.', 'AIRPORT', 'PASSENGERS (IN NOS.)']].dropna().drop([49,58,59,60])\n",
    "df_25 = Page(df_25)\n",
    "df_25.columns = ['Airports','Passengers(Dec)']\n",
    "df_25"
   ]
  },
  {
   "cell_type": "code",
   "execution_count": null,
   "metadata": {},
   "outputs": [],
   "source": [
    "frame = [sample,df_25]\n",
    "df_18_12 = pd.concat(frame)"
   ]
  },
  {
   "cell_type": "code",
   "execution_count": null,
   "metadata": {},
   "outputs": [],
   "source": [
    "df_18_12\n"
   ]
  },
  {
   "cell_type": "code",
   "execution_count": null,
   "metadata": {},
   "outputs": [],
   "source": [
    "Airports = df_18_1['Airports']\n",
    "frame = [df_18_2,df_18_3,df_18_4,df_18_5,df_18_6,df_18_7,df_18_8,df_18_9,df_18_10,df_18_11,df_18_12]\n",
    "\n",
    "for a in frame:\n",
    "    b = a['Airports']\n",
    "    print(b)\n",
    "    Airports = Airports.append(b)"
   ]
  },
  {
   "cell_type": "code",
   "execution_count": null,
   "metadata": {},
   "outputs": [],
   "source": [
    "Final = set(Airports)\n",
    "\n",
    "Final_df = pd.DataFrame(Final)\n",
    "Final_df.columns = ['Airports']"
   ]
  },
  {
   "cell_type": "code",
   "execution_count": null,
   "metadata": {},
   "outputs": [],
   "source": [
    "Total_18 = pd.merge(left=Final_df, right=df_18_1, how='left', left_on='Airports', right_on='Airports')\n",
    "Total_18 = Total_18.fillna(0)\n",
    "\n",
    "frame = [df_18_2,df_18_3,df_18_4,df_18_5,df_18_6,df_18_7,df_18_8,df_18_9,df_18_10,df_18_11,df_18_12]\n",
    "\n",
    "for a in frame:\n",
    "    Total_18 = pd.merge(left=Total_18, right=a, how='left', left_on='Airports', right_on='Airports')\n",
    "    Total_18 = Total_18.fillna(0)\n",
    "\n",
    "\n",
    "Total_18 = Total_18.set_index('Airports')\n",
    "\n",
    "Total_18 = Total_18.astype(float)\n",
    "\n",
    "Total_18"
   ]
  },
  {
   "cell_type": "code",
   "execution_count": null,
   "metadata": {},
   "outputs": [],
   "source": [
    "Total_19['Year'] = 2019\n",
    "Total_18['Year'] = 2018"
   ]
  },
  {
   "cell_type": "code",
   "execution_count": null,
   "metadata": {},
   "outputs": [],
   "source": [
    "# Saving the above prepared dataframes for the year 2018 and 2019\n",
    "\n",
    "%store Total_19\n",
    "%store Total_18"
   ]
  },
  {
   "cell_type": "code",
   "execution_count": null,
   "metadata": {},
   "outputs": [],
   "source": []
  }
 ],
 "metadata": {
  "kernelspec": {
   "display_name": "Python 3",
   "language": "python",
   "name": "python3"
  },
  "language_info": {
   "codemirror_mode": {
    "name": "ipython",
    "version": 3
   },
   "file_extension": ".py",
   "mimetype": "text/x-python",
   "name": "python",
   "nbconvert_exporter": "python",
   "pygments_lexer": "ipython3",
   "version": "3.7.6"
  }
 },
 "nbformat": 4,
 "nbformat_minor": 4
}
