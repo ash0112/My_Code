{
 "cells": [
  {
   "cell_type": "markdown",
   "metadata": {},
   "source": [
    "### Importing the Panda and numpy libraries"
   ]
  },
  {
   "cell_type": "code",
   "execution_count": null,
   "metadata": {},
   "outputs": [],
   "source": [
    "import pandas as pd\n",
    "import numpy as np"
   ]
  },
  {
   "cell_type": "markdown",
   "metadata": {},
   "source": [
    "### Uploading the required Roadway data in Excel format"
   ]
  },
  {
   "cell_type": "code",
   "execution_count": null,
   "metadata": {},
   "outputs": [],
   "source": [
    "df = pd.ExcelFile(\"../Learning/data/Table-20.1_1.xlsx\")\n",
    "\n",
    "df1 = pd.read_excel(df, 'Table 20.1(State Wise)')\n",
    "df1.columns = df1.iloc[5]\n",
    "df1 = df1[6:48]\n"
   ]
  },
  {
   "cell_type": "markdown",
   "metadata": {},
   "source": [
    "## Getting the list of all the states"
   ]
  },
  {
   "cell_type": "code",
   "execution_count": null,
   "metadata": {},
   "outputs": [],
   "source": [
    "var = set(df1.dropna()[1:]['State /Union Territory'])\n",
    "var"
   ]
  },
  {
   "cell_type": "markdown",
   "metadata": {},
   "source": [
    "### Sample view of the uploaded data"
   ]
  },
  {
   "cell_type": "code",
   "execution_count": null,
   "metadata": {},
   "outputs": [],
   "source": [
    "df1.head(30)"
   ]
  },
  {
   "cell_type": "markdown",
   "metadata": {},
   "source": [
    "## Setting the State as the Index"
   ]
  },
  {
   "cell_type": "code",
   "execution_count": null,
   "metadata": {},
   "outputs": [],
   "source": [
    "df1 = df1.set_index('State /Union Territory')"
   ]
  },
  {
   "cell_type": "markdown",
   "metadata": {},
   "source": [
    "## Dividing the dataframe into separate ones depending on the vehicle type"
   ]
  },
  {
   "cell_type": "code",
   "execution_count": null,
   "metadata": {},
   "outputs": [],
   "source": [
    "df_1 = df1.iloc[:,:8]\n",
    "df11 = df_1.iloc[:,0]\n",
    "df11_df = pd.DataFrame(df11)\n",
    "\n",
    "df_2 = df1.iloc[:,8:16]\n",
    "df_3 = df1.iloc[:,16:24]\n",
    "df_4 = df1.iloc[:,24:32]\n",
    "df_5 = df1.iloc[:,32:40]\n",
    "df_6 = df1.iloc[:,40:48]\n",
    "df_7 = df1.iloc[:,48:56]\n",
    "df_8 = df1.iloc[:,56:64]\n"
   ]
  },
  {
   "cell_type": "markdown",
   "metadata": {},
   "source": [
    "## Adding a new column with the type details"
   ]
  },
  {
   "cell_type": "code",
   "execution_count": null,
   "metadata": {},
   "outputs": [],
   "source": [
    "df_1['Type'] = df_1.iloc[0,0]\n",
    "df_2['Type'] = df_2.iloc[0,0]\n",
    "df_3['Type'] = df_3.iloc[0,0]\n",
    "df_4['Type'] = df_4.iloc[0,0]\n",
    "df_5['Type'] = df_5.iloc[0,0]\n",
    "df_6['Type'] = df_6.iloc[0,0]\n",
    "df_7['Type'] = df_7.iloc[0,0]\n",
    "df_8['Type'] = df_8.iloc[0,0]\n"
   ]
  },
  {
   "cell_type": "markdown",
   "metadata": {},
   "source": [
    "## Creating a new dataframe 'df_new'"
   ]
  },
  {
   "cell_type": "code",
   "execution_count": null,
   "metadata": {},
   "outputs": [],
   "source": [
    "frame = [df_1, df_2,df_3, df_4]\n",
    "df_new = pd.concat(frame)"
   ]
  },
  {
   "cell_type": "markdown",
   "metadata": {},
   "source": [
    "## Creating a new dataframe 'df_new1'"
   ]
  },
  {
   "cell_type": "code",
   "execution_count": null,
   "metadata": {},
   "outputs": [],
   "source": [
    "frame = [df_5, df_6,df_7, df_8]\n",
    "df_new1 = pd.concat(frame)"
   ]
  },
  {
   "cell_type": "code",
   "execution_count": null,
   "metadata": {},
   "outputs": [],
   "source": [
    "df_new"
   ]
  },
  {
   "cell_type": "markdown",
   "metadata": {},
   "source": [
    "## Naming all the required columns and dropping all the Null values"
   ]
  },
  {
   "cell_type": "code",
   "execution_count": null,
   "metadata": {},
   "outputs": [],
   "source": [
    "df_new.columns = ['2009','2010','2011','2012','2013','2014','2015','2016','Types']\n",
    "df_new1.columns = ['2009','2010','2011','2012','2013','2014','2015','2016','Types']\n",
    "\n",
    "df_new =  df_new.dropna()\n",
    "df_new = df_new[2:]\n",
    "#sample\n",
    "\n",
    "\n",
    "df_new1 =  df_new1.dropna()\n",
    "df_new1 = df_new1[2:]"
   ]
  },
  {
   "cell_type": "code",
   "execution_count": null,
   "metadata": {},
   "outputs": [],
   "source": [
    "df_new = df_new.drop([1], axis = 0)\n",
    "\n",
    "df_new = df_new.reset_index().dropna().set_index('State /Union Territory')"
   ]
  },
  {
   "cell_type": "code",
   "execution_count": null,
   "metadata": {},
   "outputs": [],
   "source": [
    "df_new1 = df_new1.drop([1], axis = 0)\n",
    "\n",
    "df_new1 = df_new1.reset_index().dropna().set_index('State /Union Territory')"
   ]
  },
  {
   "cell_type": "markdown",
   "metadata": {},
   "source": [
    "## Removing all the special characters using the string module"
   ]
  },
  {
   "cell_type": "code",
   "execution_count": null,
   "metadata": {},
   "outputs": [],
   "source": [
    "import string"
   ]
  },
  {
   "cell_type": "code",
   "execution_count": null,
   "metadata": {},
   "outputs": [],
   "source": [
    "months = df_new.columns\n",
    "for col in months:\n",
    "    for punct in string.punctuation:\n",
    "        df_new[col] = df_new[col].replace(punct, ' ')\n",
    "        df_new1[col] = df_new1[col].replace(punct, ' ')\n",
    "\n",
    "        \n"
   ]
  },
  {
   "cell_type": "code",
   "execution_count": null,
   "metadata": {},
   "outputs": [],
   "source": [
    "punct = ['…', ' ']\n",
    "for char in punct:\n",
    "    df_new = df_new.replace(to_replace = char, value = 0.0) \n",
    "    df_new1 = df_new1.replace(to_replace = char, value = 0.0) "
   ]
  },
  {
   "cell_type": "markdown",
   "metadata": {},
   "source": [
    "## Formating the remaining data"
   ]
  },
  {
   "cell_type": "code",
   "execution_count": null,
   "metadata": {},
   "outputs": [],
   "source": [
    "for i in list(range(0,len(df_new))):\n",
    "    if df_new.iloc[i,8] == 'Goods Carrier Vehicles(a)':\n",
    "        if df_new.iloc[i,3] == '281995$':\n",
    "            df_new.iloc[i,3] = '281995'\n",
    "    "
   ]
  },
  {
   "cell_type": "code",
   "execution_count": null,
   "metadata": {},
   "outputs": [],
   "source": [
    "df_new['2012'] = df_new['2012'].astype(float)"
   ]
  },
  {
   "cell_type": "code",
   "execution_count": null,
   "metadata": {},
   "outputs": [],
   "source": [
    "df_new.info()"
   ]
  },
  {
   "cell_type": "code",
   "execution_count": null,
   "metadata": {},
   "outputs": [],
   "source": [
    "df_new1[df_new1['2012'] == '7939#']\n"
   ]
  },
  {
   "cell_type": "code",
   "execution_count": null,
   "metadata": {},
   "outputs": [],
   "source": [
    "sample = df_new1"
   ]
  },
  {
   "cell_type": "code",
   "execution_count": null,
   "metadata": {},
   "outputs": [],
   "source": [
    "for i in list(range(0,len(df_new1))):\n",
    "    if df_new1.iloc[i,8] == 'Miscellaneous(b)':\n",
    "        if df_new1.iloc[i,3] == '7939#':\n",
    "            df_new1.iloc[i,3] = '7939'\n",
    "            #print('Hello')\n",
    "        if df_new1.iloc[i,3] == '532^':\n",
    "            df_new1.iloc[i,3] = '532'\n",
    "            #print('Wasssup')\n",
    "        if df_new1.iloc[i,3] == '196#':\n",
    "            df_new1.iloc[i,3] = '196'\n",
    "            #print('Wasssup')"
   ]
  },
  {
   "cell_type": "code",
   "execution_count": null,
   "metadata": {},
   "outputs": [],
   "source": [
    "df_new1.loc[' A. & N. Islands']"
   ]
  },
  {
   "cell_type": "code",
   "execution_count": null,
   "metadata": {},
   "outputs": [],
   "source": [
    "df_new1['2012'] = df_new1['2012'].astype(float)"
   ]
  },
  {
   "cell_type": "code",
   "execution_count": null,
   "metadata": {},
   "outputs": [],
   "source": [
    "df_new1.info()"
   ]
  },
  {
   "cell_type": "markdown",
   "metadata": {},
   "source": [
    "=======================\n",
    "================================================\n",
    "\n",
    "================================================\n",
    "======================="
   ]
  },
  {
   "cell_type": "code",
   "execution_count": null,
   "metadata": {},
   "outputs": [],
   "source": [
    "for r in var:\n",
    "    a = df_new.loc[r]\n",
    "    b = df_new1.loc[r]\n",
    "    #b = df[df[\"SUBDIVISION\"] == r]\n",
    "    sample1 = pd.DataFrame(a)\n",
    "    sample2 = pd.DataFrame(b)\n",
    "    frames = [sample1, sample2]\n",
    "    sample = pd.concat(frames)\n",
    "    print(sample)"
   ]
  },
  {
   "cell_type": "code",
   "execution_count": null,
   "metadata": {},
   "outputs": [],
   "source": [
    "import matplotlib.pyplot as plt "
   ]
  },
  {
   "cell_type": "code",
   "execution_count": null,
   "metadata": {},
   "outputs": [],
   "source": [
    "set(df_new['Types'])"
   ]
  },
  {
   "cell_type": "code",
   "execution_count": null,
   "metadata": {},
   "outputs": [],
   "source": [
    "# Analyzing the bus registration in the country\n",
    "\n",
    "sample = df_new[df_new['Types'] == 'Buses ']"
   ]
  },
  {
   "cell_type": "code",
   "execution_count": null,
   "metadata": {},
   "outputs": [],
   "source": [
    "set(sample.index)"
   ]
  },
  {
   "cell_type": "code",
   "execution_count": null,
   "metadata": {},
   "outputs": [],
   "source": [
    "# Plotting overall data for 2009-2016\n",
    "\n",
    "sample_plot = sample.plot()\n",
    "sample_plot.tick_params(axis='x', rotation=90)"
   ]
  },
  {
   "cell_type": "code",
   "execution_count": null,
   "metadata": {},
   "outputs": [],
   "source": [
    "sample1 = sample['2009']"
   ]
  },
  {
   "cell_type": "code",
   "execution_count": null,
   "metadata": {},
   "outputs": [],
   "source": [
    "sample1_df = pd.DataFrame(sample1)"
   ]
  },
  {
   "cell_type": "code",
   "execution_count": null,
   "metadata": {},
   "outputs": [],
   "source": [
    "sample1_df.plot()"
   ]
  },
  {
   "cell_type": "code",
   "execution_count": null,
   "metadata": {},
   "outputs": [],
   "source": [
    "sample = df_new1.loc[' Maharashtra'].iloc[2,:]"
   ]
  },
  {
   "cell_type": "code",
   "execution_count": null,
   "metadata": {},
   "outputs": [],
   "source": [
    "sample = df_new1[df_new1['Types'] == 'Cars']"
   ]
  },
  {
   "cell_type": "code",
   "execution_count": null,
   "metadata": {},
   "outputs": [],
   "source": [
    "df_new1.iloc[:,1]"
   ]
  },
  {
   "cell_type": "code",
   "execution_count": null,
   "metadata": {},
   "outputs": [],
   "source": [
    "var = list(var)"
   ]
  },
  {
   "cell_type": "code",
   "execution_count": null,
   "metadata": {},
   "outputs": [],
   "source": [
    "# Plotting all the vehicles registered in the below 3 states\n",
    "\n",
    "frame = [' Maharashtra',' Madhya Pradesh','Uttar Pradesh']\n",
    "for r in var:\n",
    "    x = sample.loc[r][:-1].astype(int)\n",
    "    x_plot = x.plot()\n",
    "    #x_plot.set_xlabel('Amount of Rainfall ', fontsize = 25)\n",
    "    #x_plot.set_ylabel('Year', fontsize = 25)\n",
    "    "
   ]
  },
  {
   "cell_type": "code",
   "execution_count": null,
   "metadata": {},
   "outputs": [],
   "source": [
    "df_new.shape"
   ]
  },
  {
   "cell_type": "code",
   "execution_count": null,
   "metadata": {},
   "outputs": [],
   "source": [
    "df_new1.shape"
   ]
  },
  {
   "cell_type": "code",
   "execution_count": null,
   "metadata": {},
   "outputs": [],
   "source": [
    "df_new.to_csv('../Learning/data/Dissertation/Roadways/roadway1.csv')"
   ]
  },
  {
   "cell_type": "code",
   "execution_count": null,
   "metadata": {},
   "outputs": [],
   "source": [
    "df_new1.to_csv('../Learning/data/Dissertation/Roadways/roadway2.csv')"
   ]
  },
  {
   "cell_type": "code",
   "execution_count": null,
   "metadata": {},
   "outputs": [],
   "source": []
  }
 ],
 "metadata": {
  "kernelspec": {
   "display_name": "Python 3",
   "language": "python",
   "name": "python3"
  },
  "language_info": {
   "codemirror_mode": {
    "name": "ipython",
    "version": 3
   },
   "file_extension": ".py",
   "mimetype": "text/x-python",
   "name": "python",
   "nbconvert_exporter": "python",
   "pygments_lexer": "ipython3",
   "version": "3.7.6"
  }
 },
 "nbformat": 4,
 "nbformat_minor": 4
}
