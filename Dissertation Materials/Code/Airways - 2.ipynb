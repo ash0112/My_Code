{
 "cells": [
  {
   "cell_type": "code",
   "execution_count": null,
   "metadata": {},
   "outputs": [],
   "source": [
    "import tabula\n",
    "import pandas as pd\n",
    "import numpy as np\n",
    "\n",
    "filepath = \"../Learning/data/Dissertation/Airways/Total_2017.pdf\""
   ]
  },
  {
   "cell_type": "code",
   "execution_count": null,
   "metadata": {},
   "outputs": [],
   "source": [
    "def Page(df):\n",
    "    df.columns = ['Sr.No','Airports','Passengers']\n",
    "    df = df.set_index('Sr.No')\n",
    "    return df"
   ]
  },
  {
   "cell_type": "code",
   "execution_count": null,
   "metadata": {},
   "outputs": [],
   "source": [
    "def Page1(df):\n",
    "    df = df.columns.to_frame().T.append(df, ignore_index=True)\n",
    "    df.columns = range(len(df.columns))\n",
    "    return df"
   ]
  },
  {
   "cell_type": "code",
   "execution_count": null,
   "metadata": {},
   "outputs": [],
   "source": [
    "def Main(df):\n",
    "    df['Sr.No'] = df['Unnamed: 0'].str.split(\" \",expand = True)[0]\n",
    "    df['Airports'] = df['Unnamed: 0'].str.split(\" \",expand = True)[1]\n",
    "    df = df[['Sr.No','Airports','Unnamed: 2']].set_index('Sr.No')\n",
    "    #df.columns = ['Airports','Passengers(Aug)']\n",
    "    return df\n",
    "    "
   ]
  },
  {
   "cell_type": "code",
   "execution_count": null,
   "metadata": {},
   "outputs": [],
   "source": [
    "def Month(sample,df1,name):\n",
    "    frame = [sample,df1]\n",
    "    name = pd.concat(frame)\n",
    "    return name"
   ]
  },
  {
   "cell_type": "code",
   "execution_count": null,
   "metadata": {},
   "outputs": [],
   "source": [
    "Months = ['Jan','Feb','Mar','Apr','May','Jun','Jul','Sep','Oct','Nov','Dec']"
   ]
  },
  {
   "cell_type": "raw",
   "metadata": {},
   "source": [
    "============================================================\n",
    "\n",
    "\n",
    "\n",
    "============================================================"
   ]
  },
  {
   "cell_type": "code",
   "execution_count": null,
   "metadata": {},
   "outputs": [],
   "source": [
    "df = tabula.read_pdf(filepath,pages = 1, multiple_tables = True)\n",
    "df_1 = pd.DataFrame(df[0])"
   ]
  },
  {
   "cell_type": "code",
   "execution_count": null,
   "metadata": {},
   "outputs": [],
   "source": [
    "df_1.columns"
   ]
  },
  {
   "cell_type": "code",
   "execution_count": null,
   "metadata": {},
   "outputs": [],
   "source": [
    "sample = df_1[['SL. NO.', 'AIRPORT', 'PASSENGERS (IN NOS.)']].dropna().drop([21,29,39])\n",
    "sample = Page(sample)\n",
    "sample.columns = ['Airports','Passengers(Jan)']\n",
    "sample"
   ]
  },
  {
   "cell_type": "code",
   "execution_count": null,
   "metadata": {},
   "outputs": [],
   "source": [
    "df = tabula.read_pdf(filepath,pages = 2, multiple_tables = True)\n",
    "df_2 = pd.DataFrame(df[0])"
   ]
  },
  {
   "cell_type": "code",
   "execution_count": null,
   "metadata": {},
   "outputs": [],
   "source": [
    "df_2.head(20)"
   ]
  },
  {
   "cell_type": "code",
   "execution_count": null,
   "metadata": {},
   "outputs": [],
   "source": [
    "df_2 = Page1(df_2)\n",
    "df_2 = df_2[[0,1,2]]\n",
    "df_2\n"
   ]
  },
  {
   "cell_type": "code",
   "execution_count": null,
   "metadata": {},
   "outputs": [],
   "source": [
    "df_2 = df_2.dropna().drop([24,31,32,33])\n",
    "df_2 = Page(df_2)\n",
    "df_2.columns = ['Airports','Passengers(Jan)']"
   ]
  },
  {
   "cell_type": "code",
   "execution_count": null,
   "metadata": {},
   "outputs": [],
   "source": [
    "frame = [sample,df_2]\n",
    "df_17_1 = pd.concat(frame)"
   ]
  },
  {
   "cell_type": "code",
   "execution_count": null,
   "metadata": {},
   "outputs": [],
   "source": [
    "df = tabula.read_pdf(filepath,pages = 3, multiple_tables = True)\n",
    "df_3 = pd.DataFrame(df[0])"
   ]
  },
  {
   "cell_type": "code",
   "execution_count": null,
   "metadata": {},
   "outputs": [],
   "source": [
    "df_3.columns"
   ]
  },
  {
   "cell_type": "code",
   "execution_count": null,
   "metadata": {},
   "outputs": [],
   "source": [
    "sample = df_3[['SL. NO.', 'AIRPORT', 'PASSENGERS (IN NOS.)']].dropna().drop([21,29,39])\n",
    "sample = Page(sample)\n",
    "sample.columns = ['Airports','Passengers(Feb)']\n",
    "sample"
   ]
  },
  {
   "cell_type": "code",
   "execution_count": null,
   "metadata": {},
   "outputs": [],
   "source": [
    "df = tabula.read_pdf(filepath,pages = 4, multiple_tables = True)\n",
    "df_4 = pd.DataFrame(df[0])"
   ]
  },
  {
   "cell_type": "code",
   "execution_count": null,
   "metadata": {},
   "outputs": [],
   "source": [
    "df_4.head(20)"
   ]
  },
  {
   "cell_type": "code",
   "execution_count": null,
   "metadata": {},
   "outputs": [],
   "source": [
    "df_4 = Page1(df_4)\n",
    "df_4 = df_4[[0,1,2]]\n",
    "df_4 = Page(df_4)\n"
   ]
  },
  {
   "cell_type": "code",
   "execution_count": null,
   "metadata": {},
   "outputs": [],
   "source": [
    "frame = [sample,df_4]\n",
    "df_17_2 = pd.concat(frame)"
   ]
  },
  {
   "cell_type": "code",
   "execution_count": null,
   "metadata": {},
   "outputs": [],
   "source": [
    "df = tabula.read_pdf(filepath,pages = 5, multiple_tables = True)\n",
    "df_5 = pd.DataFrame(df[0])"
   ]
  },
  {
   "cell_type": "code",
   "execution_count": null,
   "metadata": {},
   "outputs": [],
   "source": [
    "sample = df_5[['SL. NO.', 'AIRPORT', 'PASSENGERS (IN NOS.)']].dropna().drop([21,29,39])\n",
    "sample = Page(sample)\n",
    "sample.columns = ['Airports','Passengers(Mar)']\n",
    "sample"
   ]
  },
  {
   "cell_type": "code",
   "execution_count": null,
   "metadata": {},
   "outputs": [],
   "source": [
    "df = tabula.read_pdf(filepath,pages = 6, multiple_tables = True)\n",
    "df_6 = pd.DataFrame(df[0])"
   ]
  },
  {
   "cell_type": "code",
   "execution_count": null,
   "metadata": {},
   "outputs": [],
   "source": [
    "df_6.head(20)"
   ]
  },
  {
   "cell_type": "code",
   "execution_count": null,
   "metadata": {},
   "outputs": [],
   "source": [
    "df_6 = Page1(df_6)\n",
    "df_6 = df_6[[0,1,2]]"
   ]
  },
  {
   "cell_type": "code",
   "execution_count": null,
   "metadata": {},
   "outputs": [],
   "source": [
    "df_6 = df_6.dropna().drop([24,31,32,33])\n",
    "df_6 = Page(df_6)\n",
    "df_6.columns = ['Airports','Passengers(Mar)']"
   ]
  },
  {
   "cell_type": "code",
   "execution_count": null,
   "metadata": {},
   "outputs": [],
   "source": [
    "frame = [sample,df_6]\n",
    "df_17_3 = pd.concat(frame)"
   ]
  },
  {
   "cell_type": "code",
   "execution_count": null,
   "metadata": {},
   "outputs": [],
   "source": [
    "df_17_3"
   ]
  },
  {
   "cell_type": "code",
   "execution_count": null,
   "metadata": {},
   "outputs": [],
   "source": [
    "df = tabula.read_pdf(filepath,pages = 7, multiple_tables = True)\n",
    "df_7 = pd.DataFrame(df[1])"
   ]
  },
  {
   "cell_type": "code",
   "execution_count": null,
   "metadata": {},
   "outputs": [],
   "source": [
    "df_7.head(20)"
   ]
  },
  {
   "cell_type": "code",
   "execution_count": null,
   "metadata": {},
   "outputs": [],
   "source": [
    "df_7_1 = Page1(df_7)\n",
    "df_7_2 = Page1(pd.DataFrame(df[2]))\n",
    "df_7_3 = Page1(pd.DataFrame(df[3]))\n",
    "df_7_4 = Page1(pd.DataFrame(df[4]))\n",
    "\n",
    "frame = [df_7_1,df_7_2,df_7_3,df_7_4]\n",
    "df_7 = pd.concat(frame)\n",
    "\n",
    "df_7 = df_7[[0,1,2]].dropna().reset_index(drop = True)\n",
    "sample = df_7.drop([18,25,34])\n",
    "sample = Page(sample)\n",
    "sample.columns = ['Airports','Passengers(Apr)']\n",
    "sample"
   ]
  },
  {
   "cell_type": "code",
   "execution_count": null,
   "metadata": {},
   "outputs": [],
   "source": [
    "df = tabula.read_pdf(filepath,pages = 8, multiple_tables = True)\n",
    "df_8 = pd.DataFrame(df[0])"
   ]
  },
  {
   "cell_type": "code",
   "execution_count": null,
   "metadata": {},
   "outputs": [],
   "source": [
    "df_8.head(20)"
   ]
  },
  {
   "cell_type": "code",
   "execution_count": null,
   "metadata": {},
   "outputs": [],
   "source": [
    "df_8_1 = Page1(df_8)\n",
    "df_8_2 = Page1(pd.DataFrame(df[1]))\n",
    "frame = [df_8_1,df_8_2]\n",
    "df_8 = pd.concat(frame)\n",
    "\n",
    "df_8 = df_8[[0,1,2]].dropna().reset_index(drop = True)\n",
    "df_8 = df_8.drop([28,33,34,35])\n",
    "df_8 = Page(df_8)\n",
    "df_8.columns = ['Airports','Passengers(Apr)']\n",
    "\n",
    "df_8"
   ]
  },
  {
   "cell_type": "code",
   "execution_count": null,
   "metadata": {},
   "outputs": [],
   "source": [
    "frame = [sample,df_8]\n",
    "df_17_4 = pd.concat(frame)"
   ]
  },
  {
   "cell_type": "code",
   "execution_count": null,
   "metadata": {},
   "outputs": [],
   "source": [
    "df = tabula.read_pdf(filepath,pages = 9, multiple_tables = True)\n",
    "df_9 = pd.DataFrame(df[1])"
   ]
  },
  {
   "cell_type": "code",
   "execution_count": null,
   "metadata": {},
   "outputs": [],
   "source": [
    "df_9.head(20)"
   ]
  },
  {
   "cell_type": "code",
   "execution_count": null,
   "metadata": {},
   "outputs": [],
   "source": [
    "df_9_1 = Page1(df_9)\n",
    "df_9_2 = Page1(pd.DataFrame(df[2]))\n",
    "df_9_3 = Page1(pd.DataFrame(df[3]))\n",
    "df_9_4 = Page1(pd.DataFrame(df[4]))\n",
    "\n",
    "frame = [df_9_1,df_9_2,df_9_3,df_9_4]\n",
    "df_9 = pd.concat(frame)\n",
    "\n",
    "df_9 = df_9[[0,1,2]].dropna().reset_index(drop = True)\n",
    "sample = df_9.drop([18,25,34])\n",
    "sample = Page(sample)\n",
    "sample.columns = ['Airports','Passengers(May)']\n",
    "sample"
   ]
  },
  {
   "cell_type": "code",
   "execution_count": null,
   "metadata": {},
   "outputs": [],
   "source": [
    "df = tabula.read_pdf(filepath,pages = 10, multiple_tables = True)\n",
    "df_10 = pd.DataFrame(df[0])"
   ]
  },
  {
   "cell_type": "code",
   "execution_count": null,
   "metadata": {},
   "outputs": [],
   "source": [
    "df_10"
   ]
  },
  {
   "cell_type": "code",
   "execution_count": null,
   "metadata": {},
   "outputs": [],
   "source": [
    "df_10_1 = Page1(df_10)\n",
    "df_10_2 = Page1(pd.DataFrame(df[1]))\n",
    "frame = [df_10_1,df_10_2]\n",
    "df_10 = pd.concat(frame)\n",
    "\n",
    "df_10 = df_10[[0,1,2]].dropna().reset_index(drop = True)\n",
    "df_10 = df_10.drop([28,33,34,35])\n",
    "df_10 = Page(df_10)\n",
    "df_10.columns = ['Airports','Passengers(May)']\n",
    "\n",
    "df_10"
   ]
  },
  {
   "cell_type": "code",
   "execution_count": null,
   "metadata": {},
   "outputs": [],
   "source": [
    "frame = [sample,df_10]\n",
    "df_17_5 = pd.concat(frame)"
   ]
  },
  {
   "cell_type": "code",
   "execution_count": null,
   "metadata": {},
   "outputs": [],
   "source": [
    "df = tabula.read_pdf(filepath,pages = 11, multiple_tables = True)\n",
    "df_11 = pd.DataFrame(df[1])"
   ]
  },
  {
   "cell_type": "code",
   "execution_count": null,
   "metadata": {},
   "outputs": [],
   "source": [
    "df_11"
   ]
  },
  {
   "cell_type": "code",
   "execution_count": null,
   "metadata": {},
   "outputs": [],
   "source": [
    "def Page_1(df,df1):\n",
    "    df_1 = Page1(df1)\n",
    "    df_2 = Page1(pd.DataFrame(df[2]))\n",
    "    df_3 = Page1(pd.DataFrame(df[3]))\n",
    "    df_4 = Page1(pd.DataFrame(df[4]))\n",
    "\n",
    "    frame = [df_1,df_2,df_3,df_4]\n",
    "    df_ = pd.concat(frame)\n",
    "\n",
    "    df_ = df_[[0,1,2]].dropna().reset_index(drop = True)\n",
    "    sample = df_.drop([18,25,34])\n",
    "    sample = Page(sample)\n",
    "    #sample.columns = ['Airports','Passengers(May)']\n",
    "    return sample"
   ]
  },
  {
   "cell_type": "code",
   "execution_count": null,
   "metadata": {},
   "outputs": [],
   "source": [
    "def Page_2(df,df1):\n",
    "    df_1 = Page1(df1)\n",
    "    df_2 = Page1(pd.DataFrame(df[1]))\n",
    "    frame = [df_1,df_2]\n",
    "    df_ = pd.concat(frame)\n",
    "\n",
    "\n",
    "    return df_"
   ]
  },
  {
   "cell_type": "code",
   "execution_count": null,
   "metadata": {},
   "outputs": [],
   "source": [
    "sample = Page_1(df,df_11)"
   ]
  },
  {
   "cell_type": "code",
   "execution_count": null,
   "metadata": {},
   "outputs": [],
   "source": [
    "sample.columns = ['Airports','Passengers(Jun)']"
   ]
  },
  {
   "cell_type": "code",
   "execution_count": null,
   "metadata": {},
   "outputs": [],
   "source": [
    "df = tabula.read_pdf(filepath,pages = 12, multiple_tables = True)\n",
    "df_12 = pd.DataFrame(df[0])"
   ]
  },
  {
   "cell_type": "code",
   "execution_count": null,
   "metadata": {},
   "outputs": [],
   "source": [
    "df_12"
   ]
  },
  {
   "cell_type": "code",
   "execution_count": null,
   "metadata": {},
   "outputs": [],
   "source": [
    "df_12 = Page_2(df,df_12)"
   ]
  },
  {
   "cell_type": "code",
   "execution_count": null,
   "metadata": {},
   "outputs": [],
   "source": [
    "df_12 = df_12[[0,1,2]].dropna().reset_index(drop = True)\n",
    "df_12 = df_12.drop([27,32,33,34])\n",
    "df_12 = Page(df_12)\n",
    "df_12.columns = ['Airports','Passengers(Jun)']\n",
    "df_12"
   ]
  },
  {
   "cell_type": "code",
   "execution_count": null,
   "metadata": {},
   "outputs": [],
   "source": [
    "frame = [sample,df_12]\n",
    "df_17_6 = pd.concat(frame)"
   ]
  },
  {
   "cell_type": "code",
   "execution_count": null,
   "metadata": {},
   "outputs": [],
   "source": [
    "df = tabula.read_pdf(filepath,pages = 13, multiple_tables = True)\n",
    "df_13 = pd.DataFrame(df[1])"
   ]
  },
  {
   "cell_type": "code",
   "execution_count": null,
   "metadata": {},
   "outputs": [],
   "source": [
    "df_13"
   ]
  },
  {
   "cell_type": "code",
   "execution_count": null,
   "metadata": {},
   "outputs": [],
   "source": [
    "sample = Page_1(df,df_13)"
   ]
  },
  {
   "cell_type": "code",
   "execution_count": null,
   "metadata": {},
   "outputs": [],
   "source": [
    "sample.columns = ['Airports','Passengers(Jul)']"
   ]
  },
  {
   "cell_type": "code",
   "execution_count": null,
   "metadata": {},
   "outputs": [],
   "source": [
    "df = tabula.read_pdf(filepath,pages = 14, multiple_tables = True)\n",
    "df_14 = pd.DataFrame(df[0])"
   ]
  },
  {
   "cell_type": "code",
   "execution_count": null,
   "metadata": {},
   "outputs": [],
   "source": [
    "df_14"
   ]
  },
  {
   "cell_type": "code",
   "execution_count": null,
   "metadata": {},
   "outputs": [],
   "source": [
    "df_14 = Page_2(df,df_14)"
   ]
  },
  {
   "cell_type": "code",
   "execution_count": null,
   "metadata": {},
   "outputs": [],
   "source": [
    "df_14 = df_14[[0,1,2]].dropna().reset_index(drop = True).drop([27,32,33,34])\n",
    "df_14 = Page(df_14)\n",
    "df_14.columns = ['Airports','Passengers(Jul)']"
   ]
  },
  {
   "cell_type": "code",
   "execution_count": null,
   "metadata": {},
   "outputs": [],
   "source": [
    "frame = [sample,df_14]\n",
    "df_17_7 = pd.concat(frame)"
   ]
  },
  {
   "cell_type": "code",
   "execution_count": null,
   "metadata": {},
   "outputs": [],
   "source": [
    "df_17_7"
   ]
  },
  {
   "cell_type": "code",
   "execution_count": null,
   "metadata": {},
   "outputs": [],
   "source": [
    "df = tabula.read_pdf(filepath,pages = 15, multiple_tables = True)\n",
    "df_15 = pd.DataFrame(df[1])"
   ]
  },
  {
   "cell_type": "code",
   "execution_count": null,
   "metadata": {},
   "outputs": [],
   "source": [
    "df_15"
   ]
  },
  {
   "cell_type": "code",
   "execution_count": null,
   "metadata": {},
   "outputs": [],
   "source": [
    "sample = Page_1(df,df_15)"
   ]
  },
  {
   "cell_type": "code",
   "execution_count": null,
   "metadata": {},
   "outputs": [],
   "source": [
    "sample.columns = ['Airports','Passengers(Aug)']"
   ]
  },
  {
   "cell_type": "code",
   "execution_count": null,
   "metadata": {},
   "outputs": [],
   "source": [
    "df = tabula.read_pdf(filepath,pages = 16, multiple_tables = True)\n",
    "df_16 = pd.DataFrame(df[0])"
   ]
  },
  {
   "cell_type": "code",
   "execution_count": null,
   "metadata": {},
   "outputs": [],
   "source": [
    "df_16"
   ]
  },
  {
   "cell_type": "code",
   "execution_count": null,
   "metadata": {},
   "outputs": [],
   "source": [
    "df_16 = Page_2(df,df_16)"
   ]
  },
  {
   "cell_type": "code",
   "execution_count": null,
   "metadata": {},
   "outputs": [],
   "source": [
    "df_16 = df_16[[0,1,2]].dropna().reset_index(drop = True).drop([27,32,33,34])\n",
    "df_16 = Page(df_16)\n",
    "df_16.columns = ['Airports','Passengers(Aug)']"
   ]
  },
  {
   "cell_type": "code",
   "execution_count": null,
   "metadata": {},
   "outputs": [],
   "source": [
    "frame = [sample,df_16]\n",
    "df_17_8 = pd.concat(frame)"
   ]
  },
  {
   "cell_type": "code",
   "execution_count": null,
   "metadata": {},
   "outputs": [],
   "source": [
    "df_17_8"
   ]
  },
  {
   "cell_type": "code",
   "execution_count": null,
   "metadata": {},
   "outputs": [],
   "source": [
    "df = tabula.read_pdf(filepath,pages = 17, multiple_tables = True)\n",
    "df_17 = pd.DataFrame(df[0])"
   ]
  },
  {
   "cell_type": "code",
   "execution_count": null,
   "metadata": {},
   "outputs": [],
   "source": [
    "df_17"
   ]
  },
  {
   "cell_type": "code",
   "execution_count": null,
   "metadata": {},
   "outputs": [],
   "source": [
    "df_17 = df_17.dropna()\n",
    "df_17['Passengers'] = df_17['PASSENGERS (IN NOS.)'].str.split(\" \", expand = True)[0]"
   ]
  },
  {
   "cell_type": "code",
   "execution_count": null,
   "metadata": {},
   "outputs": [],
   "source": [
    "df_17 = df_17[['Unnamed: 0', 'Unnamed: 1', 'Passengers']]"
   ]
  },
  {
   "cell_type": "code",
   "execution_count": null,
   "metadata": {},
   "outputs": [],
   "source": [
    "sample = Page(df_17)"
   ]
  },
  {
   "cell_type": "code",
   "execution_count": null,
   "metadata": {},
   "outputs": [],
   "source": [
    "sample.columns = ['Airports','Passengers(Sep)']"
   ]
  },
  {
   "cell_type": "code",
   "execution_count": null,
   "metadata": {},
   "outputs": [],
   "source": [
    "df = tabula.read_pdf(filepath,pages = 18, multiple_tables = True)\n",
    "df_18 = pd.DataFrame(df[0])"
   ]
  },
  {
   "cell_type": "code",
   "execution_count": null,
   "metadata": {},
   "outputs": [],
   "source": [
    "df_18 = Page1(df_18)\n",
    "\n"
   ]
  },
  {
   "cell_type": "code",
   "execution_count": null,
   "metadata": {},
   "outputs": [],
   "source": [
    "df_18 = df_18[[0,2]].dropna().drop([34,40,41,42])\n",
    "df_18['Sr.No'] = df_18[0].str.split(\" \",expand = True)[0]\n",
    "df_18['Airports'] = df_18[0].str.split(\" \",expand = True)[1]"
   ]
  },
  {
   "cell_type": "code",
   "execution_count": null,
   "metadata": {},
   "outputs": [],
   "source": [
    "df_18 = df_18[['Sr.No','Airports',2]].set_index('Sr.No')\n",
    "df_18.columns = ['Airports','Passengers(Sep)']"
   ]
  },
  {
   "cell_type": "code",
   "execution_count": null,
   "metadata": {},
   "outputs": [],
   "source": [
    "frame = [sample,df_18]\n",
    "df_17_9 = pd.concat(frame)"
   ]
  },
  {
   "cell_type": "code",
   "execution_count": null,
   "metadata": {},
   "outputs": [],
   "source": [
    "df_17_9"
   ]
  },
  {
   "cell_type": "code",
   "execution_count": null,
   "metadata": {},
   "outputs": [],
   "source": [
    "df = tabula.read_pdf(filepath,pages = 19, multiple_tables = True)\n",
    "df_19 = pd.DataFrame(df[0])"
   ]
  },
  {
   "cell_type": "code",
   "execution_count": null,
   "metadata": {},
   "outputs": [],
   "source": [
    "df_19.columns"
   ]
  },
  {
   "cell_type": "code",
   "execution_count": null,
   "metadata": {},
   "outputs": [],
   "source": [
    "df_19 = df_19[['SL. NO.', 'AIRPORT', 'PASSENGERS (IN NOS.)']].dropna().drop([21,29,39])\n",
    "df_19.columns = ['Sr.No','Airports','Passengers(Oct)']\n",
    "df_19 = df_19.set_index('Sr.No')"
   ]
  },
  {
   "cell_type": "code",
   "execution_count": null,
   "metadata": {},
   "outputs": [],
   "source": [
    "df = tabula.read_pdf(filepath,pages = 20, multiple_tables = True)\n",
    "df_20 = pd.DataFrame(df[0])"
   ]
  },
  {
   "cell_type": "code",
   "execution_count": null,
   "metadata": {},
   "outputs": [],
   "source": [
    "df_20 = Page1(df_20)\n"
   ]
  },
  {
   "cell_type": "code",
   "execution_count": null,
   "metadata": {},
   "outputs": [],
   "source": [
    "df_20 = df_20[[0,1,2]].drop(list(range(35,62))).dropna().drop(29)\n",
    "df_20 = Page(df_20)\n",
    "df_20.columns  = ['Airports','Passengers(Oct)']"
   ]
  },
  {
   "cell_type": "code",
   "execution_count": null,
   "metadata": {},
   "outputs": [],
   "source": [
    "frame = [df_19,df_20]\n",
    "df_17_10 = pd.concat(frame)"
   ]
  },
  {
   "cell_type": "code",
   "execution_count": null,
   "metadata": {},
   "outputs": [],
   "source": [
    "df = tabula.read_pdf(filepath,pages = 21, multiple_tables = True)\n",
    "df_21 = pd.DataFrame(df[0])"
   ]
  },
  {
   "cell_type": "code",
   "execution_count": null,
   "metadata": {},
   "outputs": [],
   "source": [
    "df_21 = df_21[['Unnamed: 0','Unnamed: 1','Unnamed: 2']].dropna()"
   ]
  },
  {
   "cell_type": "code",
   "execution_count": null,
   "metadata": {},
   "outputs": [],
   "source": [
    "df_21 = Page(df_21)\n",
    "df_21.columns = ['Airports','Passengers(Nov)']"
   ]
  },
  {
   "cell_type": "code",
   "execution_count": null,
   "metadata": {},
   "outputs": [],
   "source": [
    "df = tabula.read_pdf(filepath,pages = 22, multiple_tables = True)\n",
    "df_22 = pd.DataFrame(df[0])"
   ]
  },
  {
   "cell_type": "code",
   "execution_count": null,
   "metadata": {},
   "outputs": [],
   "source": [
    "df_22 = Page1(df_22)"
   ]
  },
  {
   "cell_type": "code",
   "execution_count": null,
   "metadata": {},
   "outputs": [],
   "source": [
    "df_22 = df_22[[0,2]].dropna().drop([31,37,38,39])\n",
    "df_22['Sr.No'] = df_22[0].str.split(\" \", expand = True)[0]\n",
    "df_22['Airports'] = df_22[0].str.split(\" \", expand = True)[1]\n",
    "\n",
    "df_22 = df_22[['Sr.No','Airports',2]]\n",
    "df_22 = Page(df_22)\n",
    "df_22.columns = ['Airports','Passengers(Nov)']"
   ]
  },
  {
   "cell_type": "code",
   "execution_count": null,
   "metadata": {},
   "outputs": [],
   "source": [
    "frame = [df_21,df_22]\n",
    "df_17_11 = pd.concat(frame)"
   ]
  },
  {
   "cell_type": "code",
   "execution_count": null,
   "metadata": {},
   "outputs": [],
   "source": [
    "df = tabula.read_pdf(filepath,pages = 23, multiple_tables = True)\n",
    "df_23 = pd.DataFrame(df[0])"
   ]
  },
  {
   "cell_type": "code",
   "execution_count": null,
   "metadata": {},
   "outputs": [],
   "source": [
    "df_23.columns"
   ]
  },
  {
   "cell_type": "code",
   "execution_count": null,
   "metadata": {},
   "outputs": [],
   "source": [
    "df_23 = df_23[['Unnamed: 0', 'Unnamed: 1', 'Unnamed: 2']].dropna()\n",
    "df_23 = Page(df_23)"
   ]
  },
  {
   "cell_type": "code",
   "execution_count": null,
   "metadata": {},
   "outputs": [],
   "source": [
    "df_23.columns = ['Airports','Passengers(Dec)']"
   ]
  },
  {
   "cell_type": "code",
   "execution_count": null,
   "metadata": {},
   "outputs": [],
   "source": [
    "df = tabula.read_pdf(filepath,pages = 24, multiple_tables = True)\n",
    "df_24 = pd.DataFrame(df[0])"
   ]
  },
  {
   "cell_type": "code",
   "execution_count": null,
   "metadata": {},
   "outputs": [],
   "source": [
    "df_24 = Page1(df_24)"
   ]
  },
  {
   "cell_type": "code",
   "execution_count": null,
   "metadata": {},
   "outputs": [],
   "source": [
    "df_24 = df_24[[0,2]].dropna().drop([20,26,27,28])\n",
    "df_24['Sr.No'] = df_24[0].str.split(\" \", expand = True)[0]\n",
    "df_24['Airports'] = df_24[0].str.split(\" \", expand = True)[1]\n",
    "df_24 = df_24[['Sr.No','Airports',2]]\n",
    "df_24.columns = ['Sr.No','Airport','Passengers(Dec)']\n",
    "df_24 = df_24.set_index('Sr.No')"
   ]
  },
  {
   "cell_type": "code",
   "execution_count": null,
   "metadata": {},
   "outputs": [],
   "source": [
    "frame = [df_23,df_24]\n",
    "df_17_12 = pd.concat(frame)"
   ]
  },
  {
   "cell_type": "code",
   "execution_count": null,
   "metadata": {},
   "outputs": [],
   "source": [
    "df_17_10.shape"
   ]
  },
  {
   "cell_type": "code",
   "execution_count": null,
   "metadata": {},
   "outputs": [],
   "source": [
    "Airports = df_17_1['Airports']\n",
    "frame = [df_17_2,df_17_3,df_17_4,df_17_5,df_17_6,df_17_7,df_17_8,df_17_9,df_17_10,df_17_11,df_17_12]\n",
    "\n",
    "for a in frame:\n",
    "    b = a['Airports']\n",
    "    print(b)\n",
    "    Airports = Airports.append(b)"
   ]
  },
  {
   "cell_type": "code",
   "execution_count": null,
   "metadata": {},
   "outputs": [],
   "source": [
    "Final = set(Airports)\n",
    "\n",
    "Final_df = pd.DataFrame(Final)\n",
    "Final_df.columns = ['Airports']"
   ]
  },
  {
   "cell_type": "code",
   "execution_count": null,
   "metadata": {},
   "outputs": [],
   "source": [
    "Total_17 = pd.merge(left=Final_df, right=df_17_1, how='left', left_on='Airports', right_on='Airports')\n",
    "Total_17 = Total_17.fillna(0)\n",
    "\n",
    "frame = [df_17_2,df_17_3,df_17_4,df_17_5,df_17_6,df_17_7,df_17_8,df_17_9,df_17_10,df_17_11,df_17_12]\n",
    "\n",
    "for a in frame:\n",
    "    Total_17 = pd.merge(left=Total_17, right=a, how='left', left_on='Airports', right_on='Airports')\n",
    "    Total_17 = Total_17.fillna(0)\n",
    "\n",
    "\n",
    "Total_17 = Total_17.set_index('Airports')\n",
    "\n",
    "Total_17 = Total_17.astype(float)\n",
    "\n",
    "Total_17"
   ]
  },
  {
   "cell_type": "code",
   "execution_count": null,
   "metadata": {},
   "outputs": [],
   "source": [
    "Total_17 = Total_17[1:]"
   ]
  },
  {
   "cell_type": "code",
   "execution_count": null,
   "metadata": {},
   "outputs": [],
   "source": [
    "Total_17 = Total_17.drop(columns = ['Passengers','Airport'])"
   ]
  },
  {
   "cell_type": "code",
   "execution_count": null,
   "metadata": {},
   "outputs": [],
   "source": [
    "Total_17.info()"
   ]
  },
  {
   "cell_type": "markdown",
   "metadata": {},
   "source": [
    "======================\n",
    "\n",
    "======================\n",
    "\n",
    "\n",
    "\n",
    "\n",
    "======================\n",
    "\n",
    "======================"
   ]
  },
  {
   "cell_type": "code",
   "execution_count": null,
   "metadata": {},
   "outputs": [],
   "source": [
    "import tabula\n",
    "import pandas as pd\n",
    "import numpy as np\n",
    "\n",
    "filepath = \"../Learning/data/Dissertation/Airways/Total_2016.pdf\""
   ]
  },
  {
   "cell_type": "code",
   "execution_count": null,
   "metadata": {},
   "outputs": [],
   "source": [
    "df = tabula.read_pdf(filepath,pages = 1, multiple_tables = True)\n",
    "df_1 = pd.DataFrame(df[0])"
   ]
  },
  {
   "cell_type": "code",
   "execution_count": null,
   "metadata": {},
   "outputs": [],
   "source": [
    "df_1.columns"
   ]
  },
  {
   "cell_type": "code",
   "execution_count": null,
   "metadata": {},
   "outputs": [],
   "source": [
    "sample = df_1[['SL. NO.', 'AIRPORT', 'PASSENGERS (IN NOS.)']].dropna().drop([21,29,39])\n",
    "sample = Page(sample)\n"
   ]
  },
  {
   "cell_type": "code",
   "execution_count": null,
   "metadata": {},
   "outputs": [],
   "source": [
    "sample.iloc[1,0] = 'KOLKATA'\n",
    "sample.columns = ['Airports','Passengers(Jan)']"
   ]
  },
  {
   "cell_type": "code",
   "execution_count": null,
   "metadata": {},
   "outputs": [],
   "source": [
    "df = tabula.read_pdf(filepath,pages = 2, multiple_tables = True)\n",
    "df_2 = pd.DataFrame(df[0])"
   ]
  },
  {
   "cell_type": "code",
   "execution_count": null,
   "metadata": {},
   "outputs": [],
   "source": [
    "df_2 = Page1(df_2)"
   ]
  },
  {
   "cell_type": "code",
   "execution_count": null,
   "metadata": {},
   "outputs": [],
   "source": [
    "df_2 = df_2[[0,1,2]].dropna().drop([32,33,34])\n",
    "df_2 = Page(df_2)\n",
    "df_2.columns = ['Airports','Passengers(Jan)']\n"
   ]
  },
  {
   "cell_type": "code",
   "execution_count": null,
   "metadata": {},
   "outputs": [],
   "source": [
    "frame = [sample,df_2]\n",
    "df_16_1 = pd.concat(frame)"
   ]
  },
  {
   "cell_type": "code",
   "execution_count": null,
   "metadata": {},
   "outputs": [],
   "source": [
    "df = tabula.read_pdf(filepath,pages = 3, multiple_tables = True)\n",
    "df_3 = pd.DataFrame(df[0])"
   ]
  },
  {
   "cell_type": "code",
   "execution_count": null,
   "metadata": {},
   "outputs": [],
   "source": [
    "df_3.columns"
   ]
  },
  {
   "cell_type": "code",
   "execution_count": null,
   "metadata": {},
   "outputs": [],
   "source": [
    "sample = df_3[['SL. NO.', 'AIRPORT', 'PASSENGERS (IN NOS.)']].dropna().drop([21,29,39])\n",
    "sample = Page(sample)\n",
    "sample.columns = ['Airports','Passengers(Feb)']"
   ]
  },
  {
   "cell_type": "code",
   "execution_count": null,
   "metadata": {},
   "outputs": [],
   "source": [
    "df = tabula.read_pdf(filepath,pages = 4, multiple_tables = True)\n",
    "df_4 = pd.DataFrame(df[0])"
   ]
  },
  {
   "cell_type": "code",
   "execution_count": null,
   "metadata": {},
   "outputs": [],
   "source": [
    "df_4 = Page1(df_4)"
   ]
  },
  {
   "cell_type": "code",
   "execution_count": null,
   "metadata": {},
   "outputs": [],
   "source": [
    "df_4 = df_4[[0,1,2]].dropna().drop([28,29,30])\n",
    "df_4 = Page(df_4)\n",
    "df_4.columns = ['Airports','Passengers(Feb)']"
   ]
  },
  {
   "cell_type": "code",
   "execution_count": null,
   "metadata": {},
   "outputs": [],
   "source": [
    "frame = [sample,df_4]\n",
    "df_16_2 = pd.concat(frame)"
   ]
  },
  {
   "cell_type": "code",
   "execution_count": null,
   "metadata": {},
   "outputs": [],
   "source": [
    "df = tabula.read_pdf(filepath,pages = 5, multiple_tables = True)\n",
    "df_5 = pd.DataFrame(df[0])"
   ]
  },
  {
   "cell_type": "code",
   "execution_count": null,
   "metadata": {},
   "outputs": [],
   "source": [
    "df_5.columns\n"
   ]
  },
  {
   "cell_type": "code",
   "execution_count": null,
   "metadata": {},
   "outputs": [],
   "source": [
    "sample = df_5[['SL. NO.', 'AIRPORT', 'PASSENGERS (IN NOS.)']].dropna().drop([21,29,39])\n",
    "sample = Page(sample)\n",
    "sample.columns = ['Airports','Passengers(Mar)']"
   ]
  },
  {
   "cell_type": "code",
   "execution_count": null,
   "metadata": {},
   "outputs": [],
   "source": [
    "df = tabula.read_pdf(filepath,pages = 6, multiple_tables = True)\n",
    "df_6 = pd.DataFrame(df[0])"
   ]
  },
  {
   "cell_type": "code",
   "execution_count": null,
   "metadata": {},
   "outputs": [],
   "source": [
    "df_6 = Page1(df_6)"
   ]
  },
  {
   "cell_type": "code",
   "execution_count": null,
   "metadata": {},
   "outputs": [],
   "source": [
    "df_6 = df_6[[0,1,2]].dropna().drop([28,29,30])\n",
    "df_6 = Page(df_6)\n",
    "df_6.columns = ['Airports','Passengers(Mar)']"
   ]
  },
  {
   "cell_type": "code",
   "execution_count": null,
   "metadata": {},
   "outputs": [],
   "source": [
    "frame = [sample,df_6]\n",
    "df_16_3 = pd.concat(frame)"
   ]
  },
  {
   "cell_type": "code",
   "execution_count": null,
   "metadata": {},
   "outputs": [],
   "source": [
    "df = tabula.read_pdf(filepath,pages = 7, multiple_tables = True)\n",
    "df_7 = pd.DataFrame(df[1])"
   ]
  },
  {
   "cell_type": "code",
   "execution_count": null,
   "metadata": {},
   "outputs": [],
   "source": [
    "df_7_1 = Page1(df_7)\n",
    "df_7_2 = Page1(pd.DataFrame(df[2]))\n",
    "df_7_3 = Page1(pd.DataFrame(df[3]))\n",
    "df_7_4 = Page1(pd.DataFrame(df[4]))"
   ]
  },
  {
   "cell_type": "code",
   "execution_count": null,
   "metadata": {},
   "outputs": [],
   "source": [
    "frame = [df_7_1,df_7_2,df_7_3,df_7_4]\n",
    "sample = pd.concat(frame)"
   ]
  },
  {
   "cell_type": "code",
   "execution_count": null,
   "metadata": {},
   "outputs": [],
   "source": [
    "sample = sample[[0,1,2]].reset_index(drop = True).dropna().drop([18,25,34])\n",
    "sample = Page(sample)\n",
    "sample.columns = ['Airports','Passengers(Apr)']"
   ]
  },
  {
   "cell_type": "code",
   "execution_count": null,
   "metadata": {},
   "outputs": [],
   "source": [
    "df = tabula.read_pdf(filepath,pages = 8, multiple_tables = True)\n",
    "df_8 = pd.DataFrame(df[0])"
   ]
  },
  {
   "cell_type": "code",
   "execution_count": null,
   "metadata": {},
   "outputs": [],
   "source": [
    "df_8 = Page1(df_8)"
   ]
  },
  {
   "cell_type": "code",
   "execution_count": null,
   "metadata": {},
   "outputs": [],
   "source": [
    "df_8_1 = Page1(pd.DataFrame(df[1]))"
   ]
  },
  {
   "cell_type": "code",
   "execution_count": null,
   "metadata": {},
   "outputs": [],
   "source": [
    "df_8_1 = df_8_1.dropna()[[0,1,2]]"
   ]
  },
  {
   "cell_type": "code",
   "execution_count": null,
   "metadata": {},
   "outputs": [],
   "source": [
    "frame = [df_8,df_8_1]\n",
    "df_8 = pd.concat(frame)"
   ]
  },
  {
   "cell_type": "code",
   "execution_count": null,
   "metadata": {},
   "outputs": [],
   "source": [
    "df_8 = df_8[[0,1,2]].drop(24)\n",
    "df_8 = Page(df_8)\n",
    "df_8.columns = ['Airports','Passengers(Apr)']"
   ]
  },
  {
   "cell_type": "code",
   "execution_count": null,
   "metadata": {},
   "outputs": [],
   "source": [
    "frame = [sample,df_8]\n",
    "df_16_4 = pd.concat(frame)"
   ]
  },
  {
   "cell_type": "code",
   "execution_count": null,
   "metadata": {},
   "outputs": [],
   "source": [
    "df = tabula.read_pdf(filepath,pages = 9, multiple_tables = True)\n",
    "df_9 = pd.DataFrame(df[0])\n"
   ]
  },
  {
   "cell_type": "code",
   "execution_count": null,
   "metadata": {},
   "outputs": [],
   "source": [
    "df_9.columns"
   ]
  },
  {
   "cell_type": "code",
   "execution_count": null,
   "metadata": {},
   "outputs": [],
   "source": [
    "sample = df_9[['Unnamed: 0', 'Unnamed: 1', 'PASSENGERS (IN NOS.)']].dropna()\n",
    "sample['Pass'] = sample['PASSENGERS (IN NOS.)'].str.split(\" \", expand = True)[0]"
   ]
  },
  {
   "cell_type": "code",
   "execution_count": null,
   "metadata": {},
   "outputs": [],
   "source": [
    "sample = sample[['Unnamed: 0', 'Unnamed: 1', 'Pass']]\n",
    "sample = Page(sample)\n",
    "sample.columns = ['Airports','Passengers(May)']"
   ]
  },
  {
   "cell_type": "code",
   "execution_count": null,
   "metadata": {},
   "outputs": [],
   "source": [
    "df = tabula.read_pdf(filepath,pages = 10, multiple_tables = True)\n",
    "df_10 = pd.DataFrame(df[0])"
   ]
  },
  {
   "cell_type": "code",
   "execution_count": null,
   "metadata": {},
   "outputs": [],
   "source": [
    "df_10 = Page1(df_10)"
   ]
  },
  {
   "cell_type": "code",
   "execution_count": null,
   "metadata": {},
   "outputs": [],
   "source": [
    "df_10 = df_10[[0,2]].dropna().drop([24,31,32,33])\n",
    "df_10['Sr.No'] = df_10[0].str.split(\" \", expand = True)[0]\n",
    "df_10['Airports'] = df_10[0].str.split(\" \", expand = True)[1]\n",
    "df_10 = df_10[['Sr.No','Airports',2]]\n",
    "df_10 = Page(df_10)\n",
    "df_10.columns = ['Airports','Passengers(May)']"
   ]
  },
  {
   "cell_type": "code",
   "execution_count": null,
   "metadata": {},
   "outputs": [],
   "source": [
    "frame = [sample,df_10]\n",
    "df_16_5 = pd.concat(frame)"
   ]
  },
  {
   "cell_type": "code",
   "execution_count": null,
   "metadata": {},
   "outputs": [],
   "source": [
    "df = tabula.read_pdf(filepath,pages = 11, multiple_tables = True)\n",
    "df_11 = pd.DataFrame(df[0])"
   ]
  },
  {
   "cell_type": "code",
   "execution_count": null,
   "metadata": {},
   "outputs": [],
   "source": [
    "df_11.columns"
   ]
  },
  {
   "cell_type": "code",
   "execution_count": null,
   "metadata": {},
   "outputs": [],
   "source": [
    "sample = df_11[['SL. NO.', 'AIRPORT', 'PASSENGERS (IN NOS.)']].dropna().drop([21,29,39])\n",
    "sample = Page(sample)\n",
    "sample.columns = ['Airports','Passengers(Jun)']"
   ]
  },
  {
   "cell_type": "code",
   "execution_count": null,
   "metadata": {},
   "outputs": [],
   "source": [
    "df = tabula.read_pdf(filepath,pages = 12, multiple_tables = True)\n",
    "df_12 = pd.DataFrame(df[0])"
   ]
  },
  {
   "cell_type": "code",
   "execution_count": null,
   "metadata": {},
   "outputs": [],
   "source": [
    "df_12 = Page1(df_12)"
   ]
  },
  {
   "cell_type": "code",
   "execution_count": null,
   "metadata": {},
   "outputs": [],
   "source": [
    "df_12 = df_12[[0,1,2]].dropna().drop([25,32,33,34])\n",
    "df_12 = Page(df_12)\n",
    "df_12.columns = ['Airports','Passengers(Jun)']"
   ]
  },
  {
   "cell_type": "code",
   "execution_count": null,
   "metadata": {},
   "outputs": [],
   "source": [
    "frame = [sample,df_12]\n",
    "df_16_6 = pd.concat(frame)"
   ]
  },
  {
   "cell_type": "code",
   "execution_count": null,
   "metadata": {},
   "outputs": [],
   "source": [
    "df = tabula.read_pdf(filepath,pages = 13, multiple_tables = True)\n",
    "df_13 = pd.DataFrame(df[0])"
   ]
  },
  {
   "cell_type": "code",
   "execution_count": null,
   "metadata": {},
   "outputs": [],
   "source": [
    "df_13.columns"
   ]
  },
  {
   "cell_type": "code",
   "execution_count": null,
   "metadata": {},
   "outputs": [],
   "source": [
    "sample = df_13[['SL. NO.', 'AIRPORT', 'PASSENGERS (IN NOS.)']].dropna().drop([21,29,39])\n",
    "sample = Page(sample)\n",
    "sample.columns = ['Airports','Passengers(Jul)']"
   ]
  },
  {
   "cell_type": "code",
   "execution_count": null,
   "metadata": {},
   "outputs": [],
   "source": [
    "df = tabula.read_pdf(filepath,pages = 14, multiple_tables = True)\n",
    "df_14 = pd.DataFrame(df[0])"
   ]
  },
  {
   "cell_type": "code",
   "execution_count": null,
   "metadata": {},
   "outputs": [],
   "source": [
    "df_14 = Page1(df_14)"
   ]
  },
  {
   "cell_type": "code",
   "execution_count": null,
   "metadata": {},
   "outputs": [],
   "source": [
    "df_14 = df_14[[0,1,2,]].dropna().drop([24,31,32,33])\n",
    "df_14 = Page(df_14)\n",
    "df_14.columns = ['Airports','Passengers(Jul)']"
   ]
  },
  {
   "cell_type": "code",
   "execution_count": null,
   "metadata": {},
   "outputs": [],
   "source": [
    "frame = [sample,df_14]\n",
    "df_16_7 = pd.concat(frame)"
   ]
  },
  {
   "cell_type": "code",
   "execution_count": null,
   "metadata": {},
   "outputs": [],
   "source": [
    "df = tabula.read_pdf(filepath,pages = 15, multiple_tables = True)\n",
    "df_15 = pd.DataFrame(df[0])"
   ]
  },
  {
   "cell_type": "code",
   "execution_count": null,
   "metadata": {},
   "outputs": [],
   "source": [
    "df_15.columns"
   ]
  },
  {
   "cell_type": "code",
   "execution_count": null,
   "metadata": {},
   "outputs": [],
   "source": [
    "sample = df_15[[ 'SL. NO.', 'AIRPORT', 'PASSENGERS (IN NOS.)']].dropna().drop([21,29,39])\n",
    "sample = Page(sample)\n",
    "sample.columns = ['Airports','Passengers(Aug)']"
   ]
  },
  {
   "cell_type": "code",
   "execution_count": null,
   "metadata": {},
   "outputs": [],
   "source": [
    "df = tabula.read_pdf(filepath,pages = 16, multiple_tables = True)\n",
    "df_16 = pd.DataFrame(df[0])"
   ]
  },
  {
   "cell_type": "code",
   "execution_count": null,
   "metadata": {},
   "outputs": [],
   "source": [
    "df_16 = Page1(df_16)"
   ]
  },
  {
   "cell_type": "code",
   "execution_count": null,
   "metadata": {},
   "outputs": [],
   "source": [
    "df_16 = df_16[[0,1,2]].dropna().drop([24,31,32,33])\n",
    "df_16 = Page(df_16)\n",
    "df_16.columns = ['Airports','Passengers(Aug)']"
   ]
  },
  {
   "cell_type": "code",
   "execution_count": null,
   "metadata": {},
   "outputs": [],
   "source": [
    "frame = [sample,df_16]\n",
    "df_16_8 = pd.concat(frame)\n"
   ]
  },
  {
   "cell_type": "code",
   "execution_count": null,
   "metadata": {},
   "outputs": [],
   "source": [
    "df = tabula.read_pdf(filepath,pages = 17, multiple_tables = True)\n",
    "df_17 = pd.DataFrame(df[0])"
   ]
  },
  {
   "cell_type": "code",
   "execution_count": null,
   "metadata": {},
   "outputs": [],
   "source": [
    "df_17.columns"
   ]
  },
  {
   "cell_type": "code",
   "execution_count": null,
   "metadata": {},
   "outputs": [],
   "source": [
    "sample = df_17[['SL. NO.', 'AIRPORT', 'PASSENGERS (IN NOS.)']].dropna().drop([21,29,39])\n",
    "sample = Page(sample)\n",
    "sample.columns = ['Airports','Passengers(Sep)']"
   ]
  },
  {
   "cell_type": "code",
   "execution_count": null,
   "metadata": {},
   "outputs": [],
   "source": [
    "df = tabula.read_pdf(filepath,pages = 18, multiple_tables = True)\n",
    "df_18 = pd.DataFrame(df[0])"
   ]
  },
  {
   "cell_type": "code",
   "execution_count": null,
   "metadata": {},
   "outputs": [],
   "source": [
    "df_18 = Page1(df_18)"
   ]
  },
  {
   "cell_type": "code",
   "execution_count": null,
   "metadata": {},
   "outputs": [],
   "source": [
    "df_18 = df_18[[0,1,2]].dropna().drop([24,31,32,33])\n",
    "df_18 = Page(df_18)\n",
    "df_18.columns = ['Airports','Passengers(Sep)']"
   ]
  },
  {
   "cell_type": "code",
   "execution_count": null,
   "metadata": {},
   "outputs": [],
   "source": [
    "frame = [sample,df_18]\n",
    "df_16_9 = pd.concat(frame)"
   ]
  },
  {
   "cell_type": "code",
   "execution_count": null,
   "metadata": {},
   "outputs": [],
   "source": [
    "df = tabula.read_pdf(filepath,pages = 19, multiple_tables = True)\n",
    "df_19 = pd.DataFrame(df[0])"
   ]
  },
  {
   "cell_type": "code",
   "execution_count": null,
   "metadata": {},
   "outputs": [],
   "source": [
    "df_19.columns"
   ]
  },
  {
   "cell_type": "code",
   "execution_count": null,
   "metadata": {},
   "outputs": [],
   "source": [
    "sample = df_19[['SL. NO.', 'AIRPORT', 'PASSENGERS (IN NOS.)']].dropna().drop([21,29,39])\n",
    "sample = Page(sample)\n",
    "sample.columns = ['Airports','Passengers(Oct)']"
   ]
  },
  {
   "cell_type": "code",
   "execution_count": null,
   "metadata": {},
   "outputs": [],
   "source": [
    "df = tabula.read_pdf(filepath,pages = 20, multiple_tables = True)\n",
    "df_20 = pd.DataFrame(df[0])"
   ]
  },
  {
   "cell_type": "code",
   "execution_count": null,
   "metadata": {},
   "outputs": [],
   "source": [
    "df_20 = Page1(df_20)"
   ]
  },
  {
   "cell_type": "code",
   "execution_count": null,
   "metadata": {},
   "outputs": [],
   "source": [
    "df_20 = df_20[[0,1,2]].dropna().drop([24,31,32,33])\n",
    "df_20 = Page(df_20)\n",
    "df_20.columns = ['Airports','Passengers(Oct)']"
   ]
  },
  {
   "cell_type": "code",
   "execution_count": null,
   "metadata": {},
   "outputs": [],
   "source": [
    "frame = [sample,df_20]\n",
    "df_16_10 = pd.concat(frame)"
   ]
  },
  {
   "cell_type": "code",
   "execution_count": null,
   "metadata": {},
   "outputs": [],
   "source": [
    "df = tabula.read_pdf(filepath,pages = 21, multiple_tables = True)\n",
    "df_21 = pd.DataFrame(df[0])"
   ]
  },
  {
   "cell_type": "code",
   "execution_count": null,
   "metadata": {},
   "outputs": [],
   "source": [
    "df_21.columns"
   ]
  },
  {
   "cell_type": "code",
   "execution_count": null,
   "metadata": {},
   "outputs": [],
   "source": [
    "sample = df_21[['SL. NO.', 'AIRPORT', 'PASSENGERS (IN NOS.)']].dropna().drop([21,29,39])\n",
    "sample = Page(sample)\n",
    "sample.columns = ['Airports','Passengers(Nov)']"
   ]
  },
  {
   "cell_type": "code",
   "execution_count": null,
   "metadata": {},
   "outputs": [],
   "source": [
    "df = tabula.read_pdf(filepath,pages = 22, multiple_tables = True)\n",
    "df_22 = pd.DataFrame(df[0])"
   ]
  },
  {
   "cell_type": "code",
   "execution_count": null,
   "metadata": {},
   "outputs": [],
   "source": [
    "df_22 = Page1(df_22)"
   ]
  },
  {
   "cell_type": "code",
   "execution_count": null,
   "metadata": {},
   "outputs": [],
   "source": [
    "df_22 = df_22[[0,1,2]].dropna().drop([24,31,32,33])\n",
    "df_22 = Page(df_22)\n",
    "df_22.columns = ['Airports','Passengers(Nov)']"
   ]
  },
  {
   "cell_type": "code",
   "execution_count": null,
   "metadata": {},
   "outputs": [],
   "source": [
    "frame = [sample,df_22]\n",
    "df_16_11 = pd.concat(frame)"
   ]
  },
  {
   "cell_type": "code",
   "execution_count": null,
   "metadata": {},
   "outputs": [],
   "source": [
    "df = tabula.read_pdf(filepath,pages = 23, multiple_tables = True)\n",
    "df_23 = pd.DataFrame(df[0])"
   ]
  },
  {
   "cell_type": "code",
   "execution_count": null,
   "metadata": {},
   "outputs": [],
   "source": [
    "sample = df_23[['SL. NO.', 'AIRPORT', 'PASSENGERS (IN NOS.)']].dropna().drop([21,29,39])\n",
    "sample = Page(sample)\n",
    "sample.columns = ['Airports','Passengers(Dec)']"
   ]
  },
  {
   "cell_type": "code",
   "execution_count": null,
   "metadata": {},
   "outputs": [],
   "source": [
    "df = tabula.read_pdf(filepath,pages = 24, multiple_tables = True)\n",
    "df_24 = pd.DataFrame(df[0])"
   ]
  },
  {
   "cell_type": "code",
   "execution_count": null,
   "metadata": {},
   "outputs": [],
   "source": [
    "df_24 = Page1(df_24)\n",
    "df_24 = df_24[[0,1,2]].dropna().drop([24,31,32,33])\n",
    "df_24 = Page(df_24)\n",
    "df_24.columns = ['Airports','Passengers(Dec)']"
   ]
  },
  {
   "cell_type": "code",
   "execution_count": null,
   "metadata": {},
   "outputs": [],
   "source": [
    "frame = [sample,df_24]\n",
    "df_16_12 = pd.concat(frame)"
   ]
  },
  {
   "cell_type": "code",
   "execution_count": null,
   "metadata": {},
   "outputs": [],
   "source": [
    "Airports = df_16_1['Airports']\n",
    "frame = [df_16_2,df_16_3,df_16_4,df_16_5,df_16_6,df_16_7,df_16_8,df_16_9,df_16_10,df_16_11,df_16_12]\n",
    "\n",
    "for a in frame:\n",
    "    b = a['Airports']\n",
    "    print(b)\n",
    "    Airports = Airports.append(b)"
   ]
  },
  {
   "cell_type": "code",
   "execution_count": null,
   "metadata": {},
   "outputs": [],
   "source": [
    "Final = set(Airports)\n",
    "\n",
    "Final_df = pd.DataFrame(Final)\n",
    "Final_df.columns = ['Airports']"
   ]
  },
  {
   "cell_type": "code",
   "execution_count": null,
   "metadata": {},
   "outputs": [],
   "source": [
    "Total_16 = pd.merge(left=Final_df, right=df_16_1, how='left', left_on='Airports', right_on='Airports')\n",
    "Total_16 = Total_16.fillna(0)\n",
    "\n",
    "frame = [df_16_2,df_16_3,df_16_4,df_16_5,df_16_6,df_16_7,df_16_8,df_16_9,df_16_10,df_16_11,df_16_12]\n",
    "\n",
    "for a in frame:\n",
    "    Total_16 = pd.merge(left=Total_16, right=a, how='left', left_on='Airports', right_on='Airports')\n",
    "    Total_16 = Total_16.fillna(0)\n",
    "\n",
    "\n",
    "Total_16 = Total_16.set_index('Airports')\n",
    "\n",
    "Total_16 = Total_16.astype(float)\n",
    "\n",
    "Total_16"
   ]
  },
  {
   "cell_type": "code",
   "execution_count": null,
   "metadata": {},
   "outputs": [],
   "source": [
    "Total_17['Year'] = 2017\n",
    "Total_16['Year'] = 2016"
   ]
  },
  {
   "cell_type": "code",
   "execution_count": null,
   "metadata": {},
   "outputs": [],
   "source": [
    "%store Total_17\n",
    "%store Total_16"
   ]
  },
  {
   "cell_type": "code",
   "execution_count": null,
   "metadata": {},
   "outputs": [],
   "source": []
  }
 ],
 "metadata": {
  "kernelspec": {
   "display_name": "Python 3",
   "language": "python",
   "name": "python3"
  },
  "language_info": {
   "codemirror_mode": {
    "name": "ipython",
    "version": 3
   },
   "file_extension": ".py",
   "mimetype": "text/x-python",
   "name": "python",
   "nbconvert_exporter": "python",
   "pygments_lexer": "ipython3",
   "version": "3.7.6"
  }
 },
 "nbformat": 4,
 "nbformat_minor": 4
}
