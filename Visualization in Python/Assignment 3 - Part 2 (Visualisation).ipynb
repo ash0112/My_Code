{
 "cells": [
  {
   "cell_type": "code",
   "execution_count": null,
   "metadata": {},
   "outputs": [],
   "source": [
    "import pandas as pd"
   ]
  },
  {
   "cell_type": "code",
   "execution_count": null,
   "metadata": {},
   "outputs": [],
   "source": [
    "import altair as alt"
   ]
  },
  {
   "cell_type": "code",
   "execution_count": null,
   "metadata": {},
   "outputs": [],
   "source": [
    "%matplotlib inline"
   ]
  },
  {
   "cell_type": "code",
   "execution_count": null,
   "metadata": {},
   "outputs": [],
   "source": [
    "from vega_datasets import data"
   ]
  },
  {
   "cell_type": "markdown",
   "metadata": {},
   "source": [
    "### We are importing the tidy dataset which was created from the first notebook ('esb_att.csv' file)"
   ]
  },
  {
   "cell_type": "code",
   "execution_count": null,
   "metadata": {},
   "outputs": [],
   "source": [
    "df = pd.read_csv(\"../Learning/Data/esb_att.csv\")"
   ]
  },
  {
   "cell_type": "code",
   "execution_count": null,
   "metadata": {},
   "outputs": [],
   "source": [
    "df"
   ]
  },
  {
   "cell_type": "code",
   "execution_count": null,
   "metadata": {},
   "outputs": [],
   "source": [
    "df.head()"
   ]
  },
  {
   "cell_type": "code",
   "execution_count": null,
   "metadata": {},
   "outputs": [],
   "source": [
    "df.tail()"
   ]
  },
  {
   "cell_type": "markdown",
   "metadata": {},
   "source": [
    "### We are printing all the unique County Councils from the dataframe"
   ]
  },
  {
   "cell_type": "code",
   "execution_count": null,
   "metadata": {},
   "outputs": [],
   "source": [
    "print(sorted(df['County Councils'].unique()))"
   ]
  },
  {
   "cell_type": "markdown",
   "metadata": {},
   "source": [
    "### We are exporting the new tidy dataframe created above into a new .csv file named 'ess_att.csv' in the below specified path"
   ]
  },
  {
   "cell_type": "code",
   "execution_count": null,
   "metadata": {},
   "outputs": [],
   "source": [
    "df1 = pd.melt(df,[\"County Councils\"], var_name = 'Date' , value_name = 'count')"
   ]
  },
  {
   "cell_type": "code",
   "execution_count": null,
   "metadata": {},
   "outputs": [],
   "source": [
    "df1.head()"
   ]
  },
  {
   "cell_type": "code",
   "execution_count": null,
   "metadata": {},
   "outputs": [],
   "source": [
    "df1.info()"
   ]
  },
  {
   "cell_type": "markdown",
   "metadata": {},
   "source": [
    "### We are converting the format of the 'Date' in the above dataframe to datetime format using 'to_datetime' from pandas"
   ]
  },
  {
   "cell_type": "code",
   "execution_count": null,
   "metadata": {},
   "outputs": [],
   "source": [
    "df1[\"Date\"] = pd.to_datetime(df1[\"Date\"])"
   ]
  },
  {
   "cell_type": "code",
   "execution_count": null,
   "metadata": {},
   "outputs": [],
   "source": [
    "df1.info()"
   ]
  },
  {
   "cell_type": "code",
   "execution_count": null,
   "metadata": {},
   "outputs": [],
   "source": [
    "df1.head()"
   ]
  },
  {
   "cell_type": "code",
   "execution_count": null,
   "metadata": {},
   "outputs": [],
   "source": [
    "df1.tail()"
   ]
  },
  {
   "cell_type": "markdown",
   "metadata": {},
   "source": [
    "### Plot-1 : We are comparing the ESB connections for Carlow and Dublin county from 2006 to 2013"
   ]
  },
  {
   "cell_type": "code",
   "execution_count": null,
   "metadata": {},
   "outputs": [],
   "source": [
    "county1 = ['Carlow','Dublin']"
   ]
  },
  {
   "cell_type": "markdown",
   "metadata": {},
   "source": [
    "### We are preparing a new dataframe for the above two countys"
   ]
  },
  {
   "cell_type": "code",
   "execution_count": null,
   "metadata": {},
   "outputs": [],
   "source": [
    "df_new = pd.concat(df1[df1['County Councils'] == councils] for councils in county1)"
   ]
  },
  {
   "cell_type": "code",
   "execution_count": null,
   "metadata": {},
   "outputs": [],
   "source": [
    "df_new.head()"
   ]
  },
  {
   "cell_type": "markdown",
   "metadata": {},
   "source": [
    "### We are disabling the maxmium limit for the Altair plot"
   ]
  },
  {
   "cell_type": "code",
   "execution_count": null,
   "metadata": {},
   "outputs": [],
   "source": [
    "alt.data_transformers.disable_max_rows()"
   ]
  },
  {
   "cell_type": "markdown",
   "metadata": {},
   "source": [
    "### We are plotting a Line Graph with all the 'Years' on the X-axis and 'Connection count' on the Y-axis"
   ]
  },
  {
   "cell_type": "code",
   "execution_count": null,
   "metadata": {},
   "outputs": [],
   "source": [
    "alt.Chart(df_new).mark_line().encode(\n",
    "    x=alt.X(\n",
    "        \"Date\", \n",
    "        title=\"Year\",\n",
    "    ),\n",
    "    y=alt.Y(\n",
    "        \"count\",\n",
    "        title=\"ESB Connections\",\n",
    "    ),\n",
    "    color=\"County Councils\"\n",
    ")"
   ]
  },
  {
   "cell_type": "markdown",
   "metadata": {},
   "source": [
    "### We are getting the mean and other general information for the above new dataframe using the 'describe' command"
   ]
  },
  {
   "cell_type": "code",
   "execution_count": null,
   "metadata": {},
   "outputs": [],
   "source": [
    "df_new.describe()"
   ]
  },
  {
   "cell_type": "code",
   "execution_count": null,
   "metadata": {},
   "outputs": [],
   "source": [
    "county = df1[\"County Councils\"].unique()\n",
    "print(county)"
   ]
  },
  {
   "cell_type": "code",
   "execution_count": null,
   "metadata": {},
   "outputs": [],
   "source": [
    "df1[df1[\"County Councils\"] == \"Cork\"].describe()"
   ]
  },
  {
   "cell_type": "markdown",
   "metadata": {},
   "source": [
    "### The below command gives the general information for 'Carlow' and 'Dublin' countys"
   ]
  },
  {
   "cell_type": "code",
   "execution_count": null,
   "metadata": {},
   "outputs": [],
   "source": [
    "pd.concat((df1[df1[\"County Councils\"] == councils].describe().rename({\"count\": councils}, axis=\"columns\") \n",
    "           for councils in county1), axis=\"columns\")"
   ]
  },
  {
   "cell_type": "markdown",
   "metadata": {},
   "source": [
    "### Plot-2 : We are comparing the ESB connections for Cork and Dublin county from 2006 to 2013"
   ]
  },
  {
   "cell_type": "code",
   "execution_count": null,
   "metadata": {},
   "outputs": [],
   "source": [
    "county2=['Cork','Dublin']"
   ]
  },
  {
   "cell_type": "code",
   "execution_count": null,
   "metadata": {},
   "outputs": [],
   "source": [
    "df_new = pd.concat(df1[df1['County Councils'] == councils] for councils in county2)"
   ]
  },
  {
   "cell_type": "code",
   "execution_count": null,
   "metadata": {},
   "outputs": [],
   "source": [
    "alt.Chart(df_new).mark_line().encode(\n",
    "    x=alt.X(\n",
    "        \"Date\", \n",
    "        title=\"Year\",\n",
    "    ),\n",
    "    y=alt.Y(\n",
    "        \"count\",\n",
    "        title=\"ESB Connections\",\n",
    "    ),\n",
    "    color=\"County Councils\"\n",
    ")"
   ]
  },
  {
   "cell_type": "markdown",
   "metadata": {},
   "source": [
    "### From the above overall graph we could see that there is lot of variation during the year 2009 and 2010.\n",
    "\n",
    "\n",
    "\n",
    "================================================================================================================\n",
    "\n",
    "\n",
    "\n",
    "### Plot-3 : Here we are comparing the connections for Cork and Dublin county just for the year 2009 and 2010"
   ]
  },
  {
   "cell_type": "markdown",
   "metadata": {},
   "source": [
    "### We are filtering all the months for 2009 and 2010 years"
   ]
  },
  {
   "cell_type": "code",
   "execution_count": null,
   "metadata": {},
   "outputs": [],
   "source": [
    "date1= (df1['Date']>'2008-12-01') & (df1['Date']<'2011-01-01')"
   ]
  },
  {
   "cell_type": "markdown",
   "metadata": {},
   "source": [
    "### Using the date criteria we are preparing a new dataframe from the original ones for 2009 and 2010 years"
   ]
  },
  {
   "cell_type": "code",
   "execution_count": null,
   "metadata": {},
   "outputs": [],
   "source": [
    "plot3=df1.loc[date1]"
   ]
  },
  {
   "cell_type": "code",
   "execution_count": null,
   "metadata": {},
   "outputs": [],
   "source": [
    "df_new = pd.concat(plot3[plot3['County Councils'] == councils] for councils in county2)"
   ]
  },
  {
   "cell_type": "markdown",
   "metadata": {},
   "source": [
    "### Plot 3.1 - We are using the Bubble plot to plot the above information"
   ]
  },
  {
   "cell_type": "code",
   "execution_count": null,
   "metadata": {},
   "outputs": [],
   "source": [
    "alt.Chart(df_new).mark_circle().encode(\n",
    "    x=alt.X(\n",
    "        \"Date\", \n",
    "        title=\"Year\",\n",
    "    ),\n",
    "    y=alt.Y(\n",
    "        \"count\",\n",
    "        title=\"ESB Connections\"),\n",
    "    size='count',color='County Councils'\n",
    ")"
   ]
  },
  {
   "cell_type": "markdown",
   "metadata": {},
   "source": [
    "### As we not able to get the actual trend from the above graph, we are plotting the same information using the Line graph\n",
    "\n",
    "\n",
    "### Plot 3.2 - Line Graph for the above dataframe"
   ]
  },
  {
   "cell_type": "code",
   "execution_count": null,
   "metadata": {},
   "outputs": [],
   "source": [
    "alt.Chart(df_new).mark_line().encode(\n",
    "    x=alt.X(\n",
    "        \"Date\", \n",
    "        title=\"Year\",\n",
    "    ),\n",
    "    y=alt.Y(\n",
    "        \"count\",\n",
    "        title=\"ESB Connections\",\n",
    "    ),\n",
    "    color=\"County Councils\"\n",
    ")"
   ]
  },
  {
   "cell_type": "markdown",
   "metadata": {},
   "source": [
    "### As in the above graph, there are lot of variations for the year 2009. In order for further analysis, we are just considering the 2009 data for Cork and Dublin county"
   ]
  },
  {
   "cell_type": "code",
   "execution_count": null,
   "metadata": {},
   "outputs": [],
   "source": [
    "date1= (df1['Date']>'2008-12-01') & (df1['Date']<'2010-01-01')"
   ]
  },
  {
   "cell_type": "code",
   "execution_count": null,
   "metadata": {},
   "outputs": [],
   "source": [
    "plot4=df1.loc[date1]"
   ]
  },
  {
   "cell_type": "code",
   "execution_count": null,
   "metadata": {},
   "outputs": [],
   "source": [
    "df_new = pd.concat(plot4[plot4['County Councils'] == councils] for councils in county2)"
   ]
  },
  {
   "cell_type": "markdown",
   "metadata": {},
   "source": [
    "### Plot 3.3 - We are using the Histogram distribution which helps in getting the accurate information"
   ]
  },
  {
   "cell_type": "code",
   "execution_count": null,
   "metadata": {},
   "outputs": [],
   "source": [
    "alt.Chart(df_new).mark_bar().encode(\n",
    "    alt.X(\"Date\"),\n",
    "    y='count',\n",
    "    row='County Councils',size=alt.value(5)\n",
    ").properties(\n",
    "    width=600\n",
    ")"
   ]
  },
  {
   "cell_type": "markdown",
   "metadata": {},
   "source": [
    "### Ans - From the above graph we can say that the major variation happened in the months of March, May and September of 2009\n",
    "\n",
    "=================================================================================================================\n",
    "\n",
    "\n",
    "\n",
    "\n",
    "\n",
    "\n",
    "\n",
    "\n",
    "\n",
    "\n",
    "\n",
    "\n",
    "\n",
    "\n",
    "\n",
    "\n",
    "\n"
   ]
  },
  {
   "cell_type": "markdown",
   "metadata": {},
   "source": [
    "### We are considering the year 2006 for plotting the data for Cork and Dublin"
   ]
  },
  {
   "cell_type": "code",
   "execution_count": null,
   "metadata": {},
   "outputs": [],
   "source": [
    "date1= df1['Date']<'2007-01-01'"
   ]
  },
  {
   "cell_type": "code",
   "execution_count": null,
   "metadata": {},
   "outputs": [],
   "source": [
    "plot3=df1.loc[date1]"
   ]
  },
  {
   "cell_type": "code",
   "execution_count": null,
   "metadata": {},
   "outputs": [],
   "source": [
    "df_new = pd.concat(plot3[plot3['County Councils'] == councils] for councils in county2)"
   ]
  },
  {
   "cell_type": "markdown",
   "metadata": {},
   "source": [
    "### Plot 3.4 - Using the below graph to compare the Cork and Dublin ESB connections for the year 2006"
   ]
  },
  {
   "cell_type": "code",
   "execution_count": null,
   "metadata": {},
   "outputs": [],
   "source": [
    "alt.Chart(df_new).mark_line().encode(\n",
    "    x=alt.X(\n",
    "        \"Date\", \n",
    "        title=\"Months\",\n",
    "    ),\n",
    "    y=alt.Y(\n",
    "        \"count\",\n",
    "        title=\"ESB Connections\",\n",
    "    ),\n",
    "    color=\"County Councils\"\n",
    ")"
   ]
  },
  {
   "cell_type": "markdown",
   "metadata": {},
   "source": [
    "### Plot-4 : Here we are comparing the connections for Sligo, Kerry, Donegal and Kilkenny counties"
   ]
  },
  {
   "cell_type": "code",
   "execution_count": null,
   "metadata": {},
   "outputs": [],
   "source": [
    "county3=['Sligo','Kerry','Donegal','Kilkenny']"
   ]
  },
  {
   "cell_type": "code",
   "execution_count": null,
   "metadata": {},
   "outputs": [],
   "source": [
    "df_new = pd.concat(df1[df1['County Councils'] == councils] for councils in county3)"
   ]
  },
  {
   "cell_type": "markdown",
   "metadata": {},
   "source": [
    "### Plot 4.1 - Using the below graph for comparing the ESB connections for Sligo,Kerry,Donegal and Kilkenny counties"
   ]
  },
  {
   "cell_type": "code",
   "execution_count": null,
   "metadata": {},
   "outputs": [],
   "source": [
    "alt.Chart(df_new).mark_line().encode(\n",
    "    x=alt.X(\n",
    "        \"Date\", \n",
    "        title=\"Year\",\n",
    "    ),\n",
    "    y=alt.Y(\n",
    "        \"count\",\n",
    "        title=\"ESB Connections\",\n",
    "    ),\n",
    "    color=\"County Councils\"\n",
    ")"
   ]
  },
  {
   "cell_type": "markdown",
   "metadata": {},
   "source": [
    "### From the above graph of overall data, we could see that the maximum variation after the year 2012. Hence we are preapring a new dataframe with the two years woth of data (2012 and 2013) for further analysis"
   ]
  },
  {
   "cell_type": "code",
   "execution_count": null,
   "metadata": {},
   "outputs": [],
   "source": [
    "date1= (df1['Date']>'2011-12-01')"
   ]
  },
  {
   "cell_type": "code",
   "execution_count": null,
   "metadata": {},
   "outputs": [],
   "source": [
    "plot4=df1.loc[date1]"
   ]
  },
  {
   "cell_type": "code",
   "execution_count": null,
   "metadata": {},
   "outputs": [],
   "source": [
    "df_new = pd.concat(plot4[plot4['County Councils'] == councils] for councils in county3)"
   ]
  },
  {
   "cell_type": "markdown",
   "metadata": {},
   "source": [
    "### Plot 4.2 - Using the below graph we are comparing the 2012 and 2013 connections for the above counties"
   ]
  },
  {
   "cell_type": "code",
   "execution_count": null,
   "metadata": {},
   "outputs": [],
   "source": [
    "alt.Chart(df_new).mark_line().encode(\n",
    "    x=alt.X(\n",
    "        \"Date\", \n",
    "        title=\"Month\",\n",
    "    ),\n",
    "    y=alt.Y(\n",
    "        \"count\",\n",
    "        title=\"ESB Connections\",\n",
    "    ),\n",
    "    color=\"County Councils\"\n",
    ")"
   ]
  },
  {
   "cell_type": "markdown",
   "metadata": {},
   "source": [
    "### Plot 4.3 - Here we are using the Horizontal Grouped Bar Chart which would help us tpo get the individual data in a better way"
   ]
  },
  {
   "cell_type": "code",
   "execution_count": null,
   "metadata": {},
   "outputs": [],
   "source": [
    "alt.Chart(df_new).mark_bar().encode(\n",
    "    x='sum(count)',\n",
    "   y=alt.Y(\n",
    "        \"Date\",\n",
    "        title=\"Month/Year\"),\n",
    "    color='County Councils'\n",
    "    \n",
    ")"
   ]
  },
  {
   "cell_type": "markdown",
   "metadata": {},
   "source": [
    "### Plot-5 : We are comparing the Limerick and Leitrim counties"
   ]
  },
  {
   "cell_type": "code",
   "execution_count": null,
   "metadata": {},
   "outputs": [],
   "source": [
    "df_new = df1[df1['County Councils'] == 'Limerick' ] "
   ]
  },
  {
   "cell_type": "code",
   "execution_count": null,
   "metadata": {},
   "outputs": [],
   "source": [
    "df_new['County Councils'].unique()"
   ]
  },
  {
   "cell_type": "code",
   "execution_count": null,
   "metadata": {},
   "outputs": [],
   "source": [
    "brush = alt.selection(type='interval')"
   ]
  },
  {
   "cell_type": "code",
   "execution_count": null,
   "metadata": {},
   "outputs": [],
   "source": [
    "points = alt.Chart(df_new).mark_point().encode(\n",
    "    x=alt.X(\n",
    "        \"Date\", \n",
    "        title=\"Month\",\n",
    "    ),\n",
    "    y=alt.Y(\n",
    "        \"count\",\n",
    "        title=\"ESB Connections\",\n",
    "    ),\n",
    "    color=alt.condition(brush, 'County Councils', alt.value('grey'))\n",
    ").add_selection(brush)"
   ]
  },
  {
   "cell_type": "raw",
   "metadata": {},
   "source": [
    "date1= (df1['Date']>'2006-12-01') & (df1['Date']<'2009-01-01') "
   ]
  },
  {
   "cell_type": "raw",
   "metadata": {},
   "source": [
    "plot5=df1.loc[date1]"
   ]
  },
  {
   "cell_type": "code",
   "execution_count": null,
   "metadata": {},
   "outputs": [],
   "source": [
    "df_new = df1[df1['County Councils'] == 'Leitrim' ] "
   ]
  },
  {
   "cell_type": "code",
   "execution_count": null,
   "metadata": {},
   "outputs": [],
   "source": [
    "points1 = alt.Chart(df_new).mark_point().encode(\n",
    "    x=alt.X(\n",
    "        \"Date\", \n",
    "        title=\"Month\",\n",
    "    ),\n",
    "    y=alt.Y(\n",
    "        \"count\",\n",
    "        title=\"ESB Connections\",\n",
    "    ),\n",
    "    color=alt.condition(brush, 'County Councils', alt.value('grey'))\n",
    ").add_selection(brush)"
   ]
  },
  {
   "cell_type": "markdown",
   "metadata": {},
   "source": [
    "### Plot 5.1 - We are individually comparing each counties data for the year 2006 - 2013"
   ]
  },
  {
   "cell_type": "code",
   "execution_count": null,
   "metadata": {},
   "outputs": [],
   "source": [
    "points|points1\n"
   ]
  },
  {
   "cell_type": "markdown",
   "metadata": {},
   "source": [
    "### Even though the entire graph distribution is the same for both the counties, there is a huge gap in their Y-axis scale.\n",
    "\n",
    "\n",
    "\n",
    "--------------\n",
    "\n",
    "### Plot 5.2 - For getting the acurate information we are plotting the same data using a Histogram"
   ]
  },
  {
   "cell_type": "code",
   "execution_count": null,
   "metadata": {},
   "outputs": [],
   "source": [
    "county4 = ['Limerick','Leitrim']"
   ]
  },
  {
   "cell_type": "code",
   "execution_count": null,
   "metadata": {},
   "outputs": [],
   "source": [
    "df_new = pd.concat(df1[df1['County Councils'] == councils ] for councils in county4)"
   ]
  },
  {
   "cell_type": "code",
   "execution_count": null,
   "metadata": {},
   "outputs": [],
   "source": [
    "alt.Chart(df_new).mark_bar().encode(\n",
    "    x=alt.X(\n",
    "        \"Date\", \n",
    "        title=\"Years\",\n",
    "    ),\n",
    "    y=alt.Y(\n",
    "        \"count\",\n",
    "        title=\"ESB Connections\",\n",
    "    ),\n",
    "    color='County Councils',\n",
    "    column='County Councils:N'\n",
    ")"
   ]
  },
  {
   "cell_type": "code",
   "execution_count": null,
   "metadata": {},
   "outputs": [],
   "source": []
  }
 ],
 "metadata": {
  "kernelspec": {
   "display_name": "Python 3",
   "language": "python",
   "name": "python3"
  },
  "language_info": {
   "codemirror_mode": {
    "name": "ipython",
    "version": 3
   },
   "file_extension": ".py",
   "mimetype": "text/x-python",
   "name": "python",
   "nbconvert_exporter": "python",
   "pygments_lexer": "ipython3",
   "version": "3.7.3"
  }
 },
 "nbformat": 4,
 "nbformat_minor": 2
}
